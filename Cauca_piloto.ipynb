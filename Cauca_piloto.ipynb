{
  "cells": [
    {
      "cell_type": "markdown",
      "metadata": {
        "id": "view-in-github",
        "colab_type": "text"
      },
      "source": [
        "<a href=\"https://colab.research.google.com/github/tdavila28/cauca_piloto/blob/main/Cauca_piloto.ipynb\" target=\"_parent\"><img src=\"https://colab.research.google.com/assets/colab-badge.svg\" alt=\"Open In Colab\"/></a>"
      ]
    },
    {
      "cell_type": "markdown",
      "metadata": {
        "id": "34GmHRsFQeKv"
      },
      "source": [
        "#Lectura y preprocesamiento de archivos Cauca (V_ENTREGA)##"
      ]
    },
    {
      "cell_type": "markdown",
      "metadata": {
        "id": "c2IbGZ5b46w4"
      },
      "source": [
        "#Entorno"
      ]
    },
    {
      "cell_type": "code",
      "source": [
        "%%capture\n",
        "!wget https://github.com/tdavila28/cauca_piloto/releases/download/inputs/Cauca_all.zip\n",
        "!unzip -o /content/Cauca_all.zip\n",
        "!rm /content/Cauca_all.zip"
      ],
      "metadata": {
        "id": "Cw_jDZTP_WyK"
      },
      "execution_count": null,
      "outputs": []
    },
    {
      "cell_type": "code",
      "source": [
        "%%capture\n",
        "from google.colab import drive\n",
        "drive.mount('/content/drive')"
      ],
      "metadata": {
        "id": "sU6BFy-oAZXP"
      },
      "execution_count": null,
      "outputs": []
    },
    {
      "cell_type": "markdown",
      "metadata": {
        "id": "Gpm1WaBqQW6Q"
      },
      "source": [
        "#Librerias e instalación de herramientas"
      ]
    },
    {
      "cell_type": "code",
      "execution_count": null,
      "metadata": {
        "id": "nO55Um-ZD3ZV"
      },
      "outputs": [],
      "source": [
        "%%capture\n",
        "!pip install geopandas\n",
        "!pip install rasterio\n",
        "#!pip install richdem\n"
      ]
    },
    {
      "cell_type": "code",
      "execution_count": null,
      "metadata": {
        "id": "W-bmAUFuEKch"
      },
      "outputs": [],
      "source": [
        "import osgeo\n",
        "import geopandas as gp\n",
        "import numpy as np\n",
        "from osgeo import gdal\n",
        "import pandas as pd\n",
        "import matplotlib.pyplot as plt"
      ]
    },
    {
      "cell_type": "code",
      "source": [
        "from osgeo import gdal, ogr,osr"
      ],
      "metadata": {
        "id": "BSZHFEJhn1H3"
      },
      "execution_count": null,
      "outputs": []
    },
    {
      "cell_type": "code",
      "execution_count": null,
      "metadata": {
        "id": "WOMjD7lT9mH_"
      },
      "outputs": [],
      "source": [
        "# explorar archivos\n",
        "import glob\n",
        "import os"
      ]
    },
    {
      "cell_type": "markdown",
      "metadata": {
        "id": "TPkG96MwQQFn"
      },
      "source": [
        "1. Importar capas_ exploratorias"
      ]
    },
    {
      "cell_type": "code",
      "execution_count": null,
      "metadata": {
        "id": "fUDjWRP3IJFy"
      },
      "outputs": [],
      "source": [
        "import rasterio\n",
        "from rasterio.plot import show\n",
        "import matplotlib.pyplot as plt"
      ]
    },
    {
      "cell_type": "markdown",
      "metadata": {
        "id": "qHdb3xIovBu8"
      },
      "source": []
    },
    {
      "cell_type": "code",
      "execution_count": null,
      "metadata": {
        "id": "01pW8iuo1Zxc"
      },
      "outputs": [],
      "source": [
        "#Abrir los tif\n",
        "import xarray as xr"
      ]
    },
    {
      "cell_type": "markdown",
      "metadata": {
        "id": "AMhUDcOp_HiC"
      },
      "source": [
        "#Importar capas de información#\n"
      ]
    },
    {
      "cell_type": "code",
      "execution_count": null,
      "metadata": {
        "id": "NSRKFPPNERTg"
      },
      "outputs": [],
      "source": [
        "cauca_area=gp.read_file(\"/content/Cauca_all/limite_cauca.shp\")\n",
        "paramos=gp.read_file(\"/content/Cauca_all/paramos.shp\")\n",
        "humedales=gp.read_file(\"/content/Cauca_all/humedales.shp\")"
      ]
    },
    {
      "cell_type": "code",
      "execution_count": null,
      "metadata": {
        "id": "qkb-5Ar9JSRu"
      },
      "outputs": [],
      "source": [
        "Ramsar=gp.read_file(\"/content/Cauca_all/RAMSAR.shp\")\n",
        "Amb_RUNAP=gp.read_file(\"/content/Cauca_all/Runap.shp\")\n",
        "Amb_ley2=gp.read_file(\"/content/Cauca_all/ley2da.shp\")\n"
      ]
    },
    {
      "cell_type": "code",
      "execution_count": null,
      "metadata": {
        "id": "Wa8ADmDUJVfO"
      },
      "outputs": [],
      "source": [
        "Via=gp.read_file(\"/content/Cauca_all/vias.shp\")\n",
        "Drenaje_sencillo=gp.read_file(\"/content/Cauca_all/drenaje_sencillo.shp\")\n",
        "Drenaje_doble=gp.read_file(\"/content/Cauca_all/drenaje_doble.shp\")\n",
        "centro_poblado_mascabeceras=gp.read_file(\"/content/Cauca_all/cent_pob_cabeceras.shp\")"
      ]
    },
    {
      "cell_type": "code",
      "execution_count": null,
      "metadata": {
        "id": "r87_-zFiJalM"
      },
      "outputs": [],
      "source": [
        "Comunidades_negras=gp.read_file(\"/content/Cauca_all/comunid_negras.shp\")\n",
        "Resguardo_Indigena=gp.read_file(\"/content/Cauca_all/resguardos.shp\")"
      ]
    },
    {
      "cell_type": "code",
      "source": [
        "#Zona_Reserva_Campesina=gp.read_file(\"/content/Cauca_all/zona_reserva_campesina_Argelia.shp\") No hay en la zona de estudio de acuerdo a los mapas. (No es asi en la realidad)\n",
        "#municipios=gp.read_file(\"/content/Cauca_all/Muni_Cauca.shp\")\n",
        "#buffer25m=gp.read_file(\"/content/Cauca_all/Argelia_buffer_25m.shp\")"
      ],
      "metadata": {
        "id": "jmvE2d7CGiju"
      },
      "execution_count": null,
      "outputs": []
    },
    {
      "cell_type": "markdown",
      "metadata": {
        "id": "-VT_DcBSCkxG"
      },
      "source": [
        "#Operación Geospacial: merge ambiental y social# "
      ]
    },
    {
      "cell_type": "code",
      "execution_count": null,
      "metadata": {
        "id": "9uS8r4gxCj0-",
        "colab": {
          "base_uri": "https://localhost:8080/"
        },
        "outputId": "ea5fed1c-ea5d-4d68-df56-754679bd1430"
      },
      "outputs": [
        {
          "output_type": "stream",
          "name": "stderr",
          "text": [
            "<ipython-input-55-792e22f65da9>:1: UserWarning: `keep_geom_type=True` in overlay resulted in 24 dropped geometries of different geometry types than df1 has. Set `keep_geom_type=False` to retain all geometries\n",
            "  union_ambiental1=gp.overlay(paramos,humedales, how='union') #quitamos Ramsar, es cero. reemplazamos por humedales\n"
          ]
        }
      ],
      "source": [
        "union_ambiental1=gp.overlay(paramos,humedales, how='union') #se quita Ramsar, es cero. reemplacé por humedales "
      ]
    },
    {
      "cell_type": "code",
      "execution_count": null,
      "metadata": {
        "id": "zjD9IMUMxvvZ",
        "colab": {
          "base_uri": "https://localhost:8080/"
        },
        "outputId": "e894e8b0-cdf6-4cc2-8c23-0acee64da1ae"
      },
      "outputs": [
        {
          "output_type": "stream",
          "name": "stderr",
          "text": [
            "<ipython-input-56-c4bebf1db912>:1: UserWarning: `keep_geom_type=True` in overlay resulted in 132 dropped geometries of different geometry types than df1 has. Set `keep_geom_type=False` to retain all geometries\n",
            "  union_ambiental2=gp.overlay(Amb_RUNAP,Amb_ley2, how='union')\n"
          ]
        }
      ],
      "source": [
        "union_ambiental2=gp.overlay(Amb_RUNAP,Amb_ley2, how='union')"
      ]
    },
    {
      "cell_type": "code",
      "source": [
        "all_union_amb=gp.overlay(union_ambiental1,union_ambiental2, how='union',keep_geom_type=True)"
      ],
      "metadata": {
        "id": "iZwDmPq0FU__"
      },
      "execution_count": null,
      "outputs": []
    },
    {
      "cell_type": "code",
      "source": [
        "all_union_amb.to_file(\"/content/drive/MyDrive/Cauca_all/ambiental_union_verificacion\", index=False)\n",
        "#all_union_amb.to_file('/vsicurl/https://github.com/tdavila28/cauca_piloto/unionamb/unionamb', index=False)\n",
        "#print(all_union_amb.head())"
      ],
      "metadata": {
        "id": "qQwKAiTypPvq"
      },
      "execution_count": null,
      "outputs": []
    },
    {
      "cell_type": "code",
      "execution_count": null,
      "metadata": {
        "colab": {
          "base_uri": "https://localhost:8080/",
          "height": 559
        },
        "id": "j6gAalnwTa2_",
        "outputId": "b6a12746-2535-4941-eb3d-d76f75dfddc3"
      },
      "outputs": [
        {
          "output_type": "execute_result",
          "data": {
            "text/plain": [
              "   OBJECTID_1_1      Id  Nombre   Escala  \\\n",
              "0           7.0  PD_026  Sotará  100.000   \n",
              "1           7.0  PD_026  Sotará  100.000   \n",
              "2           7.0  PD_026  Sotará  100.000   \n",
              "3           7.0  PD_026  Sotará  100.000   \n",
              "4           7.0  PD_026  Sotará  100.000   \n",
              "\n",
              "                                Acto_Admin  Fecha_Acto  No_Poligon  \\\n",
              "0  Resolución No. 179 de Febrero 6 de 2018  2018-02-06         0.0   \n",
              "1  Resolución No. 179 de Febrero 6 de 2018  2018-02-06         0.0   \n",
              "2  Resolución No. 179 de Febrero 6 de 2018  2018-02-06         0.0   \n",
              "3  Resolución No. 179 de Febrero 6 de 2018  2018-02-06         0.0   \n",
              "4  Resolución No. 179 de Febrero 6 de 2018  2018-02-06         0.0   \n",
              "\n",
              "        Fuente     Area_Ha_1 Fecha_Ingr_1  ...       area_ha  \\\n",
              "0  Minambiente  71544.003472   2020-07-22  ...  1.493062e+06   \n",
              "1  Minambiente  71544.003472   2020-07-22  ...  1.493062e+06   \n",
              "2  Minambiente  71544.003472   2020-07-22  ...  1.493062e+06   \n",
              "3  Minambiente  71544.003472   2020-07-22  ...  1.493062e+06   \n",
              "4  Minambiente  71544.003472   2020-07-22  ...  1.493062e+06   \n",
              "\n",
              "                               res_zoni  fecha_ingr  fecha_reco  st_area_sh  \\\n",
              "0  Resolucion 1922 De 2013 Zonificacion  2022-12-01  2022-12-01    1.214107   \n",
              "1  Resolucion 1922 De 2013 Zonificacion  2022-12-01  2022-12-01    1.214107   \n",
              "2  Resolucion 1922 De 2013 Zonificacion  2022-12-01  2022-12-01    1.214107   \n",
              "3  Resolucion 1922 De 2013 Zonificacion  2022-12-01  2022-12-01    1.214107   \n",
              "4  Resolucion 1922 De 2013 Zonificacion  2022-12-01  2022-12-01    1.214107   \n",
              "\n",
              "   st_perimet  Shape_Leng_2_2  Shape_Area_2_2  \\\n",
              "0   19.585527    767961.35174    3.839587e+09   \n",
              "1   19.585527    767961.35174    3.839587e+09   \n",
              "2   19.585527    767961.35174    3.839587e+09   \n",
              "3   19.585527    767961.35174    3.839587e+09   \n",
              "4   19.585527    767961.35174    3.839587e+09   \n",
              "\n",
              "                                            geometry  valor_comun  \n",
              "0  MULTIPOLYGON (((4597602.680 1768038.090, 45975...            1  \n",
              "1  POLYGON ((4597258.851 1768180.313, 4597291.238...            1  \n",
              "2  MULTIPOLYGON (((4598017.776 1764188.296, 45980...            1  \n",
              "3  POLYGON ((4597804.483 1764288.215, 4597810.123...            1  \n",
              "4  POLYGON ((4597709.915 1764023.919, 4597742.436...            1  \n",
              "\n",
              "[5 rows x 57 columns]"
            ],
            "text/html": [
              "\n",
              "  <div id=\"df-0db0e6a9-23b0-4a47-898b-06d2aa0f886e\">\n",
              "    <div class=\"colab-df-container\">\n",
              "      <div>\n",
              "<style scoped>\n",
              "    .dataframe tbody tr th:only-of-type {\n",
              "        vertical-align: middle;\n",
              "    }\n",
              "\n",
              "    .dataframe tbody tr th {\n",
              "        vertical-align: top;\n",
              "    }\n",
              "\n",
              "    .dataframe thead th {\n",
              "        text-align: right;\n",
              "    }\n",
              "</style>\n",
              "<table border=\"1\" class=\"dataframe\">\n",
              "  <thead>\n",
              "    <tr style=\"text-align: right;\">\n",
              "      <th></th>\n",
              "      <th>OBJECTID_1_1</th>\n",
              "      <th>Id</th>\n",
              "      <th>Nombre</th>\n",
              "      <th>Escala</th>\n",
              "      <th>Acto_Admin</th>\n",
              "      <th>Fecha_Acto</th>\n",
              "      <th>No_Poligon</th>\n",
              "      <th>Fuente</th>\n",
              "      <th>Area_Ha_1</th>\n",
              "      <th>Fecha_Ingr_1</th>\n",
              "      <th>...</th>\n",
              "      <th>area_ha</th>\n",
              "      <th>res_zoni</th>\n",
              "      <th>fecha_ingr</th>\n",
              "      <th>fecha_reco</th>\n",
              "      <th>st_area_sh</th>\n",
              "      <th>st_perimet</th>\n",
              "      <th>Shape_Leng_2_2</th>\n",
              "      <th>Shape_Area_2_2</th>\n",
              "      <th>geometry</th>\n",
              "      <th>valor_comun</th>\n",
              "    </tr>\n",
              "  </thead>\n",
              "  <tbody>\n",
              "    <tr>\n",
              "      <th>0</th>\n",
              "      <td>7.0</td>\n",
              "      <td>PD_026</td>\n",
              "      <td>Sotará</td>\n",
              "      <td>100.000</td>\n",
              "      <td>Resolución No. 179 de Febrero 6 de 2018</td>\n",
              "      <td>2018-02-06</td>\n",
              "      <td>0.0</td>\n",
              "      <td>Minambiente</td>\n",
              "      <td>71544.003472</td>\n",
              "      <td>2020-07-22</td>\n",
              "      <td>...</td>\n",
              "      <td>1.493062e+06</td>\n",
              "      <td>Resolucion 1922 De 2013 Zonificacion</td>\n",
              "      <td>2022-12-01</td>\n",
              "      <td>2022-12-01</td>\n",
              "      <td>1.214107</td>\n",
              "      <td>19.585527</td>\n",
              "      <td>767961.35174</td>\n",
              "      <td>3.839587e+09</td>\n",
              "      <td>MULTIPOLYGON (((4597602.680 1768038.090, 45975...</td>\n",
              "      <td>1</td>\n",
              "    </tr>\n",
              "    <tr>\n",
              "      <th>1</th>\n",
              "      <td>7.0</td>\n",
              "      <td>PD_026</td>\n",
              "      <td>Sotará</td>\n",
              "      <td>100.000</td>\n",
              "      <td>Resolución No. 179 de Febrero 6 de 2018</td>\n",
              "      <td>2018-02-06</td>\n",
              "      <td>0.0</td>\n",
              "      <td>Minambiente</td>\n",
              "      <td>71544.003472</td>\n",
              "      <td>2020-07-22</td>\n",
              "      <td>...</td>\n",
              "      <td>1.493062e+06</td>\n",
              "      <td>Resolucion 1922 De 2013 Zonificacion</td>\n",
              "      <td>2022-12-01</td>\n",
              "      <td>2022-12-01</td>\n",
              "      <td>1.214107</td>\n",
              "      <td>19.585527</td>\n",
              "      <td>767961.35174</td>\n",
              "      <td>3.839587e+09</td>\n",
              "      <td>POLYGON ((4597258.851 1768180.313, 4597291.238...</td>\n",
              "      <td>1</td>\n",
              "    </tr>\n",
              "    <tr>\n",
              "      <th>2</th>\n",
              "      <td>7.0</td>\n",
              "      <td>PD_026</td>\n",
              "      <td>Sotará</td>\n",
              "      <td>100.000</td>\n",
              "      <td>Resolución No. 179 de Febrero 6 de 2018</td>\n",
              "      <td>2018-02-06</td>\n",
              "      <td>0.0</td>\n",
              "      <td>Minambiente</td>\n",
              "      <td>71544.003472</td>\n",
              "      <td>2020-07-22</td>\n",
              "      <td>...</td>\n",
              "      <td>1.493062e+06</td>\n",
              "      <td>Resolucion 1922 De 2013 Zonificacion</td>\n",
              "      <td>2022-12-01</td>\n",
              "      <td>2022-12-01</td>\n",
              "      <td>1.214107</td>\n",
              "      <td>19.585527</td>\n",
              "      <td>767961.35174</td>\n",
              "      <td>3.839587e+09</td>\n",
              "      <td>MULTIPOLYGON (((4598017.776 1764188.296, 45980...</td>\n",
              "      <td>1</td>\n",
              "    </tr>\n",
              "    <tr>\n",
              "      <th>3</th>\n",
              "      <td>7.0</td>\n",
              "      <td>PD_026</td>\n",
              "      <td>Sotará</td>\n",
              "      <td>100.000</td>\n",
              "      <td>Resolución No. 179 de Febrero 6 de 2018</td>\n",
              "      <td>2018-02-06</td>\n",
              "      <td>0.0</td>\n",
              "      <td>Minambiente</td>\n",
              "      <td>71544.003472</td>\n",
              "      <td>2020-07-22</td>\n",
              "      <td>...</td>\n",
              "      <td>1.493062e+06</td>\n",
              "      <td>Resolucion 1922 De 2013 Zonificacion</td>\n",
              "      <td>2022-12-01</td>\n",
              "      <td>2022-12-01</td>\n",
              "      <td>1.214107</td>\n",
              "      <td>19.585527</td>\n",
              "      <td>767961.35174</td>\n",
              "      <td>3.839587e+09</td>\n",
              "      <td>POLYGON ((4597804.483 1764288.215, 4597810.123...</td>\n",
              "      <td>1</td>\n",
              "    </tr>\n",
              "    <tr>\n",
              "      <th>4</th>\n",
              "      <td>7.0</td>\n",
              "      <td>PD_026</td>\n",
              "      <td>Sotará</td>\n",
              "      <td>100.000</td>\n",
              "      <td>Resolución No. 179 de Febrero 6 de 2018</td>\n",
              "      <td>2018-02-06</td>\n",
              "      <td>0.0</td>\n",
              "      <td>Minambiente</td>\n",
              "      <td>71544.003472</td>\n",
              "      <td>2020-07-22</td>\n",
              "      <td>...</td>\n",
              "      <td>1.493062e+06</td>\n",
              "      <td>Resolucion 1922 De 2013 Zonificacion</td>\n",
              "      <td>2022-12-01</td>\n",
              "      <td>2022-12-01</td>\n",
              "      <td>1.214107</td>\n",
              "      <td>19.585527</td>\n",
              "      <td>767961.35174</td>\n",
              "      <td>3.839587e+09</td>\n",
              "      <td>POLYGON ((4597709.915 1764023.919, 4597742.436...</td>\n",
              "      <td>1</td>\n",
              "    </tr>\n",
              "  </tbody>\n",
              "</table>\n",
              "<p>5 rows × 57 columns</p>\n",
              "</div>\n",
              "      <button class=\"colab-df-convert\" onclick=\"convertToInteractive('df-0db0e6a9-23b0-4a47-898b-06d2aa0f886e')\"\n",
              "              title=\"Convert this dataframe to an interactive table.\"\n",
              "              style=\"display:none;\">\n",
              "        \n",
              "  <svg xmlns=\"http://www.w3.org/2000/svg\" height=\"24px\"viewBox=\"0 0 24 24\"\n",
              "       width=\"24px\">\n",
              "    <path d=\"M0 0h24v24H0V0z\" fill=\"none\"/>\n",
              "    <path d=\"M18.56 5.44l.94 2.06.94-2.06 2.06-.94-2.06-.94-.94-2.06-.94 2.06-2.06.94zm-11 1L8.5 8.5l.94-2.06 2.06-.94-2.06-.94L8.5 2.5l-.94 2.06-2.06.94zm10 10l.94 2.06.94-2.06 2.06-.94-2.06-.94-.94-2.06-.94 2.06-2.06.94z\"/><path d=\"M17.41 7.96l-1.37-1.37c-.4-.4-.92-.59-1.43-.59-.52 0-1.04.2-1.43.59L10.3 9.45l-7.72 7.72c-.78.78-.78 2.05 0 2.83L4 21.41c.39.39.9.59 1.41.59.51 0 1.02-.2 1.41-.59l7.78-7.78 2.81-2.81c.8-.78.8-2.07 0-2.86zM5.41 20L4 18.59l7.72-7.72 1.47 1.35L5.41 20z\"/>\n",
              "  </svg>\n",
              "      </button>\n",
              "      \n",
              "  <style>\n",
              "    .colab-df-container {\n",
              "      display:flex;\n",
              "      flex-wrap:wrap;\n",
              "      gap: 12px;\n",
              "    }\n",
              "\n",
              "    .colab-df-convert {\n",
              "      background-color: #E8F0FE;\n",
              "      border: none;\n",
              "      border-radius: 50%;\n",
              "      cursor: pointer;\n",
              "      display: none;\n",
              "      fill: #1967D2;\n",
              "      height: 32px;\n",
              "      padding: 0 0 0 0;\n",
              "      width: 32px;\n",
              "    }\n",
              "\n",
              "    .colab-df-convert:hover {\n",
              "      background-color: #E2EBFA;\n",
              "      box-shadow: 0px 1px 2px rgba(60, 64, 67, 0.3), 0px 1px 3px 1px rgba(60, 64, 67, 0.15);\n",
              "      fill: #174EA6;\n",
              "    }\n",
              "\n",
              "    [theme=dark] .colab-df-convert {\n",
              "      background-color: #3B4455;\n",
              "      fill: #D2E3FC;\n",
              "    }\n",
              "\n",
              "    [theme=dark] .colab-df-convert:hover {\n",
              "      background-color: #434B5C;\n",
              "      box-shadow: 0px 1px 3px 1px rgba(0, 0, 0, 0.15);\n",
              "      filter: drop-shadow(0px 1px 2px rgba(0, 0, 0, 0.3));\n",
              "      fill: #FFFFFF;\n",
              "    }\n",
              "  </style>\n",
              "\n",
              "      <script>\n",
              "        const buttonEl =\n",
              "          document.querySelector('#df-0db0e6a9-23b0-4a47-898b-06d2aa0f886e button.colab-df-convert');\n",
              "        buttonEl.style.display =\n",
              "          google.colab.kernel.accessAllowed ? 'block' : 'none';\n",
              "\n",
              "        async function convertToInteractive(key) {\n",
              "          const element = document.querySelector('#df-0db0e6a9-23b0-4a47-898b-06d2aa0f886e');\n",
              "          const dataTable =\n",
              "            await google.colab.kernel.invokeFunction('convertToInteractive',\n",
              "                                                     [key], {});\n",
              "          if (!dataTable) return;\n",
              "\n",
              "          const docLinkHtml = 'Like what you see? Visit the ' +\n",
              "            '<a target=\"_blank\" href=https://colab.research.google.com/notebooks/data_table.ipynb>data table notebook</a>'\n",
              "            + ' to learn more about interactive tables.';\n",
              "          element.innerHTML = '';\n",
              "          dataTable['output_type'] = 'display_data';\n",
              "          await google.colab.output.renderOutput(dataTable, element);\n",
              "          const docLink = document.createElement('div');\n",
              "          docLink.innerHTML = docLinkHtml;\n",
              "          element.appendChild(docLink);\n",
              "        }\n",
              "      </script>\n",
              "    </div>\n",
              "  </div>\n",
              "  "
            ]
          },
          "metadata": {},
          "execution_count": 102
        }
      ],
      "source": [
        "all_union_amb.head()"
      ]
    },
    {
      "cell_type": "code",
      "source": [
        "all_union_amb.head()"
      ],
      "metadata": {
        "colab": {
          "base_uri": "https://localhost:8080/",
          "height": 560
        },
        "id": "oKdLMs5RLryB",
        "outputId": "bccbfac7-a853-41bc-e373-c789ef1b003c"
      },
      "execution_count": null,
      "outputs": [
        {
          "output_type": "execute_result",
          "data": {
            "text/plain": [
              "   OBJECTID_1_1      Id  Nombre   Escala  \\\n",
              "0           7.0  PD_026  Sotará  100.000   \n",
              "1           7.0  PD_026  Sotará  100.000   \n",
              "2           7.0  PD_026  Sotará  100.000   \n",
              "3           7.0  PD_026  Sotará  100.000   \n",
              "4           7.0  PD_026  Sotará  100.000   \n",
              "\n",
              "                                Acto_Admin  Fecha_Acto  No_Poligon  \\\n",
              "0  Resolución No. 179 de Febrero 6 de 2018  2018-02-06         0.0   \n",
              "1  Resolución No. 179 de Febrero 6 de 2018  2018-02-06         0.0   \n",
              "2  Resolución No. 179 de Febrero 6 de 2018  2018-02-06         0.0   \n",
              "3  Resolución No. 179 de Febrero 6 de 2018  2018-02-06         0.0   \n",
              "4  Resolución No. 179 de Febrero 6 de 2018  2018-02-06         0.0   \n",
              "\n",
              "        Fuente     Area_Ha_1 Fecha_Ingr_1  ...  fecha_ingr  fecha_reco  \\\n",
              "0  Minambiente  71544.003472   2020-07-22  ...  2022-12-01  2022-12-01   \n",
              "1  Minambiente  71544.003472   2020-07-22  ...  2022-12-01  2022-12-01   \n",
              "2  Minambiente  71544.003472   2020-07-22  ...  2022-12-01  2022-12-01   \n",
              "3  Minambiente  71544.003472   2020-07-22  ...  2022-12-01  2022-12-01   \n",
              "4  Minambiente  71544.003472   2020-07-22  ...  2022-12-01  2022-12-01   \n",
              "\n",
              "   st_area_sh  st_perimet  Shape_Leng_2_2  Shape_Area_2_2  \\\n",
              "0    1.214107   19.585527    767961.35174    3.839587e+09   \n",
              "1    1.214107   19.585527    767961.35174    3.839587e+09   \n",
              "2    1.214107   19.585527    767961.35174    3.839587e+09   \n",
              "3    1.214107   19.585527    767961.35174    3.839587e+09   \n",
              "4    1.214107   19.585527    767961.35174    3.839587e+09   \n",
              "\n",
              "                                            geometry  \\\n",
              "0  MULTIPOLYGON (((4597602.680 1768038.090, 45975...   \n",
              "1  POLYGON ((4597258.851 1768180.313, 4597291.238...   \n",
              "2  MULTIPOLYGON (((4598017.776 1764188.296, 45980...   \n",
              "3  POLYGON ((4597804.483 1764288.215, 4597810.123...   \n",
              "4  POLYGON ((4597709.915 1764023.919, 4597742.436...   \n",
              "\n",
              "                          area_final        area_m2  valor_comun  \n",
              "0  <function area at 0x7fdabcd67820>   12452.419971            1  \n",
              "1  <function area at 0x7fdabcd67820>  175501.019472            1  \n",
              "2  <function area at 0x7fdabcd67820>    6174.755182            1  \n",
              "3  <function area at 0x7fdabcd67820>  157011.660405            1  \n",
              "4  <function area at 0x7fdabcd67820>    1739.184223            1  \n",
              "\n",
              "[5 rows x 59 columns]"
            ],
            "text/html": [
              "\n",
              "  <div id=\"df-72125f3f-c623-4d18-9db8-9272fe1449fb\">\n",
              "    <div class=\"colab-df-container\">\n",
              "      <div>\n",
              "<style scoped>\n",
              "    .dataframe tbody tr th:only-of-type {\n",
              "        vertical-align: middle;\n",
              "    }\n",
              "\n",
              "    .dataframe tbody tr th {\n",
              "        vertical-align: top;\n",
              "    }\n",
              "\n",
              "    .dataframe thead th {\n",
              "        text-align: right;\n",
              "    }\n",
              "</style>\n",
              "<table border=\"1\" class=\"dataframe\">\n",
              "  <thead>\n",
              "    <tr style=\"text-align: right;\">\n",
              "      <th></th>\n",
              "      <th>OBJECTID_1_1</th>\n",
              "      <th>Id</th>\n",
              "      <th>Nombre</th>\n",
              "      <th>Escala</th>\n",
              "      <th>Acto_Admin</th>\n",
              "      <th>Fecha_Acto</th>\n",
              "      <th>No_Poligon</th>\n",
              "      <th>Fuente</th>\n",
              "      <th>Area_Ha_1</th>\n",
              "      <th>Fecha_Ingr_1</th>\n",
              "      <th>...</th>\n",
              "      <th>fecha_ingr</th>\n",
              "      <th>fecha_reco</th>\n",
              "      <th>st_area_sh</th>\n",
              "      <th>st_perimet</th>\n",
              "      <th>Shape_Leng_2_2</th>\n",
              "      <th>Shape_Area_2_2</th>\n",
              "      <th>geometry</th>\n",
              "      <th>area_final</th>\n",
              "      <th>area_m2</th>\n",
              "      <th>valor_comun</th>\n",
              "    </tr>\n",
              "  </thead>\n",
              "  <tbody>\n",
              "    <tr>\n",
              "      <th>0</th>\n",
              "      <td>7.0</td>\n",
              "      <td>PD_026</td>\n",
              "      <td>Sotará</td>\n",
              "      <td>100.000</td>\n",
              "      <td>Resolución No. 179 de Febrero 6 de 2018</td>\n",
              "      <td>2018-02-06</td>\n",
              "      <td>0.0</td>\n",
              "      <td>Minambiente</td>\n",
              "      <td>71544.003472</td>\n",
              "      <td>2020-07-22</td>\n",
              "      <td>...</td>\n",
              "      <td>2022-12-01</td>\n",
              "      <td>2022-12-01</td>\n",
              "      <td>1.214107</td>\n",
              "      <td>19.585527</td>\n",
              "      <td>767961.35174</td>\n",
              "      <td>3.839587e+09</td>\n",
              "      <td>MULTIPOLYGON (((4597602.680 1768038.090, 45975...</td>\n",
              "      <td>&lt;function area at 0x7fdabcd67820&gt;</td>\n",
              "      <td>12452.419971</td>\n",
              "      <td>1</td>\n",
              "    </tr>\n",
              "    <tr>\n",
              "      <th>1</th>\n",
              "      <td>7.0</td>\n",
              "      <td>PD_026</td>\n",
              "      <td>Sotará</td>\n",
              "      <td>100.000</td>\n",
              "      <td>Resolución No. 179 de Febrero 6 de 2018</td>\n",
              "      <td>2018-02-06</td>\n",
              "      <td>0.0</td>\n",
              "      <td>Minambiente</td>\n",
              "      <td>71544.003472</td>\n",
              "      <td>2020-07-22</td>\n",
              "      <td>...</td>\n",
              "      <td>2022-12-01</td>\n",
              "      <td>2022-12-01</td>\n",
              "      <td>1.214107</td>\n",
              "      <td>19.585527</td>\n",
              "      <td>767961.35174</td>\n",
              "      <td>3.839587e+09</td>\n",
              "      <td>POLYGON ((4597258.851 1768180.313, 4597291.238...</td>\n",
              "      <td>&lt;function area at 0x7fdabcd67820&gt;</td>\n",
              "      <td>175501.019472</td>\n",
              "      <td>1</td>\n",
              "    </tr>\n",
              "    <tr>\n",
              "      <th>2</th>\n",
              "      <td>7.0</td>\n",
              "      <td>PD_026</td>\n",
              "      <td>Sotará</td>\n",
              "      <td>100.000</td>\n",
              "      <td>Resolución No. 179 de Febrero 6 de 2018</td>\n",
              "      <td>2018-02-06</td>\n",
              "      <td>0.0</td>\n",
              "      <td>Minambiente</td>\n",
              "      <td>71544.003472</td>\n",
              "      <td>2020-07-22</td>\n",
              "      <td>...</td>\n",
              "      <td>2022-12-01</td>\n",
              "      <td>2022-12-01</td>\n",
              "      <td>1.214107</td>\n",
              "      <td>19.585527</td>\n",
              "      <td>767961.35174</td>\n",
              "      <td>3.839587e+09</td>\n",
              "      <td>MULTIPOLYGON (((4598017.776 1764188.296, 45980...</td>\n",
              "      <td>&lt;function area at 0x7fdabcd67820&gt;</td>\n",
              "      <td>6174.755182</td>\n",
              "      <td>1</td>\n",
              "    </tr>\n",
              "    <tr>\n",
              "      <th>3</th>\n",
              "      <td>7.0</td>\n",
              "      <td>PD_026</td>\n",
              "      <td>Sotará</td>\n",
              "      <td>100.000</td>\n",
              "      <td>Resolución No. 179 de Febrero 6 de 2018</td>\n",
              "      <td>2018-02-06</td>\n",
              "      <td>0.0</td>\n",
              "      <td>Minambiente</td>\n",
              "      <td>71544.003472</td>\n",
              "      <td>2020-07-22</td>\n",
              "      <td>...</td>\n",
              "      <td>2022-12-01</td>\n",
              "      <td>2022-12-01</td>\n",
              "      <td>1.214107</td>\n",
              "      <td>19.585527</td>\n",
              "      <td>767961.35174</td>\n",
              "      <td>3.839587e+09</td>\n",
              "      <td>POLYGON ((4597804.483 1764288.215, 4597810.123...</td>\n",
              "      <td>&lt;function area at 0x7fdabcd67820&gt;</td>\n",
              "      <td>157011.660405</td>\n",
              "      <td>1</td>\n",
              "    </tr>\n",
              "    <tr>\n",
              "      <th>4</th>\n",
              "      <td>7.0</td>\n",
              "      <td>PD_026</td>\n",
              "      <td>Sotará</td>\n",
              "      <td>100.000</td>\n",
              "      <td>Resolución No. 179 de Febrero 6 de 2018</td>\n",
              "      <td>2018-02-06</td>\n",
              "      <td>0.0</td>\n",
              "      <td>Minambiente</td>\n",
              "      <td>71544.003472</td>\n",
              "      <td>2020-07-22</td>\n",
              "      <td>...</td>\n",
              "      <td>2022-12-01</td>\n",
              "      <td>2022-12-01</td>\n",
              "      <td>1.214107</td>\n",
              "      <td>19.585527</td>\n",
              "      <td>767961.35174</td>\n",
              "      <td>3.839587e+09</td>\n",
              "      <td>POLYGON ((4597709.915 1764023.919, 4597742.436...</td>\n",
              "      <td>&lt;function area at 0x7fdabcd67820&gt;</td>\n",
              "      <td>1739.184223</td>\n",
              "      <td>1</td>\n",
              "    </tr>\n",
              "  </tbody>\n",
              "</table>\n",
              "<p>5 rows × 59 columns</p>\n",
              "</div>\n",
              "      <button class=\"colab-df-convert\" onclick=\"convertToInteractive('df-72125f3f-c623-4d18-9db8-9272fe1449fb')\"\n",
              "              title=\"Convert this dataframe to an interactive table.\"\n",
              "              style=\"display:none;\">\n",
              "        \n",
              "  <svg xmlns=\"http://www.w3.org/2000/svg\" height=\"24px\"viewBox=\"0 0 24 24\"\n",
              "       width=\"24px\">\n",
              "    <path d=\"M0 0h24v24H0V0z\" fill=\"none\"/>\n",
              "    <path d=\"M18.56 5.44l.94 2.06.94-2.06 2.06-.94-2.06-.94-.94-2.06-.94 2.06-2.06.94zm-11 1L8.5 8.5l.94-2.06 2.06-.94-2.06-.94L8.5 2.5l-.94 2.06-2.06.94zm10 10l.94 2.06.94-2.06 2.06-.94-2.06-.94-.94-2.06-.94 2.06-2.06.94z\"/><path d=\"M17.41 7.96l-1.37-1.37c-.4-.4-.92-.59-1.43-.59-.52 0-1.04.2-1.43.59L10.3 9.45l-7.72 7.72c-.78.78-.78 2.05 0 2.83L4 21.41c.39.39.9.59 1.41.59.51 0 1.02-.2 1.41-.59l7.78-7.78 2.81-2.81c.8-.78.8-2.07 0-2.86zM5.41 20L4 18.59l7.72-7.72 1.47 1.35L5.41 20z\"/>\n",
              "  </svg>\n",
              "      </button>\n",
              "      \n",
              "  <style>\n",
              "    .colab-df-container {\n",
              "      display:flex;\n",
              "      flex-wrap:wrap;\n",
              "      gap: 12px;\n",
              "    }\n",
              "\n",
              "    .colab-df-convert {\n",
              "      background-color: #E8F0FE;\n",
              "      border: none;\n",
              "      border-radius: 50%;\n",
              "      cursor: pointer;\n",
              "      display: none;\n",
              "      fill: #1967D2;\n",
              "      height: 32px;\n",
              "      padding: 0 0 0 0;\n",
              "      width: 32px;\n",
              "    }\n",
              "\n",
              "    .colab-df-convert:hover {\n",
              "      background-color: #E2EBFA;\n",
              "      box-shadow: 0px 1px 2px rgba(60, 64, 67, 0.3), 0px 1px 3px 1px rgba(60, 64, 67, 0.15);\n",
              "      fill: #174EA6;\n",
              "    }\n",
              "\n",
              "    [theme=dark] .colab-df-convert {\n",
              "      background-color: #3B4455;\n",
              "      fill: #D2E3FC;\n",
              "    }\n",
              "\n",
              "    [theme=dark] .colab-df-convert:hover {\n",
              "      background-color: #434B5C;\n",
              "      box-shadow: 0px 1px 3px 1px rgba(0, 0, 0, 0.15);\n",
              "      filter: drop-shadow(0px 1px 2px rgba(0, 0, 0, 0.3));\n",
              "      fill: #FFFFFF;\n",
              "    }\n",
              "  </style>\n",
              "\n",
              "      <script>\n",
              "        const buttonEl =\n",
              "          document.querySelector('#df-72125f3f-c623-4d18-9db8-9272fe1449fb button.colab-df-convert');\n",
              "        buttonEl.style.display =\n",
              "          google.colab.kernel.accessAllowed ? 'block' : 'none';\n",
              "\n",
              "        async function convertToInteractive(key) {\n",
              "          const element = document.querySelector('#df-72125f3f-c623-4d18-9db8-9272fe1449fb');\n",
              "          const dataTable =\n",
              "            await google.colab.kernel.invokeFunction('convertToInteractive',\n",
              "                                                     [key], {});\n",
              "          if (!dataTable) return;\n",
              "\n",
              "          const docLinkHtml = 'Like what you see? Visit the ' +\n",
              "            '<a target=\"_blank\" href=https://colab.research.google.com/notebooks/data_table.ipynb>data table notebook</a>'\n",
              "            + ' to learn more about interactive tables.';\n",
              "          element.innerHTML = '';\n",
              "          dataTable['output_type'] = 'display_data';\n",
              "          await google.colab.output.renderOutput(dataTable, element);\n",
              "          const docLink = document.createElement('div');\n",
              "          docLink.innerHTML = docLinkHtml;\n",
              "          element.appendChild(docLink);\n",
              "        }\n",
              "      </script>\n",
              "    </div>\n",
              "  </div>\n",
              "  "
            ]
          },
          "metadata": {},
          "execution_count": 104
        }
      ]
    },
    {
      "cell_type": "markdown",
      "source": [
        "CREAMOS UN NUEVO CAMPO COMO UN VALOR COMUN ENTRE TODOS LOS CAMPOS Y POSTERIORMENTE RECALCULAMOS AREA EN M2"
      ],
      "metadata": {
        "id": "pMyovS7-Q6SE"
      }
    },
    {
      "cell_type": "code",
      "source": [
        "all_union_amb['valor_comun']=1"
      ],
      "metadata": {
        "id": "cu7EFlJXQlx1"
      },
      "execution_count": null,
      "outputs": []
    },
    {
      "cell_type": "code",
      "source": [
        "from shapely.measurement import area\n",
        "from shapely.geometry import shape"
      ],
      "metadata": {
        "id": "_3vC5dO3LfIZ"
      },
      "execution_count": null,
      "outputs": []
    },
    {
      "cell_type": "code",
      "source": [
        "for i in range (len(all_union_amb)):\n",
        "  all_union_amb.loc[i,'area_m2']=shape(all_union_amb.loc[i,'geometry']).area"
      ],
      "metadata": {
        "id": "qzE50jC-Mk8C"
      },
      "execution_count": null,
      "outputs": []
    },
    {
      "cell_type": "code",
      "execution_count": null,
      "metadata": {
        "id": "dEq7m4OYD3eF",
        "colab": {
          "base_uri": "https://localhost:8080/",
          "height": 560
        },
        "outputId": "fc47918e-53ff-4fa1-8a02-8097ea51870f"
      },
      "outputs": [
        {
          "output_type": "execute_result",
          "data": {
            "text/plain": [
              "   OBJECTID_1_1      Id  Nombre   Escala  \\\n",
              "0           7.0  PD_026  Sotará  100.000   \n",
              "1           7.0  PD_026  Sotará  100.000   \n",
              "2           7.0  PD_026  Sotará  100.000   \n",
              "3           7.0  PD_026  Sotará  100.000   \n",
              "4           7.0  PD_026  Sotará  100.000   \n",
              "\n",
              "                                Acto_Admin  Fecha_Acto  No_Poligon  \\\n",
              "0  Resolución No. 179 de Febrero 6 de 2018  2018-02-06         0.0   \n",
              "1  Resolución No. 179 de Febrero 6 de 2018  2018-02-06         0.0   \n",
              "2  Resolución No. 179 de Febrero 6 de 2018  2018-02-06         0.0   \n",
              "3  Resolución No. 179 de Febrero 6 de 2018  2018-02-06         0.0   \n",
              "4  Resolución No. 179 de Febrero 6 de 2018  2018-02-06         0.0   \n",
              "\n",
              "        Fuente     Area_Ha_1 Fecha_Ingr_1  ...  \\\n",
              "0  Minambiente  71544.003472   2020-07-22  ...   \n",
              "1  Minambiente  71544.003472   2020-07-22  ...   \n",
              "2  Minambiente  71544.003472   2020-07-22  ...   \n",
              "3  Minambiente  71544.003472   2020-07-22  ...   \n",
              "4  Minambiente  71544.003472   2020-07-22  ...   \n",
              "\n",
              "                               res_zoni  fecha_ingr  fecha_reco  st_area_sh  \\\n",
              "0  Resolucion 1922 De 2013 Zonificacion  2022-12-01  2022-12-01    1.214107   \n",
              "1  Resolucion 1922 De 2013 Zonificacion  2022-12-01  2022-12-01    1.214107   \n",
              "2  Resolucion 1922 De 2013 Zonificacion  2022-12-01  2022-12-01    1.214107   \n",
              "3  Resolucion 1922 De 2013 Zonificacion  2022-12-01  2022-12-01    1.214107   \n",
              "4  Resolucion 1922 De 2013 Zonificacion  2022-12-01  2022-12-01    1.214107   \n",
              "\n",
              "   st_perimet  Shape_Leng_2_2  Shape_Area_2_2  \\\n",
              "0   19.585527    767961.35174    3.839587e+09   \n",
              "1   19.585527    767961.35174    3.839587e+09   \n",
              "2   19.585527    767961.35174    3.839587e+09   \n",
              "3   19.585527    767961.35174    3.839587e+09   \n",
              "4   19.585527    767961.35174    3.839587e+09   \n",
              "\n",
              "                                            geometry        area_m2  \\\n",
              "0  MULTIPOLYGON (((4597602.680 1768038.090, 45975...   12452.419971   \n",
              "1  POLYGON ((4597258.851 1768180.313, 4597291.238...  175501.019472   \n",
              "2  MULTIPOLYGON (((4598017.776 1764188.296, 45980...    6174.755182   \n",
              "3  POLYGON ((4597804.483 1764288.215, 4597810.123...  157011.660405   \n",
              "4  POLYGON ((4597709.915 1764023.919, 4597742.436...    1739.184223   \n",
              "\n",
              "   valor_comun  \n",
              "0            1  \n",
              "1            1  \n",
              "2            1  \n",
              "3            1  \n",
              "4            1  \n",
              "\n",
              "[5 rows x 58 columns]"
            ],
            "text/html": [
              "\n",
              "  <div id=\"df-7d62e26b-d698-4669-b477-3df7a2de8677\">\n",
              "    <div class=\"colab-df-container\">\n",
              "      <div>\n",
              "<style scoped>\n",
              "    .dataframe tbody tr th:only-of-type {\n",
              "        vertical-align: middle;\n",
              "    }\n",
              "\n",
              "    .dataframe tbody tr th {\n",
              "        vertical-align: top;\n",
              "    }\n",
              "\n",
              "    .dataframe thead th {\n",
              "        text-align: right;\n",
              "    }\n",
              "</style>\n",
              "<table border=\"1\" class=\"dataframe\">\n",
              "  <thead>\n",
              "    <tr style=\"text-align: right;\">\n",
              "      <th></th>\n",
              "      <th>OBJECTID_1_1</th>\n",
              "      <th>Id</th>\n",
              "      <th>Nombre</th>\n",
              "      <th>Escala</th>\n",
              "      <th>Acto_Admin</th>\n",
              "      <th>Fecha_Acto</th>\n",
              "      <th>No_Poligon</th>\n",
              "      <th>Fuente</th>\n",
              "      <th>Area_Ha_1</th>\n",
              "      <th>Fecha_Ingr_1</th>\n",
              "      <th>...</th>\n",
              "      <th>res_zoni</th>\n",
              "      <th>fecha_ingr</th>\n",
              "      <th>fecha_reco</th>\n",
              "      <th>st_area_sh</th>\n",
              "      <th>st_perimet</th>\n",
              "      <th>Shape_Leng_2_2</th>\n",
              "      <th>Shape_Area_2_2</th>\n",
              "      <th>geometry</th>\n",
              "      <th>area_m2</th>\n",
              "      <th>valor_comun</th>\n",
              "    </tr>\n",
              "  </thead>\n",
              "  <tbody>\n",
              "    <tr>\n",
              "      <th>0</th>\n",
              "      <td>7.0</td>\n",
              "      <td>PD_026</td>\n",
              "      <td>Sotará</td>\n",
              "      <td>100.000</td>\n",
              "      <td>Resolución No. 179 de Febrero 6 de 2018</td>\n",
              "      <td>2018-02-06</td>\n",
              "      <td>0.0</td>\n",
              "      <td>Minambiente</td>\n",
              "      <td>71544.003472</td>\n",
              "      <td>2020-07-22</td>\n",
              "      <td>...</td>\n",
              "      <td>Resolucion 1922 De 2013 Zonificacion</td>\n",
              "      <td>2022-12-01</td>\n",
              "      <td>2022-12-01</td>\n",
              "      <td>1.214107</td>\n",
              "      <td>19.585527</td>\n",
              "      <td>767961.35174</td>\n",
              "      <td>3.839587e+09</td>\n",
              "      <td>MULTIPOLYGON (((4597602.680 1768038.090, 45975...</td>\n",
              "      <td>12452.419971</td>\n",
              "      <td>1</td>\n",
              "    </tr>\n",
              "    <tr>\n",
              "      <th>1</th>\n",
              "      <td>7.0</td>\n",
              "      <td>PD_026</td>\n",
              "      <td>Sotará</td>\n",
              "      <td>100.000</td>\n",
              "      <td>Resolución No. 179 de Febrero 6 de 2018</td>\n",
              "      <td>2018-02-06</td>\n",
              "      <td>0.0</td>\n",
              "      <td>Minambiente</td>\n",
              "      <td>71544.003472</td>\n",
              "      <td>2020-07-22</td>\n",
              "      <td>...</td>\n",
              "      <td>Resolucion 1922 De 2013 Zonificacion</td>\n",
              "      <td>2022-12-01</td>\n",
              "      <td>2022-12-01</td>\n",
              "      <td>1.214107</td>\n",
              "      <td>19.585527</td>\n",
              "      <td>767961.35174</td>\n",
              "      <td>3.839587e+09</td>\n",
              "      <td>POLYGON ((4597258.851 1768180.313, 4597291.238...</td>\n",
              "      <td>175501.019472</td>\n",
              "      <td>1</td>\n",
              "    </tr>\n",
              "    <tr>\n",
              "      <th>2</th>\n",
              "      <td>7.0</td>\n",
              "      <td>PD_026</td>\n",
              "      <td>Sotará</td>\n",
              "      <td>100.000</td>\n",
              "      <td>Resolución No. 179 de Febrero 6 de 2018</td>\n",
              "      <td>2018-02-06</td>\n",
              "      <td>0.0</td>\n",
              "      <td>Minambiente</td>\n",
              "      <td>71544.003472</td>\n",
              "      <td>2020-07-22</td>\n",
              "      <td>...</td>\n",
              "      <td>Resolucion 1922 De 2013 Zonificacion</td>\n",
              "      <td>2022-12-01</td>\n",
              "      <td>2022-12-01</td>\n",
              "      <td>1.214107</td>\n",
              "      <td>19.585527</td>\n",
              "      <td>767961.35174</td>\n",
              "      <td>3.839587e+09</td>\n",
              "      <td>MULTIPOLYGON (((4598017.776 1764188.296, 45980...</td>\n",
              "      <td>6174.755182</td>\n",
              "      <td>1</td>\n",
              "    </tr>\n",
              "    <tr>\n",
              "      <th>3</th>\n",
              "      <td>7.0</td>\n",
              "      <td>PD_026</td>\n",
              "      <td>Sotará</td>\n",
              "      <td>100.000</td>\n",
              "      <td>Resolución No. 179 de Febrero 6 de 2018</td>\n",
              "      <td>2018-02-06</td>\n",
              "      <td>0.0</td>\n",
              "      <td>Minambiente</td>\n",
              "      <td>71544.003472</td>\n",
              "      <td>2020-07-22</td>\n",
              "      <td>...</td>\n",
              "      <td>Resolucion 1922 De 2013 Zonificacion</td>\n",
              "      <td>2022-12-01</td>\n",
              "      <td>2022-12-01</td>\n",
              "      <td>1.214107</td>\n",
              "      <td>19.585527</td>\n",
              "      <td>767961.35174</td>\n",
              "      <td>3.839587e+09</td>\n",
              "      <td>POLYGON ((4597804.483 1764288.215, 4597810.123...</td>\n",
              "      <td>157011.660405</td>\n",
              "      <td>1</td>\n",
              "    </tr>\n",
              "    <tr>\n",
              "      <th>4</th>\n",
              "      <td>7.0</td>\n",
              "      <td>PD_026</td>\n",
              "      <td>Sotará</td>\n",
              "      <td>100.000</td>\n",
              "      <td>Resolución No. 179 de Febrero 6 de 2018</td>\n",
              "      <td>2018-02-06</td>\n",
              "      <td>0.0</td>\n",
              "      <td>Minambiente</td>\n",
              "      <td>71544.003472</td>\n",
              "      <td>2020-07-22</td>\n",
              "      <td>...</td>\n",
              "      <td>Resolucion 1922 De 2013 Zonificacion</td>\n",
              "      <td>2022-12-01</td>\n",
              "      <td>2022-12-01</td>\n",
              "      <td>1.214107</td>\n",
              "      <td>19.585527</td>\n",
              "      <td>767961.35174</td>\n",
              "      <td>3.839587e+09</td>\n",
              "      <td>POLYGON ((4597709.915 1764023.919, 4597742.436...</td>\n",
              "      <td>1739.184223</td>\n",
              "      <td>1</td>\n",
              "    </tr>\n",
              "  </tbody>\n",
              "</table>\n",
              "<p>5 rows × 58 columns</p>\n",
              "</div>\n",
              "      <button class=\"colab-df-convert\" onclick=\"convertToInteractive('df-7d62e26b-d698-4669-b477-3df7a2de8677')\"\n",
              "              title=\"Convert this dataframe to an interactive table.\"\n",
              "              style=\"display:none;\">\n",
              "        \n",
              "  <svg xmlns=\"http://www.w3.org/2000/svg\" height=\"24px\"viewBox=\"0 0 24 24\"\n",
              "       width=\"24px\">\n",
              "    <path d=\"M0 0h24v24H0V0z\" fill=\"none\"/>\n",
              "    <path d=\"M18.56 5.44l.94 2.06.94-2.06 2.06-.94-2.06-.94-.94-2.06-.94 2.06-2.06.94zm-11 1L8.5 8.5l.94-2.06 2.06-.94-2.06-.94L8.5 2.5l-.94 2.06-2.06.94zm10 10l.94 2.06.94-2.06 2.06-.94-2.06-.94-.94-2.06-.94 2.06-2.06.94z\"/><path d=\"M17.41 7.96l-1.37-1.37c-.4-.4-.92-.59-1.43-.59-.52 0-1.04.2-1.43.59L10.3 9.45l-7.72 7.72c-.78.78-.78 2.05 0 2.83L4 21.41c.39.39.9.59 1.41.59.51 0 1.02-.2 1.41-.59l7.78-7.78 2.81-2.81c.8-.78.8-2.07 0-2.86zM5.41 20L4 18.59l7.72-7.72 1.47 1.35L5.41 20z\"/>\n",
              "  </svg>\n",
              "      </button>\n",
              "      \n",
              "  <style>\n",
              "    .colab-df-container {\n",
              "      display:flex;\n",
              "      flex-wrap:wrap;\n",
              "      gap: 12px;\n",
              "    }\n",
              "\n",
              "    .colab-df-convert {\n",
              "      background-color: #E8F0FE;\n",
              "      border: none;\n",
              "      border-radius: 50%;\n",
              "      cursor: pointer;\n",
              "      display: none;\n",
              "      fill: #1967D2;\n",
              "      height: 32px;\n",
              "      padding: 0 0 0 0;\n",
              "      width: 32px;\n",
              "    }\n",
              "\n",
              "    .colab-df-convert:hover {\n",
              "      background-color: #E2EBFA;\n",
              "      box-shadow: 0px 1px 2px rgba(60, 64, 67, 0.3), 0px 1px 3px 1px rgba(60, 64, 67, 0.15);\n",
              "      fill: #174EA6;\n",
              "    }\n",
              "\n",
              "    [theme=dark] .colab-df-convert {\n",
              "      background-color: #3B4455;\n",
              "      fill: #D2E3FC;\n",
              "    }\n",
              "\n",
              "    [theme=dark] .colab-df-convert:hover {\n",
              "      background-color: #434B5C;\n",
              "      box-shadow: 0px 1px 3px 1px rgba(0, 0, 0, 0.15);\n",
              "      filter: drop-shadow(0px 1px 2px rgba(0, 0, 0, 0.3));\n",
              "      fill: #FFFFFF;\n",
              "    }\n",
              "  </style>\n",
              "\n",
              "      <script>\n",
              "        const buttonEl =\n",
              "          document.querySelector('#df-7d62e26b-d698-4669-b477-3df7a2de8677 button.colab-df-convert');\n",
              "        buttonEl.style.display =\n",
              "          google.colab.kernel.accessAllowed ? 'block' : 'none';\n",
              "\n",
              "        async function convertToInteractive(key) {\n",
              "          const element = document.querySelector('#df-7d62e26b-d698-4669-b477-3df7a2de8677');\n",
              "          const dataTable =\n",
              "            await google.colab.kernel.invokeFunction('convertToInteractive',\n",
              "                                                     [key], {});\n",
              "          if (!dataTable) return;\n",
              "\n",
              "          const docLinkHtml = 'Like what you see? Visit the ' +\n",
              "            '<a target=\"_blank\" href=https://colab.research.google.com/notebooks/data_table.ipynb>data table notebook</a>'\n",
              "            + ' to learn more about interactive tables.';\n",
              "          element.innerHTML = '';\n",
              "          dataTable['output_type'] = 'display_data';\n",
              "          await google.colab.output.renderOutput(dataTable, element);\n",
              "          const docLink = document.createElement('div');\n",
              "          docLink.innerHTML = docLinkHtml;\n",
              "          element.appendChild(docLink);\n",
              "        }\n",
              "      </script>\n",
              "    </div>\n",
              "  </div>\n",
              "  "
            ]
          },
          "metadata": {},
          "execution_count": 119
        }
      ],
      "source": [
        "all_union_amb.head()\n",
        "#plot()"
      ]
    },
    {
      "cell_type": "markdown",
      "source": [
        "PROCEDEMOS A DISSOLVER LA CAPA"
      ],
      "metadata": {
        "id": "u3V-VJUyTDcA"
      }
    },
    {
      "cell_type": "code",
      "execution_count": null,
      "metadata": {
        "id": "piak4G3bFNVF"
      },
      "outputs": [],
      "source": [
        "ambiental_final=all_union_amb.dissolve(by='valor_comun')"
      ]
    },
    {
      "cell_type": "code",
      "source": [
        "#ambiental_final.drop('area_final',axis=1,inplace=True)"
      ],
      "metadata": {
        "id": "1BgwPtEUU-CN"
      },
      "execution_count": null,
      "outputs": []
    },
    {
      "cell_type": "code",
      "source": [
        "ambiental_final.head()"
      ],
      "metadata": {
        "colab": {
          "base_uri": "https://localhost:8080/",
          "height": 258
        },
        "id": "QvL7NI2sVw0c",
        "outputId": "795fe894-bb2a-4c7f-d871-f1f05159fba4"
      },
      "execution_count": null,
      "outputs": [
        {
          "output_type": "execute_result",
          "data": {
            "text/plain": [
              "                                                      geometry  OBJECTID_1_1  \\\n",
              "valor_comun                                                                    \n",
              "1            MULTIPOLYGON (((4455452.564 1820339.666, 44554...           7.0   \n",
              "\n",
              "                 Id  Nombre   Escala                               Acto_Admin  \\\n",
              "valor_comun                                                                     \n",
              "1            PD_026  Sotará  100.000  Resolución No. 179 de Febrero 6 de 2018   \n",
              "\n",
              "             Fecha_Acto  No_Poligon       Fuente     Area_Ha_1  ... nom_ley2  \\\n",
              "valor_comun                                                     ...            \n",
              "1            2018-02-06         0.0  Minambiente  71544.003472  ...  Central   \n",
              "\n",
              "                  area_ha                              res_zoni  fecha_ingr  \\\n",
              "valor_comun                                                                   \n",
              "1            1.493062e+06  Resolucion 1922 De 2013 Zonificacion  2022-12-01   \n",
              "\n",
              "             fecha_reco  st_area_sh  st_perimet  Shape_Leng_2_2  \\\n",
              "valor_comun                                                       \n",
              "1            2022-12-01    1.214107   19.585527    767961.35174   \n",
              "\n",
              "             Shape_Area_2_2       area_m2  \n",
              "valor_comun                                \n",
              "1              3.839587e+09  12452.419971  \n",
              "\n",
              "[1 rows x 57 columns]"
            ],
            "text/html": [
              "\n",
              "  <div id=\"df-6c951689-8ddd-4832-b84b-d4a706f30a4a\">\n",
              "    <div class=\"colab-df-container\">\n",
              "      <div>\n",
              "<style scoped>\n",
              "    .dataframe tbody tr th:only-of-type {\n",
              "        vertical-align: middle;\n",
              "    }\n",
              "\n",
              "    .dataframe tbody tr th {\n",
              "        vertical-align: top;\n",
              "    }\n",
              "\n",
              "    .dataframe thead th {\n",
              "        text-align: right;\n",
              "    }\n",
              "</style>\n",
              "<table border=\"1\" class=\"dataframe\">\n",
              "  <thead>\n",
              "    <tr style=\"text-align: right;\">\n",
              "      <th></th>\n",
              "      <th>geometry</th>\n",
              "      <th>OBJECTID_1_1</th>\n",
              "      <th>Id</th>\n",
              "      <th>Nombre</th>\n",
              "      <th>Escala</th>\n",
              "      <th>Acto_Admin</th>\n",
              "      <th>Fecha_Acto</th>\n",
              "      <th>No_Poligon</th>\n",
              "      <th>Fuente</th>\n",
              "      <th>Area_Ha_1</th>\n",
              "      <th>...</th>\n",
              "      <th>nom_ley2</th>\n",
              "      <th>area_ha</th>\n",
              "      <th>res_zoni</th>\n",
              "      <th>fecha_ingr</th>\n",
              "      <th>fecha_reco</th>\n",
              "      <th>st_area_sh</th>\n",
              "      <th>st_perimet</th>\n",
              "      <th>Shape_Leng_2_2</th>\n",
              "      <th>Shape_Area_2_2</th>\n",
              "      <th>area_m2</th>\n",
              "    </tr>\n",
              "    <tr>\n",
              "      <th>valor_comun</th>\n",
              "      <th></th>\n",
              "      <th></th>\n",
              "      <th></th>\n",
              "      <th></th>\n",
              "      <th></th>\n",
              "      <th></th>\n",
              "      <th></th>\n",
              "      <th></th>\n",
              "      <th></th>\n",
              "      <th></th>\n",
              "      <th></th>\n",
              "      <th></th>\n",
              "      <th></th>\n",
              "      <th></th>\n",
              "      <th></th>\n",
              "      <th></th>\n",
              "      <th></th>\n",
              "      <th></th>\n",
              "      <th></th>\n",
              "      <th></th>\n",
              "      <th></th>\n",
              "    </tr>\n",
              "  </thead>\n",
              "  <tbody>\n",
              "    <tr>\n",
              "      <th>1</th>\n",
              "      <td>MULTIPOLYGON (((4455452.564 1820339.666, 44554...</td>\n",
              "      <td>7.0</td>\n",
              "      <td>PD_026</td>\n",
              "      <td>Sotará</td>\n",
              "      <td>100.000</td>\n",
              "      <td>Resolución No. 179 de Febrero 6 de 2018</td>\n",
              "      <td>2018-02-06</td>\n",
              "      <td>0.0</td>\n",
              "      <td>Minambiente</td>\n",
              "      <td>71544.003472</td>\n",
              "      <td>...</td>\n",
              "      <td>Central</td>\n",
              "      <td>1.493062e+06</td>\n",
              "      <td>Resolucion 1922 De 2013 Zonificacion</td>\n",
              "      <td>2022-12-01</td>\n",
              "      <td>2022-12-01</td>\n",
              "      <td>1.214107</td>\n",
              "      <td>19.585527</td>\n",
              "      <td>767961.35174</td>\n",
              "      <td>3.839587e+09</td>\n",
              "      <td>12452.419971</td>\n",
              "    </tr>\n",
              "  </tbody>\n",
              "</table>\n",
              "<p>1 rows × 57 columns</p>\n",
              "</div>\n",
              "      <button class=\"colab-df-convert\" onclick=\"convertToInteractive('df-6c951689-8ddd-4832-b84b-d4a706f30a4a')\"\n",
              "              title=\"Convert this dataframe to an interactive table.\"\n",
              "              style=\"display:none;\">\n",
              "        \n",
              "  <svg xmlns=\"http://www.w3.org/2000/svg\" height=\"24px\"viewBox=\"0 0 24 24\"\n",
              "       width=\"24px\">\n",
              "    <path d=\"M0 0h24v24H0V0z\" fill=\"none\"/>\n",
              "    <path d=\"M18.56 5.44l.94 2.06.94-2.06 2.06-.94-2.06-.94-.94-2.06-.94 2.06-2.06.94zm-11 1L8.5 8.5l.94-2.06 2.06-.94-2.06-.94L8.5 2.5l-.94 2.06-2.06.94zm10 10l.94 2.06.94-2.06 2.06-.94-2.06-.94-.94-2.06-.94 2.06-2.06.94z\"/><path d=\"M17.41 7.96l-1.37-1.37c-.4-.4-.92-.59-1.43-.59-.52 0-1.04.2-1.43.59L10.3 9.45l-7.72 7.72c-.78.78-.78 2.05 0 2.83L4 21.41c.39.39.9.59 1.41.59.51 0 1.02-.2 1.41-.59l7.78-7.78 2.81-2.81c.8-.78.8-2.07 0-2.86zM5.41 20L4 18.59l7.72-7.72 1.47 1.35L5.41 20z\"/>\n",
              "  </svg>\n",
              "      </button>\n",
              "      \n",
              "  <style>\n",
              "    .colab-df-container {\n",
              "      display:flex;\n",
              "      flex-wrap:wrap;\n",
              "      gap: 12px;\n",
              "    }\n",
              "\n",
              "    .colab-df-convert {\n",
              "      background-color: #E8F0FE;\n",
              "      border: none;\n",
              "      border-radius: 50%;\n",
              "      cursor: pointer;\n",
              "      display: none;\n",
              "      fill: #1967D2;\n",
              "      height: 32px;\n",
              "      padding: 0 0 0 0;\n",
              "      width: 32px;\n",
              "    }\n",
              "\n",
              "    .colab-df-convert:hover {\n",
              "      background-color: #E2EBFA;\n",
              "      box-shadow: 0px 1px 2px rgba(60, 64, 67, 0.3), 0px 1px 3px 1px rgba(60, 64, 67, 0.15);\n",
              "      fill: #174EA6;\n",
              "    }\n",
              "\n",
              "    [theme=dark] .colab-df-convert {\n",
              "      background-color: #3B4455;\n",
              "      fill: #D2E3FC;\n",
              "    }\n",
              "\n",
              "    [theme=dark] .colab-df-convert:hover {\n",
              "      background-color: #434B5C;\n",
              "      box-shadow: 0px 1px 3px 1px rgba(0, 0, 0, 0.15);\n",
              "      filter: drop-shadow(0px 1px 2px rgba(0, 0, 0, 0.3));\n",
              "      fill: #FFFFFF;\n",
              "    }\n",
              "  </style>\n",
              "\n",
              "      <script>\n",
              "        const buttonEl =\n",
              "          document.querySelector('#df-6c951689-8ddd-4832-b84b-d4a706f30a4a button.colab-df-convert');\n",
              "        buttonEl.style.display =\n",
              "          google.colab.kernel.accessAllowed ? 'block' : 'none';\n",
              "\n",
              "        async function convertToInteractive(key) {\n",
              "          const element = document.querySelector('#df-6c951689-8ddd-4832-b84b-d4a706f30a4a');\n",
              "          const dataTable =\n",
              "            await google.colab.kernel.invokeFunction('convertToInteractive',\n",
              "                                                     [key], {});\n",
              "          if (!dataTable) return;\n",
              "\n",
              "          const docLinkHtml = 'Like what you see? Visit the ' +\n",
              "            '<a target=\"_blank\" href=https://colab.research.google.com/notebooks/data_table.ipynb>data table notebook</a>'\n",
              "            + ' to learn more about interactive tables.';\n",
              "          element.innerHTML = '';\n",
              "          dataTable['output_type'] = 'display_data';\n",
              "          await google.colab.output.renderOutput(dataTable, element);\n",
              "          const docLink = document.createElement('div');\n",
              "          docLink.innerHTML = docLinkHtml;\n",
              "          element.appendChild(docLink);\n",
              "        }\n",
              "      </script>\n",
              "    </div>\n",
              "  </div>\n",
              "  "
            ]
          },
          "metadata": {},
          "execution_count": 121
        }
      ]
    },
    {
      "cell_type": "code",
      "source": [
        "ambiental_final.plot()"
      ],
      "metadata": {
        "colab": {
          "base_uri": "https://localhost:8080/",
          "height": 480
        },
        "id": "_H3fQu1fVrvy",
        "outputId": "2a2815e7-a551-4651-ac63-f0cf5fe1aba1"
      },
      "execution_count": null,
      "outputs": [
        {
          "output_type": "execute_result",
          "data": {
            "text/plain": [
              "<Axes: >"
            ]
          },
          "metadata": {},
          "execution_count": 116
        },
        {
          "output_type": "display_data",
          "data": {
            "text/plain": [
              "<Figure size 640x480 with 1 Axes>"
            ],
            "image/png": "[encoded data removed]"
          },
          "metadata": {}
        }
      ]
    },
    {
      "cell_type": "markdown",
      "source": [
        "PROCEDEMOS EXPORTAR A LA RUTA DE ALMACENAMIENTO."
      ],
      "metadata": {
        "id": "VDRqrWGRRE-k"
      }
    },
    {
      "cell_type": "code",
      "source": [
        "%%capture\n",
        "ambiental_final.to_file(\"/content/drive/MyDrive/Cauca_all/ambiental_merged.shp\", index=False)"
      ],
      "metadata": {
        "colab": {
          "base_uri": "https://localhost:8080/"
        },
        "id": "JbPsyVrIOvXK",
        "outputId": "5a8b451f-8423-471d-8ac4-f09a4770cd60"
      },
      "execution_count": null,
      "outputs": [
        {
          "output_type": "stream",
          "name": "stderr",
          "text": [
            "WARNING:fiona._env:Normalized/laundered field name: 'OBJECTID_1_1' to 'OBJECTID_1'\n",
            "WARNING:fiona._env:Normalized/laundered field name: 'Fecha_Ingr_1' to 'Fecha_Ingr'\n",
            "WARNING:fiona._env:Normalized/laundered field name: 'Fecha_Reco_1' to 'Fecha_Reco'\n",
            "WARNING:fiona._env:Normalized/laundered field name: 'Shape_Leng_1_1' to 'Shape_Leng'\n",
            "WARNING:fiona._env:Normalized/laundered field name: 'Shape_Le_1_1' to 'Shape_Le_1'\n",
            "WARNING:fiona._env:Normalized/laundered field name: 'Shape_Area_1_1' to 'Shape_Area'\n",
            "WARNING:fiona._env:Normalized/laundered field name: 'OBJECTID_2_1' to 'OBJECTID_2'\n",
            "WARNING:fiona._env:Normalized/laundered field name: 'Fecha_Ingr_2' to 'Fecha_In_1'\n",
            "WARNING:fiona._env:Normalized/laundered field name: 'Fecha_Reco_2' to 'Fecha_Re_1'\n",
            "WARNING:fiona._env:Normalized/laundered field name: 'Shape_Leng_2_1' to 'Shape_Le_3'\n",
            "WARNING:fiona._env:Normalized/laundered field name: 'Shape_Area_2_1' to 'Shape_Ar_1'\n",
            "WARNING:fiona._env:Normalized/laundered field name: 'OBJECTID_1_2' to 'OBJECTID_3'\n",
            "WARNING:fiona._env:Normalized/laundered field name: 'nombre' to 'nombre_1'\n",
            "WARNING:fiona._env:Normalized/laundered field name: 'escala' to 'escala_1'\n",
            "WARNING:fiona._env:Normalized/laundered field name: 'Shape_Leng_1_2' to 'Shape_Le_4'\n",
            "WARNING:fiona._env:Normalized/laundered field name: 'Shape_Le_1_2' to 'Shape_Le_5'\n",
            "WARNING:fiona._env:Normalized/laundered field name: 'Shape_Area_1_2' to 'Shape_Ar_2'\n",
            "WARNING:fiona._env:Normalized/laundered field name: 'OBJECTID_2_2' to 'OBJECTID_4'\n",
            "WARNING:fiona._env:Normalized/laundered field name: 'id' to 'id_1'\n",
            "WARNING:fiona._env:Normalized/laundered field name: 'fecha_ingr' to 'fecha_in_2'\n",
            "WARNING:fiona._env:Normalized/laundered field name: 'fecha_reco' to 'fecha_re_2'\n",
            "WARNING:fiona._env:Normalized/laundered field name: 'Shape_Leng_2_2' to 'Shape_Le_6'\n",
            "WARNING:fiona._env:Normalized/laundered field name: 'Shape_Area_2_2' to 'Shape_Ar_3'\n",
            "WARNING:fiona._env:Value 470584627.149999976 of field Shape_Area of feature 0 not successfully written. Possibly due to too larger number with respect to field width\n",
            "WARNING:fiona._env:Value 3839586665.25 of field Shape_Ar_3 of feature 0 not successfully written. Possibly due to too larger number with respect to field width\n"
          ]
        }
      ]
    },
    {
      "cell_type": "markdown",
      "metadata": {
        "id": "HNT4nljBCnyd"
      },
      "source": [
        "**merge social** "
      ]
    },
    {
      "cell_type": "code",
      "execution_count": null,
      "metadata": {
        "id": "mbxvQLxaEF8n",
        "colab": {
          "base_uri": "https://localhost:8080/"
        },
        "outputId": "c05504df-814b-48d8-c776-2569364415fd"
      },
      "outputs": [
        {
          "output_type": "stream",
          "name": "stderr",
          "text": [
            "<ipython-input-199-cdd7aa80f0bc>:1: UserWarning: `keep_geom_type=True` in overlay resulted in 764 dropped geometries of different geometry types than df1 has. Set `keep_geom_type=False` to retain all geometries\n",
            "  social=gp.overlay(Comunidades_negras,Resguardo_Indigena, how='union')\n"
          ]
        }
      ],
      "source": [
        "social=gp.overlay(Comunidades_negras,Resguardo_Indigena, how='union')"
      ]
    },
    {
      "cell_type": "code",
      "execution_count": null,
      "metadata": {
        "colab": {
          "base_uri": "https://localhost:8080/",
          "height": 560
        },
        "id": "3ndCXJNSxugA",
        "outputId": "42234799-8d30-4871-cd81-5ae8bcf6eab9"
      },
      "outputs": [
        {
          "output_type": "execute_result",
          "data": {
            "text/plain": [
              "   OBJECTID_1                                  NOMBRE_COM  \\\n",
              "0        16.0  La Cuenca Del Río San Bernardo Patía Norte   \n",
              "1        90.0                Parte Alta Sur Del Río Saija   \n",
              "2        16.0  La Cuenca Del Río San Bernardo Patía Norte   \n",
              "3        27.0                    Parte Baja Del Río Saija   \n",
              "4        90.0                Parte Alta Sur Del Río Saija   \n",
              "\n",
              "                        RESOLUCION  AREA_TITUL   ANO NUMERO_PLA_1  \\\n",
              "0  Resolución 2064 del 18-nov-2002  25652,3907  2002          NaN   \n",
              "1   Resolución 2204 del 3-dic-2002  19926,5917  2002          NaN   \n",
              "2  Resolución 2064 del 18-nov-2002  25652,3907  2002          NaN   \n",
              "3   Resolución 2245 del 4-dic-2002  16115,9229  2002          NaN   \n",
              "4   Resolución 2204 del 3-dic-2002  19926,5917  2002          NaN   \n",
              "\n",
              "  DEPARTAMEN_1 MUNICIPIO_1 CEDULA_CAT_1 MATRICULA__1  ...  PUEBLO  \\\n",
              "0           19       19809          NaN     126-4647  ...  Embera   \n",
              "1           19    TIMBIQUÍ          NaN     126-4646  ...  Embera   \n",
              "2           19       19809          NaN     126-4647  ...  Embera   \n",
              "3           19    TIMBIQUÍ          NaN     126-4645  ...  Embera   \n",
              "4           19    TIMBIQUÍ          NaN     126-4646  ...  Embera   \n",
              "\n",
              "  DEPARTAMEN_2 MUNICIPIO_2  RESPONSABL_2  AREA_RECON_2 RANGO_TOLE_2  \\\n",
              "0        CAUCA    TIMBIQUÍ           N/A           0.0          0.0   \n",
              "1        CAUCA    TIMBIQUÍ           N/A           0.0          0.0   \n",
              "2        CAUCA    TIMBIQUÍ           N/A           0.0          0.0   \n",
              "3        CAUCA    TIMBIQUÍ           N/A           0.0          0.0   \n",
              "4        CAUCA    TIMBIQUÍ           N/A           0.0          0.0   \n",
              "\n",
              "  CODIGO_REC_2  SHAPE_Leng_2  SHAPE_Area_2  \\\n",
              "0          NaN      0.304416      0.002687   \n",
              "1          NaN      0.304416      0.002687   \n",
              "2          NaN      0.736792      0.018322   \n",
              "3          NaN      0.736792      0.018322   \n",
              "4          NaN      0.736792      0.018322   \n",
              "\n",
              "                                            geometry  \n",
              "0  MULTIPOLYGON Z (((4515396.309 1852303.155 0.00...  \n",
              "1  MULTIPOLYGON Z (((4505221.015 1861575.457 0.00...  \n",
              "2  MULTIPOLYGON Z (((4507215.380 1867720.073 0.00...  \n",
              "3  MULTIPOLYGON Z (((4497873.218 1873036.869 0.00...  \n",
              "4  MULTIPOLYGON Z (((4503334.883 1870529.151 0.00...  \n",
              "\n",
              "[5 rows x 42 columns]"
            ],
            "text/html": [
              "\n",
              "  <div id=\"df-53904192-0b05-438f-8313-cd1ed98926fb\">\n",
              "    <div class=\"colab-df-container\">\n",
              "      <div>\n",
              "<style scoped>\n",
              "    .dataframe tbody tr th:only-of-type {\n",
              "        vertical-align: middle;\n",
              "    }\n",
              "\n",
              "    .dataframe tbody tr th {\n",
              "        vertical-align: top;\n",
              "    }\n",
              "\n",
              "    .dataframe thead th {\n",
              "        text-align: right;\n",
              "    }\n",
              "</style>\n",
              "<table border=\"1\" class=\"dataframe\">\n",
              "  <thead>\n",
              "    <tr style=\"text-align: right;\">\n",
              "      <th></th>\n",
              "      <th>OBJECTID_1</th>\n",
              "      <th>NOMBRE_COM</th>\n",
              "      <th>RESOLUCION</th>\n",
              "      <th>AREA_TITUL</th>\n",
              "      <th>ANO</th>\n",
              "      <th>NUMERO_PLA_1</th>\n",
              "      <th>DEPARTAMEN_1</th>\n",
              "      <th>MUNICIPIO_1</th>\n",
              "      <th>CEDULA_CAT_1</th>\n",
              "      <th>MATRICULA__1</th>\n",
              "      <th>...</th>\n",
              "      <th>PUEBLO</th>\n",
              "      <th>DEPARTAMEN_2</th>\n",
              "      <th>MUNICIPIO_2</th>\n",
              "      <th>RESPONSABL_2</th>\n",
              "      <th>AREA_RECON_2</th>\n",
              "      <th>RANGO_TOLE_2</th>\n",
              "      <th>CODIGO_REC_2</th>\n",
              "      <th>SHAPE_Leng_2</th>\n",
              "      <th>SHAPE_Area_2</th>\n",
              "      <th>geometry</th>\n",
              "    </tr>\n",
              "  </thead>\n",
              "  <tbody>\n",
              "    <tr>\n",
              "      <th>0</th>\n",
              "      <td>16.0</td>\n",
              "      <td>La Cuenca Del Río San Bernardo Patía Norte</td>\n",
              "      <td>Resolución 2064 del 18-nov-2002</td>\n",
              "      <td>25652,3907</td>\n",
              "      <td>2002</td>\n",
              "      <td>NaN</td>\n",
              "      <td>19</td>\n",
              "      <td>19809</td>\n",
              "      <td>NaN</td>\n",
              "      <td>126-4647</td>\n",
              "      <td>...</td>\n",
              "      <td>Embera</td>\n",
              "      <td>CAUCA</td>\n",
              "      <td>TIMBIQUÍ</td>\n",
              "      <td>N/A</td>\n",
              "      <td>0.0</td>\n",
              "      <td>0.0</td>\n",
              "      <td>NaN</td>\n",
              "      <td>0.304416</td>\n",
              "      <td>0.002687</td>\n",
              "      <td>MULTIPOLYGON Z (((4515396.309 1852303.155 0.00...</td>\n",
              "    </tr>\n",
              "    <tr>\n",
              "      <th>1</th>\n",
              "      <td>90.0</td>\n",
              "      <td>Parte Alta Sur Del Río Saija</td>\n",
              "      <td>Resolución 2204 del 3-dic-2002</td>\n",
              "      <td>19926,5917</td>\n",
              "      <td>2002</td>\n",
              "      <td>NaN</td>\n",
              "      <td>19</td>\n",
              "      <td>TIMBIQUÍ</td>\n",
              "      <td>NaN</td>\n",
              "      <td>126-4646</td>\n",
              "      <td>...</td>\n",
              "      <td>Embera</td>\n",
              "      <td>CAUCA</td>\n",
              "      <td>TIMBIQUÍ</td>\n",
              "      <td>N/A</td>\n",
              "      <td>0.0</td>\n",
              "      <td>0.0</td>\n",
              "      <td>NaN</td>\n",
              "      <td>0.304416</td>\n",
              "      <td>0.002687</td>\n",
              "      <td>MULTIPOLYGON Z (((4505221.015 1861575.457 0.00...</td>\n",
              "    </tr>\n",
              "    <tr>\n",
              "      <th>2</th>\n",
              "      <td>16.0</td>\n",
              "      <td>La Cuenca Del Río San Bernardo Patía Norte</td>\n",
              "      <td>Resolución 2064 del 18-nov-2002</td>\n",
              "      <td>25652,3907</td>\n",
              "      <td>2002</td>\n",
              "      <td>NaN</td>\n",
              "      <td>19</td>\n",
              "      <td>19809</td>\n",
              "      <td>NaN</td>\n",
              "      <td>126-4647</td>\n",
              "      <td>...</td>\n",
              "      <td>Embera</td>\n",
              "      <td>CAUCA</td>\n",
              "      <td>TIMBIQUÍ</td>\n",
              "      <td>N/A</td>\n",
              "      <td>0.0</td>\n",
              "      <td>0.0</td>\n",
              "      <td>NaN</td>\n",
              "      <td>0.736792</td>\n",
              "      <td>0.018322</td>\n",
              "      <td>MULTIPOLYGON Z (((4507215.380 1867720.073 0.00...</td>\n",
              "    </tr>\n",
              "    <tr>\n",
              "      <th>3</th>\n",
              "      <td>27.0</td>\n",
              "      <td>Parte Baja Del Río Saija</td>\n",
              "      <td>Resolución 2245 del 4-dic-2002</td>\n",
              "      <td>16115,9229</td>\n",
              "      <td>2002</td>\n",
              "      <td>NaN</td>\n",
              "      <td>19</td>\n",
              "      <td>TIMBIQUÍ</td>\n",
              "      <td>NaN</td>\n",
              "      <td>126-4645</td>\n",
              "      <td>...</td>\n",
              "      <td>Embera</td>\n",
              "      <td>CAUCA</td>\n",
              "      <td>TIMBIQUÍ</td>\n",
              "      <td>N/A</td>\n",
              "      <td>0.0</td>\n",
              "      <td>0.0</td>\n",
              "      <td>NaN</td>\n",
              "      <td>0.736792</td>\n",
              "      <td>0.018322</td>\n",
              "      <td>MULTIPOLYGON Z (((4497873.218 1873036.869 0.00...</td>\n",
              "    </tr>\n",
              "    <tr>\n",
              "      <th>4</th>\n",
              "      <td>90.0</td>\n",
              "      <td>Parte Alta Sur Del Río Saija</td>\n",
              "      <td>Resolución 2204 del 3-dic-2002</td>\n",
              "      <td>19926,5917</td>\n",
              "      <td>2002</td>\n",
              "      <td>NaN</td>\n",
              "      <td>19</td>\n",
              "      <td>TIMBIQUÍ</td>\n",
              "      <td>NaN</td>\n",
              "      <td>126-4646</td>\n",
              "      <td>...</td>\n",
              "      <td>Embera</td>\n",
              "      <td>CAUCA</td>\n",
              "      <td>TIMBIQUÍ</td>\n",
              "      <td>N/A</td>\n",
              "      <td>0.0</td>\n",
              "      <td>0.0</td>\n",
              "      <td>NaN</td>\n",
              "      <td>0.736792</td>\n",
              "      <td>0.018322</td>\n",
              "      <td>MULTIPOLYGON Z (((4503334.883 1870529.151 0.00...</td>\n",
              "    </tr>\n",
              "  </tbody>\n",
              "</table>\n",
              "<p>5 rows × 42 columns</p>\n",
              "</div>\n",
              "      <button class=\"colab-df-convert\" onclick=\"convertToInteractive('df-53904192-0b05-438f-8313-cd1ed98926fb')\"\n",
              "              title=\"Convert this dataframe to an interactive table.\"\n",
              "              style=\"display:none;\">\n",
              "        \n",
              "  <svg xmlns=\"http://www.w3.org/2000/svg\" height=\"24px\"viewBox=\"0 0 24 24\"\n",
              "       width=\"24px\">\n",
              "    <path d=\"M0 0h24v24H0V0z\" fill=\"none\"/>\n",
              "    <path d=\"M18.56 5.44l.94 2.06.94-2.06 2.06-.94-2.06-.94-.94-2.06-.94 2.06-2.06.94zm-11 1L8.5 8.5l.94-2.06 2.06-.94-2.06-.94L8.5 2.5l-.94 2.06-2.06.94zm10 10l.94 2.06.94-2.06 2.06-.94-2.06-.94-.94-2.06-.94 2.06-2.06.94z\"/><path d=\"M17.41 7.96l-1.37-1.37c-.4-.4-.92-.59-1.43-.59-.52 0-1.04.2-1.43.59L10.3 9.45l-7.72 7.72c-.78.78-.78 2.05 0 2.83L4 21.41c.39.39.9.59 1.41.59.51 0 1.02-.2 1.41-.59l7.78-7.78 2.81-2.81c.8-.78.8-2.07 0-2.86zM5.41 20L4 18.59l7.72-7.72 1.47 1.35L5.41 20z\"/>\n",
              "  </svg>\n",
              "      </button>\n",
              "      \n",
              "  <style>\n",
              "    .colab-df-container {\n",
              "      display:flex;\n",
              "      flex-wrap:wrap;\n",
              "      gap: 12px;\n",
              "    }\n",
              "\n",
              "    .colab-df-convert {\n",
              "      background-color: #E8F0FE;\n",
              "      border: none;\n",
              "      border-radius: 50%;\n",
              "      cursor: pointer;\n",
              "      display: none;\n",
              "      fill: #1967D2;\n",
              "      height: 32px;\n",
              "      padding: 0 0 0 0;\n",
              "      width: 32px;\n",
              "    }\n",
              "\n",
              "    .colab-df-convert:hover {\n",
              "      background-color: #E2EBFA;\n",
              "      box-shadow: 0px 1px 2px rgba(60, 64, 67, 0.3), 0px 1px 3px 1px rgba(60, 64, 67, 0.15);\n",
              "      fill: #174EA6;\n",
              "    }\n",
              "\n",
              "    [theme=dark] .colab-df-convert {\n",
              "      background-color: #3B4455;\n",
              "      fill: #D2E3FC;\n",
              "    }\n",
              "\n",
              "    [theme=dark] .colab-df-convert:hover {\n",
              "      background-color: #434B5C;\n",
              "      box-shadow: 0px 1px 3px 1px rgba(0, 0, 0, 0.15);\n",
              "      filter: drop-shadow(0px 1px 2px rgba(0, 0, 0, 0.3));\n",
              "      fill: #FFFFFF;\n",
              "    }\n",
              "  </style>\n",
              "\n",
              "      <script>\n",
              "        const buttonEl =\n",
              "          document.querySelector('#df-53904192-0b05-438f-8313-cd1ed98926fb button.colab-df-convert');\n",
              "        buttonEl.style.display =\n",
              "          google.colab.kernel.accessAllowed ? 'block' : 'none';\n",
              "\n",
              "        async function convertToInteractive(key) {\n",
              "          const element = document.querySelector('#df-53904192-0b05-438f-8313-cd1ed98926fb');\n",
              "          const dataTable =\n",
              "            await google.colab.kernel.invokeFunction('convertToInteractive',\n",
              "                                                     [key], {});\n",
              "          if (!dataTable) return;\n",
              "\n",
              "          const docLinkHtml = 'Like what you see? Visit the ' +\n",
              "            '<a target=\"_blank\" href=https://colab.research.google.com/notebooks/data_table.ipynb>data table notebook</a>'\n",
              "            + ' to learn more about interactive tables.';\n",
              "          element.innerHTML = '';\n",
              "          dataTable['output_type'] = 'display_data';\n",
              "          await google.colab.output.renderOutput(dataTable, element);\n",
              "          const docLink = document.createElement('div');\n",
              "          docLink.innerHTML = docLinkHtml;\n",
              "          element.appendChild(docLink);\n",
              "        }\n",
              "      </script>\n",
              "    </div>\n",
              "  </div>\n",
              "  "
            ]
          },
          "metadata": {},
          "execution_count": 200
        }
      ],
      "source": [
        "social.head()"
      ]
    },
    {
      "cell_type": "code",
      "source": [
        "for i in range (len(social)):\n",
        "  social.loc[i,'area']=shape(social.loc[i,'geometry']).area"
      ],
      "metadata": {
        "id": "-i9g9u_4ldYX"
      },
      "execution_count": null,
      "outputs": []
    },
    {
      "cell_type": "code",
      "source": [
        "#social['conteo'] = range(len(social))\n",
        "social['valor_comun'] = 1"
      ],
      "metadata": {
        "id": "_Kk-EaFYUuAM"
      },
      "execution_count": null,
      "outputs": []
    },
    {
      "cell_type": "code",
      "source": [
        "social.head()"
      ],
      "metadata": {
        "colab": {
          "base_uri": "https://localhost:8080/",
          "height": 560
        },
        "id": "AZTVimmm5q9D",
        "outputId": "6e1298ce-2e17-4db0-bff9-27bf30717da0"
      },
      "execution_count": null,
      "outputs": [
        {
          "output_type": "execute_result",
          "data": {
            "text/plain": [
              "   OBJECTID_1                                  NOMBRE_COM  \\\n",
              "0        16.0  La Cuenca Del Río San Bernardo Patía Norte   \n",
              "1        90.0                Parte Alta Sur Del Río Saija   \n",
              "2        16.0  La Cuenca Del Río San Bernardo Patía Norte   \n",
              "3        27.0                    Parte Baja Del Río Saija   \n",
              "4        90.0                Parte Alta Sur Del Río Saija   \n",
              "\n",
              "                        RESOLUCION  AREA_TITUL   ANO NUMERO_PLA_1  \\\n",
              "0  Resolución 2064 del 18-nov-2002  25652,3907  2002          NaN   \n",
              "1   Resolución 2204 del 3-dic-2002  19926,5917  2002          NaN   \n",
              "2  Resolución 2064 del 18-nov-2002  25652,3907  2002          NaN   \n",
              "3   Resolución 2245 del 4-dic-2002  16115,9229  2002          NaN   \n",
              "4   Resolución 2204 del 3-dic-2002  19926,5917  2002          NaN   \n",
              "\n",
              "  DEPARTAMEN_1 MUNICIPIO_1 CEDULA_CAT_1 MATRICULA__1  ... MUNICIPIO_2  \\\n",
              "0           19       19809          NaN     126-4647  ...    TIMBIQUÍ   \n",
              "1           19    TIMBIQUÍ          NaN     126-4646  ...    TIMBIQUÍ   \n",
              "2           19       19809          NaN     126-4647  ...    TIMBIQUÍ   \n",
              "3           19    TIMBIQUÍ          NaN     126-4645  ...    TIMBIQUÍ   \n",
              "4           19    TIMBIQUÍ          NaN     126-4646  ...    TIMBIQUÍ   \n",
              "\n",
              "  RESPONSABL_2 AREA_RECON_2  RANGO_TOLE_2  CODIGO_REC_2 SHAPE_Leng_2  \\\n",
              "0          N/A          0.0           0.0           NaN     0.304416   \n",
              "1          N/A          0.0           0.0           NaN     0.304416   \n",
              "2          N/A          0.0           0.0           NaN     0.736792   \n",
              "3          N/A          0.0           0.0           NaN     0.736792   \n",
              "4          N/A          0.0           0.0           NaN     0.736792   \n",
              "\n",
              "  SHAPE_Area_2                                           geometry  conteo  \\\n",
              "0     0.002687  MULTIPOLYGON Z (((4515396.309 1852303.155 0.00...       0   \n",
              "1     0.002687  MULTIPOLYGON Z (((4505221.015 1861575.457 0.00...       1   \n",
              "2     0.018322  MULTIPOLYGON Z (((4507215.380 1867720.073 0.00...       2   \n",
              "3     0.018322  MULTIPOLYGON Z (((4497873.218 1873036.869 0.00...       3   \n",
              "4     0.018322  MULTIPOLYGON Z (((4503334.883 1870529.151 0.00...       4   \n",
              "\n",
              "   valor_comun  \n",
              "0            1  \n",
              "1            1  \n",
              "2            1  \n",
              "3            1  \n",
              "4            1  \n",
              "\n",
              "[5 rows x 44 columns]"
            ],
            "text/html": [
              "\n",
              "  <div id=\"df-82553527-4992-4055-9b7b-385892d281ac\">\n",
              "    <div class=\"colab-df-container\">\n",
              "      <div>\n",
              "<style scoped>\n",
              "    .dataframe tbody tr th:only-of-type {\n",
              "        vertical-align: middle;\n",
              "    }\n",
              "\n",
              "    .dataframe tbody tr th {\n",
              "        vertical-align: top;\n",
              "    }\n",
              "\n",
              "    .dataframe thead th {\n",
              "        text-align: right;\n",
              "    }\n",
              "</style>\n",
              "<table border=\"1\" class=\"dataframe\">\n",
              "  <thead>\n",
              "    <tr style=\"text-align: right;\">\n",
              "      <th></th>\n",
              "      <th>OBJECTID_1</th>\n",
              "      <th>NOMBRE_COM</th>\n",
              "      <th>RESOLUCION</th>\n",
              "      <th>AREA_TITUL</th>\n",
              "      <th>ANO</th>\n",
              "      <th>NUMERO_PLA_1</th>\n",
              "      <th>DEPARTAMEN_1</th>\n",
              "      <th>MUNICIPIO_1</th>\n",
              "      <th>CEDULA_CAT_1</th>\n",
              "      <th>MATRICULA__1</th>\n",
              "      <th>...</th>\n",
              "      <th>MUNICIPIO_2</th>\n",
              "      <th>RESPONSABL_2</th>\n",
              "      <th>AREA_RECON_2</th>\n",
              "      <th>RANGO_TOLE_2</th>\n",
              "      <th>CODIGO_REC_2</th>\n",
              "      <th>SHAPE_Leng_2</th>\n",
              "      <th>SHAPE_Area_2</th>\n",
              "      <th>geometry</th>\n",
              "      <th>conteo</th>\n",
              "      <th>valor_comun</th>\n",
              "    </tr>\n",
              "  </thead>\n",
              "  <tbody>\n",
              "    <tr>\n",
              "      <th>0</th>\n",
              "      <td>16.0</td>\n",
              "      <td>La Cuenca Del Río San Bernardo Patía Norte</td>\n",
              "      <td>Resolución 2064 del 18-nov-2002</td>\n",
              "      <td>25652,3907</td>\n",
              "      <td>2002</td>\n",
              "      <td>NaN</td>\n",
              "      <td>19</td>\n",
              "      <td>19809</td>\n",
              "      <td>NaN</td>\n",
              "      <td>126-4647</td>\n",
              "      <td>...</td>\n",
              "      <td>TIMBIQUÍ</td>\n",
              "      <td>N/A</td>\n",
              "      <td>0.0</td>\n",
              "      <td>0.0</td>\n",
              "      <td>NaN</td>\n",
              "      <td>0.304416</td>\n",
              "      <td>0.002687</td>\n",
              "      <td>MULTIPOLYGON Z (((4515396.309 1852303.155 0.00...</td>\n",
              "      <td>0</td>\n",
              "      <td>1</td>\n",
              "    </tr>\n",
              "    <tr>\n",
              "      <th>1</th>\n",
              "      <td>90.0</td>\n",
              "      <td>Parte Alta Sur Del Río Saija</td>\n",
              "      <td>Resolución 2204 del 3-dic-2002</td>\n",
              "      <td>19926,5917</td>\n",
              "      <td>2002</td>\n",
              "      <td>NaN</td>\n",
              "      <td>19</td>\n",
              "      <td>TIMBIQUÍ</td>\n",
              "      <td>NaN</td>\n",
              "      <td>126-4646</td>\n",
              "      <td>...</td>\n",
              "      <td>TIMBIQUÍ</td>\n",
              "      <td>N/A</td>\n",
              "      <td>0.0</td>\n",
              "      <td>0.0</td>\n",
              "      <td>NaN</td>\n",
              "      <td>0.304416</td>\n",
              "      <td>0.002687</td>\n",
              "      <td>MULTIPOLYGON Z (((4505221.015 1861575.457 0.00...</td>\n",
              "      <td>1</td>\n",
              "      <td>1</td>\n",
              "    </tr>\n",
              "    <tr>\n",
              "      <th>2</th>\n",
              "      <td>16.0</td>\n",
              "      <td>La Cuenca Del Río San Bernardo Patía Norte</td>\n",
              "      <td>Resolución 2064 del 18-nov-2002</td>\n",
              "      <td>25652,3907</td>\n",
              "      <td>2002</td>\n",
              "      <td>NaN</td>\n",
              "      <td>19</td>\n",
              "      <td>19809</td>\n",
              "      <td>NaN</td>\n",
              "      <td>126-4647</td>\n",
              "      <td>...</td>\n",
              "      <td>TIMBIQUÍ</td>\n",
              "      <td>N/A</td>\n",
              "      <td>0.0</td>\n",
              "      <td>0.0</td>\n",
              "      <td>NaN</td>\n",
              "      <td>0.736792</td>\n",
              "      <td>0.018322</td>\n",
              "      <td>MULTIPOLYGON Z (((4507215.380 1867720.073 0.00...</td>\n",
              "      <td>2</td>\n",
              "      <td>1</td>\n",
              "    </tr>\n",
              "    <tr>\n",
              "      <th>3</th>\n",
              "      <td>27.0</td>\n",
              "      <td>Parte Baja Del Río Saija</td>\n",
              "      <td>Resolución 2245 del 4-dic-2002</td>\n",
              "      <td>16115,9229</td>\n",
              "      <td>2002</td>\n",
              "      <td>NaN</td>\n",
              "      <td>19</td>\n",
              "      <td>TIMBIQUÍ</td>\n",
              "      <td>NaN</td>\n",
              "      <td>126-4645</td>\n",
              "      <td>...</td>\n",
              "      <td>TIMBIQUÍ</td>\n",
              "      <td>N/A</td>\n",
              "      <td>0.0</td>\n",
              "      <td>0.0</td>\n",
              "      <td>NaN</td>\n",
              "      <td>0.736792</td>\n",
              "      <td>0.018322</td>\n",
              "      <td>MULTIPOLYGON Z (((4497873.218 1873036.869 0.00...</td>\n",
              "      <td>3</td>\n",
              "      <td>1</td>\n",
              "    </tr>\n",
              "    <tr>\n",
              "      <th>4</th>\n",
              "      <td>90.0</td>\n",
              "      <td>Parte Alta Sur Del Río Saija</td>\n",
              "      <td>Resolución 2204 del 3-dic-2002</td>\n",
              "      <td>19926,5917</td>\n",
              "      <td>2002</td>\n",
              "      <td>NaN</td>\n",
              "      <td>19</td>\n",
              "      <td>TIMBIQUÍ</td>\n",
              "      <td>NaN</td>\n",
              "      <td>126-4646</td>\n",
              "      <td>...</td>\n",
              "      <td>TIMBIQUÍ</td>\n",
              "      <td>N/A</td>\n",
              "      <td>0.0</td>\n",
              "      <td>0.0</td>\n",
              "      <td>NaN</td>\n",
              "      <td>0.736792</td>\n",
              "      <td>0.018322</td>\n",
              "      <td>MULTIPOLYGON Z (((4503334.883 1870529.151 0.00...</td>\n",
              "      <td>4</td>\n",
              "      <td>1</td>\n",
              "    </tr>\n",
              "  </tbody>\n",
              "</table>\n",
              "<p>5 rows × 44 columns</p>\n",
              "</div>\n",
              "      <button class=\"colab-df-convert\" onclick=\"convertToInteractive('df-82553527-4992-4055-9b7b-385892d281ac')\"\n",
              "              title=\"Convert this dataframe to an interactive table.\"\n",
              "              style=\"display:none;\">\n",
              "        \n",
              "  <svg xmlns=\"http://www.w3.org/2000/svg\" height=\"24px\"viewBox=\"0 0 24 24\"\n",
              "       width=\"24px\">\n",
              "    <path d=\"M0 0h24v24H0V0z\" fill=\"none\"/>\n",
              "    <path d=\"M18.56 5.44l.94 2.06.94-2.06 2.06-.94-2.06-.94-.94-2.06-.94 2.06-2.06.94zm-11 1L8.5 8.5l.94-2.06 2.06-.94-2.06-.94L8.5 2.5l-.94 2.06-2.06.94zm10 10l.94 2.06.94-2.06 2.06-.94-2.06-.94-.94-2.06-.94 2.06-2.06.94z\"/><path d=\"M17.41 7.96l-1.37-1.37c-.4-.4-.92-.59-1.43-.59-.52 0-1.04.2-1.43.59L10.3 9.45l-7.72 7.72c-.78.78-.78 2.05 0 2.83L4 21.41c.39.39.9.59 1.41.59.51 0 1.02-.2 1.41-.59l7.78-7.78 2.81-2.81c.8-.78.8-2.07 0-2.86zM5.41 20L4 18.59l7.72-7.72 1.47 1.35L5.41 20z\"/>\n",
              "  </svg>\n",
              "      </button>\n",
              "      \n",
              "  <style>\n",
              "    .colab-df-container {\n",
              "      display:flex;\n",
              "      flex-wrap:wrap;\n",
              "      gap: 12px;\n",
              "    }\n",
              "\n",
              "    .colab-df-convert {\n",
              "      background-color: #E8F0FE;\n",
              "      border: none;\n",
              "      border-radius: 50%;\n",
              "      cursor: pointer;\n",
              "      display: none;\n",
              "      fill: #1967D2;\n",
              "      height: 32px;\n",
              "      padding: 0 0 0 0;\n",
              "      width: 32px;\n",
              "    }\n",
              "\n",
              "    .colab-df-convert:hover {\n",
              "      background-color: #E2EBFA;\n",
              "      box-shadow: 0px 1px 2px rgba(60, 64, 67, 0.3), 0px 1px 3px 1px rgba(60, 64, 67, 0.15);\n",
              "      fill: #174EA6;\n",
              "    }\n",
              "\n",
              "    [theme=dark] .colab-df-convert {\n",
              "      background-color: #3B4455;\n",
              "      fill: #D2E3FC;\n",
              "    }\n",
              "\n",
              "    [theme=dark] .colab-df-convert:hover {\n",
              "      background-color: #434B5C;\n",
              "      box-shadow: 0px 1px 3px 1px rgba(0, 0, 0, 0.15);\n",
              "      filter: drop-shadow(0px 1px 2px rgba(0, 0, 0, 0.3));\n",
              "      fill: #FFFFFF;\n",
              "    }\n",
              "  </style>\n",
              "\n",
              "      <script>\n",
              "        const buttonEl =\n",
              "          document.querySelector('#df-82553527-4992-4055-9b7b-385892d281ac button.colab-df-convert');\n",
              "        buttonEl.style.display =\n",
              "          google.colab.kernel.accessAllowed ? 'block' : 'none';\n",
              "\n",
              "        async function convertToInteractive(key) {\n",
              "          const element = document.querySelector('#df-82553527-4992-4055-9b7b-385892d281ac');\n",
              "          const dataTable =\n",
              "            await google.colab.kernel.invokeFunction('convertToInteractive',\n",
              "                                                     [key], {});\n",
              "          if (!dataTable) return;\n",
              "\n",
              "          const docLinkHtml = 'Like what you see? Visit the ' +\n",
              "            '<a target=\"_blank\" href=https://colab.research.google.com/notebooks/data_table.ipynb>data table notebook</a>'\n",
              "            + ' to learn more about interactive tables.';\n",
              "          element.innerHTML = '';\n",
              "          dataTable['output_type'] = 'display_data';\n",
              "          await google.colab.output.renderOutput(dataTable, element);\n",
              "          const docLink = document.createElement('div');\n",
              "          docLink.innerHTML = docLinkHtml;\n",
              "          element.appendChild(docLink);\n",
              "        }\n",
              "      </script>\n",
              "    </div>\n",
              "  </div>\n",
              "  "
            ]
          },
          "metadata": {},
          "execution_count": 203
        }
      ]
    },
    {
      "cell_type": "code",
      "execution_count": null,
      "metadata": {
        "id": "XiyjGJFVExF2"
      },
      "outputs": [],
      "source": [
        "social_final=social.dissolve(by='valor_comun')"
      ]
    },
    {
      "cell_type": "code",
      "execution_count": null,
      "metadata": {
        "colab": {
          "base_uri": "https://localhost:8080/",
          "height": 258
        },
        "id": "go5xu_6KEfnV",
        "outputId": "70edb390-b4db-4f3a-e2ac-72ff43de805e"
      },
      "outputs": [
        {
          "output_type": "execute_result",
          "data": {
            "text/plain": [
              "                                                      geometry  OBJECTID_1  \\\n",
              "valor_comun                                                                  \n",
              "1            MULTIPOLYGON Z (((4472883.329 1794644.805 0.00...        16.0   \n",
              "\n",
              "                                             NOMBRE_COM  \\\n",
              "valor_comun                                               \n",
              "1            La Cuenca Del Río San Bernardo Patía Norte   \n",
              "\n",
              "                                  RESOLUCION  AREA_TITUL   ANO   NUMERO_PLA_1  \\\n",
              "valor_comun                                                                     \n",
              "1            Resolución 2064 del 18-nov-2002  25652,3907  2002  013906PS76109   \n",
              "\n",
              "            DEPARTAMEN_1 MUNICIPIO_1                    CEDULA_CAT_1  ...  \\\n",
              "valor_comun                                                           ...   \n",
              "1                     19       19809  197800002000000330078000000000  ...   \n",
              "\n",
              "             PUEBLO DEPARTAMEN_2 MUNICIPIO_2 RESPONSABL_2  AREA_RECON_2  \\\n",
              "valor_comun                                                               \n",
              "1            Embera        CAUCA    TIMBIQUÍ          N/A           0.0   \n",
              "\n",
              "             RANGO_TOLE_2 CODIGO_REC_2 SHAPE_Leng_2  SHAPE_Area_2  conteo  \n",
              "valor_comun                                                                \n",
              "1                     0.0          N/A     0.304416      0.002687       0  \n",
              "\n",
              "[1 rows x 43 columns]"
            ],
            "text/html": [
              "\n",
              "  <div id=\"df-76eaf043-e504-4a82-a426-9dc06cdc0db1\">\n",
              "    <div class=\"colab-df-container\">\n",
              "      <div>\n",
              "<style scoped>\n",
              "    .dataframe tbody tr th:only-of-type {\n",
              "        vertical-align: middle;\n",
              "    }\n",
              "\n",
              "    .dataframe tbody tr th {\n",
              "        vertical-align: top;\n",
              "    }\n",
              "\n",
              "    .dataframe thead th {\n",
              "        text-align: right;\n",
              "    }\n",
              "</style>\n",
              "<table border=\"1\" class=\"dataframe\">\n",
              "  <thead>\n",
              "    <tr style=\"text-align: right;\">\n",
              "      <th></th>\n",
              "      <th>geometry</th>\n",
              "      <th>OBJECTID_1</th>\n",
              "      <th>NOMBRE_COM</th>\n",
              "      <th>RESOLUCION</th>\n",
              "      <th>AREA_TITUL</th>\n",
              "      <th>ANO</th>\n",
              "      <th>NUMERO_PLA_1</th>\n",
              "      <th>DEPARTAMEN_1</th>\n",
              "      <th>MUNICIPIO_1</th>\n",
              "      <th>CEDULA_CAT_1</th>\n",
              "      <th>...</th>\n",
              "      <th>PUEBLO</th>\n",
              "      <th>DEPARTAMEN_2</th>\n",
              "      <th>MUNICIPIO_2</th>\n",
              "      <th>RESPONSABL_2</th>\n",
              "      <th>AREA_RECON_2</th>\n",
              "      <th>RANGO_TOLE_2</th>\n",
              "      <th>CODIGO_REC_2</th>\n",
              "      <th>SHAPE_Leng_2</th>\n",
              "      <th>SHAPE_Area_2</th>\n",
              "      <th>conteo</th>\n",
              "    </tr>\n",
              "    <tr>\n",
              "      <th>valor_comun</th>\n",
              "      <th></th>\n",
              "      <th></th>\n",
              "      <th></th>\n",
              "      <th></th>\n",
              "      <th></th>\n",
              "      <th></th>\n",
              "      <th></th>\n",
              "      <th></th>\n",
              "      <th></th>\n",
              "      <th></th>\n",
              "      <th></th>\n",
              "      <th></th>\n",
              "      <th></th>\n",
              "      <th></th>\n",
              "      <th></th>\n",
              "      <th></th>\n",
              "      <th></th>\n",
              "      <th></th>\n",
              "      <th></th>\n",
              "      <th></th>\n",
              "      <th></th>\n",
              "    </tr>\n",
              "  </thead>\n",
              "  <tbody>\n",
              "    <tr>\n",
              "      <th>1</th>\n",
              "      <td>MULTIPOLYGON Z (((4472883.329 1794644.805 0.00...</td>\n",
              "      <td>16.0</td>\n",
              "      <td>La Cuenca Del Río San Bernardo Patía Norte</td>\n",
              "      <td>Resolución 2064 del 18-nov-2002</td>\n",
              "      <td>25652,3907</td>\n",
              "      <td>2002</td>\n",
              "      <td>013906PS76109</td>\n",
              "      <td>19</td>\n",
              "      <td>19809</td>\n",
              "      <td>197800002000000330078000000000</td>\n",
              "      <td>...</td>\n",
              "      <td>Embera</td>\n",
              "      <td>CAUCA</td>\n",
              "      <td>TIMBIQUÍ</td>\n",
              "      <td>N/A</td>\n",
              "      <td>0.0</td>\n",
              "      <td>0.0</td>\n",
              "      <td>N/A</td>\n",
              "      <td>0.304416</td>\n",
              "      <td>0.002687</td>\n",
              "      <td>0</td>\n",
              "    </tr>\n",
              "  </tbody>\n",
              "</table>\n",
              "<p>1 rows × 43 columns</p>\n",
              "</div>\n",
              "      <button class=\"colab-df-convert\" onclick=\"convertToInteractive('df-76eaf043-e504-4a82-a426-9dc06cdc0db1')\"\n",
              "              title=\"Convert this dataframe to an interactive table.\"\n",
              "              style=\"display:none;\">\n",
              "        \n",
              "  <svg xmlns=\"http://www.w3.org/2000/svg\" height=\"24px\"viewBox=\"0 0 24 24\"\n",
              "       width=\"24px\">\n",
              "    <path d=\"M0 0h24v24H0V0z\" fill=\"none\"/>\n",
              "    <path d=\"M18.56 5.44l.94 2.06.94-2.06 2.06-.94-2.06-.94-.94-2.06-.94 2.06-2.06.94zm-11 1L8.5 8.5l.94-2.06 2.06-.94-2.06-.94L8.5 2.5l-.94 2.06-2.06.94zm10 10l.94 2.06.94-2.06 2.06-.94-2.06-.94-.94-2.06-.94 2.06-2.06.94z\"/><path d=\"M17.41 7.96l-1.37-1.37c-.4-.4-.92-.59-1.43-.59-.52 0-1.04.2-1.43.59L10.3 9.45l-7.72 7.72c-.78.78-.78 2.05 0 2.83L4 21.41c.39.39.9.59 1.41.59.51 0 1.02-.2 1.41-.59l7.78-7.78 2.81-2.81c.8-.78.8-2.07 0-2.86zM5.41 20L4 18.59l7.72-7.72 1.47 1.35L5.41 20z\"/>\n",
              "  </svg>\n",
              "      </button>\n",
              "      \n",
              "  <style>\n",
              "    .colab-df-container {\n",
              "      display:flex;\n",
              "      flex-wrap:wrap;\n",
              "      gap: 12px;\n",
              "    }\n",
              "\n",
              "    .colab-df-convert {\n",
              "      background-color: #E8F0FE;\n",
              "      border: none;\n",
              "      border-radius: 50%;\n",
              "      cursor: pointer;\n",
              "      display: none;\n",
              "      fill: #1967D2;\n",
              "      height: 32px;\n",
              "      padding: 0 0 0 0;\n",
              "      width: 32px;\n",
              "    }\n",
              "\n",
              "    .colab-df-convert:hover {\n",
              "      background-color: #E2EBFA;\n",
              "      box-shadow: 0px 1px 2px rgba(60, 64, 67, 0.3), 0px 1px 3px 1px rgba(60, 64, 67, 0.15);\n",
              "      fill: #174EA6;\n",
              "    }\n",
              "\n",
              "    [theme=dark] .colab-df-convert {\n",
              "      background-color: #3B4455;\n",
              "      fill: #D2E3FC;\n",
              "    }\n",
              "\n",
              "    [theme=dark] .colab-df-convert:hover {\n",
              "      background-color: #434B5C;\n",
              "      box-shadow: 0px 1px 3px 1px rgba(0, 0, 0, 0.15);\n",
              "      filter: drop-shadow(0px 1px 2px rgba(0, 0, 0, 0.3));\n",
              "      fill: #FFFFFF;\n",
              "    }\n",
              "  </style>\n",
              "\n",
              "      <script>\n",
              "        const buttonEl =\n",
              "          document.querySelector('#df-76eaf043-e504-4a82-a426-9dc06cdc0db1 button.colab-df-convert');\n",
              "        buttonEl.style.display =\n",
              "          google.colab.kernel.accessAllowed ? 'block' : 'none';\n",
              "\n",
              "        async function convertToInteractive(key) {\n",
              "          const element = document.querySelector('#df-76eaf043-e504-4a82-a426-9dc06cdc0db1');\n",
              "          const dataTable =\n",
              "            await google.colab.kernel.invokeFunction('convertToInteractive',\n",
              "                                                     [key], {});\n",
              "          if (!dataTable) return;\n",
              "\n",
              "          const docLinkHtml = 'Like what you see? Visit the ' +\n",
              "            '<a target=\"_blank\" href=https://colab.research.google.com/notebooks/data_table.ipynb>data table notebook</a>'\n",
              "            + ' to learn more about interactive tables.';\n",
              "          element.innerHTML = '';\n",
              "          dataTable['output_type'] = 'display_data';\n",
              "          await google.colab.output.renderOutput(dataTable, element);\n",
              "          const docLink = document.createElement('div');\n",
              "          docLink.innerHTML = docLinkHtml;\n",
              "          element.appendChild(docLink);\n",
              "        }\n",
              "      </script>\n",
              "    </div>\n",
              "  </div>\n",
              "  "
            ]
          },
          "metadata": {},
          "execution_count": 205
        }
      ],
      "source": [
        "social_final.head()"
      ]
    },
    {
      "cell_type": "code",
      "execution_count": null,
      "metadata": {
        "id": "8-MFTU0eEfQz",
        "colab": {
          "base_uri": "https://localhost:8080/"
        },
        "outputId": "0f581772-fd4f-4766-c5b5-9233b87ec203"
      },
      "outputs": [
        {
          "output_type": "stream",
          "name": "stderr",
          "text": [
            "<ipython-input-208-c5a260b520d0>:1: UserWarning: Column names longer than 10 characters will be truncated when saved to ESRI Shapefile.\n",
            "  social_final.to_file(\"/content/drive/MyDrive/Cauca_all/social_merged.shp\", index=False)\n",
            "WARNING:fiona._env:Normalized/laundered field name: 'NUMERO_PLA_1' to 'NUMERO_PLA'\n",
            "WARNING:fiona._env:Normalized/laundered field name: 'DEPARTAMEN_1' to 'DEPARTAMEN'\n",
            "WARNING:fiona._env:Normalized/laundered field name: 'MUNICIPIO_1' to 'MUNICIPIO_'\n",
            "WARNING:fiona._env:Normalized/laundered field name: 'CEDULA_CAT_1' to 'CEDULA_CAT'\n",
            "WARNING:fiona._env:Normalized/laundered field name: 'MATRICULA__1' to 'MATRICULA_'\n",
            "WARNING:fiona._env:Normalized/laundered field name: 'RESPONSABL_1' to 'RESPONSABL'\n",
            "WARNING:fiona._env:Normalized/laundered field name: 'AREA_RECON_1' to 'AREA_RECON'\n",
            "WARNING:fiona._env:Normalized/laundered field name: 'RANGO_TOLE_1' to 'RANGO_TOLE'\n",
            "WARNING:fiona._env:Normalized/laundered field name: 'CODIGO_REC_1' to 'CODIGO_REC'\n",
            "WARNING:fiona._env:Normalized/laundered field name: 'SHAPE_Leng_1' to 'SHAPE_Leng'\n",
            "WARNING:fiona._env:Normalized/laundered field name: 'SHAPE_Area_1' to 'SHAPE_Area'\n",
            "WARNING:fiona._env:Normalized/laundered field name: 'CEDULA_CAT_2' to 'CEDULA_C_1'\n",
            "WARNING:fiona._env:Normalized/laundered field name: 'MATRICULA__2' to 'MATRICUL_1'\n",
            "WARNING:fiona._env:Normalized/laundered field name: 'NUMERO_PLA_2' to 'NUMERO_P_1'\n",
            "WARNING:fiona._env:Normalized/laundered field name: 'DEPARTAMEN_2' to 'DEPARTAM_1'\n",
            "WARNING:fiona._env:Normalized/laundered field name: 'MUNICIPIO_2' to 'MUNICIPI_1'\n",
            "WARNING:fiona._env:Normalized/laundered field name: 'RESPONSABL_2' to 'RESPONSA_1'\n",
            "WARNING:fiona._env:Normalized/laundered field name: 'AREA_RECON_2' to 'AREA_REC_1'\n",
            "WARNING:fiona._env:Normalized/laundered field name: 'RANGO_TOLE_2' to 'RANGO_TO_1'\n",
            "WARNING:fiona._env:Normalized/laundered field name: 'CODIGO_REC_2' to 'CODIGO_R_1'\n",
            "WARNING:fiona._env:Normalized/laundered field name: 'SHAPE_Leng_2' to 'SHAPE_Le_1'\n",
            "WARNING:fiona._env:Normalized/laundered field name: 'SHAPE_Area_2' to 'SHAPE_Ar_1'\n"
          ]
        }
      ],
      "source": [
        "social_final.to_file(\"/content/drive/MyDrive/Cauca_all/social_merged.shp\", index=False)"
      ]
    },
    {
      "cell_type": "markdown",
      "metadata": {
        "id": "z_EKIrQElmqj"
      },
      "source": [
        "#Lectura y Conversion - Rasterización #"
      ]
    },
    {
      "cell_type": "markdown",
      "source": [
        "##Conversion Raster - GDAL## (MERGE AMBIENTAL Y SOCIAL)"
      ],
      "metadata": {
        "id": "J7C0gluQn8Ed"
      }
    },
    {
      "cell_type": "code",
      "execution_count": null,
      "metadata": {
        "id": "8V7EFw95p7BQ"
      },
      "outputs": [],
      "source": [
        "from osgeo import gdal, ogr,osr"
      ]
    },
    {
      "cell_type": "markdown",
      "metadata": {
        "id": "lp9XvDhZENcL"
      },
      "source": [
        "RASTERIZACIÓN CON EL MERGE AMBIENTAL "
      ]
    },
    {
      "cell_type": "code",
      "source": [
        "ambiental_final.head()"
      ],
      "metadata": {
        "id": "Pyx1PI5NWq_e"
      },
      "execution_count": null,
      "outputs": []
    },
    {
      "cell_type": "code",
      "source": [
        "%%capture\n",
        "from google.colab import drive\n",
        "drive.mount('/content/drive')"
      ],
      "metadata": {
        "id": "s-BO6xvqM8DV"
      },
      "execution_count": null,
      "outputs": []
    },
    {
      "cell_type": "code",
      "execution_count": null,
      "metadata": {
        "id": "c89tpGFd1P2O",
        "colab": {
          "base_uri": "https://localhost:8080/"
        },
        "outputId": "61d0953f-df17-4bde-fbd5-671196f2a9cc"
      },
      "outputs": [
        {
          "output_type": "stream",
          "name": "stdout",
          "text": [
            "min 0 max 7 mean 1.1976005363314546\n"
          ]
        }
      ],
      "source": [
        "from osgeo import gdal, ogr,osr\n",
        "\n",
        "# Define pixel_size and NoData value of new raster\n",
        "#pixel_size = 12\n",
        "NoData_value =-9999\n",
        "\n",
        "# Filename of input OGR file\n",
        "train_fn = r'/content/drive/MyDrive/Cauca_all/ambiental_merged.shp'\n",
        "train_ds=ogr.Open(train_fn)\n",
        "\n",
        "# Filename of the raster Tiff that will be created\n",
        "raster_fn = r'/content/drive/MyDrive/Cauca_all/merged_ambiental.tif'\n",
        "\n",
        "# Open the data source and read in the extent\n",
        "naip_fn= r'/content/drive/MyDrive/Cauca_all/cauca_mask.tif'\n",
        "naip_ds=gdal.Open(naip_fn)\n",
        "\n",
        "#tipo formato, proyección y extensión del raster\n",
        "lyr=train_ds.GetLayer()\n",
        "driver=gdal.GetDriverByName('GTiff')\n",
        "target_ds=driver.Create(raster_fn,naip_ds.RasterXSize,naip_ds.RasterYSize,1,gdal.GDT_Byte)\n",
        "target_ds.SetGeoTransform(naip_ds.GetGeoTransform())\n",
        "target_ds.SetProjection(naip_ds.GetProjection())\n",
        "options=['ATTRIBUTE=OBJECTID_1']\n",
        "\n",
        "#Rasterizar y seleccionar numero de bandas\n",
        "gdal.RasterizeLayer(target_ds,[1],lyr,options=options)\n",
        "\n",
        "#Write data to band 1\n",
        "#band = target_ds.GetRasterBand(1)\n",
        "#band.SetNoDataValue(0)\n",
        "#band=None\n",
        "#target_ds=None\n",
        "\n",
        "#para verificar valores antes de exportar archivo\n",
        "ambiental=target_ds.GetRasterBand(1).ReadAsArray()\n",
        "print('min',ambiental.min(),'max',ambiental.max(),'mean',ambiental.mean())"
      ]
    },
    {
      "cell_type": "code",
      "execution_count": null,
      "metadata": {
        "colab": {
          "base_uri": "https://localhost:8080/",
          "height": 452
        },
        "id": "EfGDJfZ1KALr",
        "outputId": "3e7e6f5d-f0c5-4fee-8511-565a289935c0"
      },
      "outputs": [
        {
          "output_type": "execute_result",
          "data": {
            "text/plain": [
              "<matplotlib.image.AxesImage at 0x7fdab2cf3b80>"
            ]
          },
          "metadata": {},
          "execution_count": 159
        },
        {
          "output_type": "display_data",
          "data": {
            "text/plain": [
              "<Figure size 640x480 with 1 Axes>"
            ],
            "image/png": "[encoded data removed]"
          },
          "metadata": {}
        }
      ],
      "source": [
        "plt.figure()\n",
        "plt.imshow(ambiental)"
      ]
    },
    {
      "cell_type": "code",
      "execution_count": null,
      "metadata": {
        "colab": {
          "base_uri": "https://localhost:8080/"
        },
        "id": "QAWYjsOkOa1G",
        "outputId": "9cfa37af-4a94-4737-83a4-dbd499c1bac2"
      },
      "outputs": [
        {
          "output_type": "execute_result",
          "data": {
            "text/plain": [
              "(21871, 20239)"
            ]
          },
          "metadata": {},
          "execution_count": 4
        }
      ],
      "source": [
        "ambiental.shape"
      ]
    },
    {
      "cell_type": "markdown",
      "source": [
        "Conversion de raster ambiental a binario (como input de algoritmo)"
      ],
      "metadata": {
        "id": "qdiFtVFcfkwI"
      }
    },
    {
      "cell_type": "code",
      "source": [
        "bin_ambiental=np.where((ambiental>=np.max(ambiental)),1,0)\n",
        "print('min',bin_ambiental.min(),'max',bin_ambiental.max(),'mean',bin_ambiental.mean())"
      ],
      "metadata": {
        "colab": {
          "base_uri": "https://localhost:8080/"
        },
        "outputId": "06b11401-c8e9-4c4b-fd84-8c133c2571ae",
        "id": "lWCvr41MfjMy"
      },
      "execution_count": null,
      "outputs": [
        {
          "output_type": "stream",
          "name": "stdout",
          "text": [
            "min 0 max 1 mean 0.1710857909044935\n"
          ]
        }
      ]
    },
    {
      "cell_type": "code",
      "source": [
        "plt.figure()\n",
        "plt.imshow(bin_ambiental)"
      ],
      "metadata": {
        "id": "5CaoVfzJfjMy",
        "colab": {
          "base_uri": "https://localhost:8080/",
          "height": 453
        },
        "outputId": "81e59cb8-c862-47aa-ef45-818fd7d2c961"
      },
      "execution_count": null,
      "outputs": [
        {
          "output_type": "execute_result",
          "data": {
            "text/plain": [
              "<matplotlib.image.AxesImage at 0x7f648ac95100>"
            ]
          },
          "metadata": {},
          "execution_count": 22
        },
        {
          "output_type": "display_data",
          "data": {
            "text/plain": [
              "<Figure size 640x480 with 1 Axes>"
            ],
            "image/png": "[encoded data removed]"
          },
          "metadata": {}
        }
      ]
    },
    {
      "cell_type": "code",
      "source": [
        "bin_ambiental.shape"
      ],
      "metadata": {
        "colab": {
          "base_uri": "https://localhost:8080/"
        },
        "id": "2QMtP-iYgiiD",
        "outputId": "c99ea4b5-1f2d-41ad-c493-6d9d60ddc174"
      },
      "execution_count": null,
      "outputs": [
        {
          "output_type": "execute_result",
          "data": {
            "text/plain": [
              "(21871, 20239)"
            ]
          },
          "metadata": {},
          "execution_count": 6
        }
      ]
    },
    {
      "cell_type": "markdown",
      "source": [
        "Extracción o almacenamiento en ruta  ## COMO EXTRAER CON GDAL DIRECTAMENTE A LA MAQUINA"
      ],
      "metadata": {
        "id": "IqD8RjdnhcDR"
      }
    },
    {
      "cell_type": "code",
      "source": [
        "naip_fn= r'/content/drive/MyDrive/Cauca_all/cauca_mask.tif'\n",
        "naip_ds=gdal.Open(naip_fn)\n",
        "gt=naip_ds.GetGeoTransform()\n",
        "proj=naip_ds.GetProjection()\n",
        "\n",
        "driver=gdal.GetDriverByName('GTiff')\n",
        "driver.Register()\n",
        "raster_binAmb = r'/content/drive/MyDrive/Cauca_all/bin_ambiental.tif'\n",
        "\n",
        "outds=driver.Create(raster_binAmb,xsize=bin_ambiental.shape[1],\n",
        "                    ysize=bin_ambiental.shape[0],bands=1,eType=gdal.GDT_Byte)\n",
        "outds.SetGeoTransform(gt)\n",
        "outds.SetProjection(proj)\n",
        "outband=outds.GetRasterBand(1)\n",
        "outband.WriteArray(bin_ambiental)\n",
        "outband.SetNoDataValue(np.nan)\n",
        "\n",
        "outband=None\n",
        "outds=None\n",
        "#outband.FlushCache()"
      ],
      "metadata": {
        "id": "cgZsrjWtTE29"
      },
      "execution_count": null,
      "outputs": []
    },
    {
      "cell_type": "markdown",
      "metadata": {
        "id": "HbjCa_X0KTP0"
      },
      "source": [
        "RASTERIZACIÓN CON EL MERGE SOCIAL "
      ]
    },
    {
      "cell_type": "code",
      "source": [
        "social_final.head()"
      ],
      "metadata": {
        "colab": {
          "base_uri": "https://localhost:8080/",
          "height": 258
        },
        "id": "49rq5Fzh2wZP",
        "outputId": "9d102c17-169a-410b-ff3d-e98059337170"
      },
      "execution_count": null,
      "outputs": [
        {
          "output_type": "execute_result",
          "data": {
            "text/plain": [
              "                                                      geometry  OBJECTID_1  \\\n",
              "valor_comun                                                                  \n",
              "1            MULTIPOLYGON Z (((4472883.329 1794644.805 0.00...        16.0   \n",
              "\n",
              "                                             NOMBRE_COM  \\\n",
              "valor_comun                                               \n",
              "1            La Cuenca Del Río San Bernardo Patía Norte   \n",
              "\n",
              "                                  RESOLUCION  AREA_TITUL   ANO   NUMERO_PLA_1  \\\n",
              "valor_comun                                                                     \n",
              "1            Resolución 2064 del 18-nov-2002  25652,3907  2002  013906PS76109   \n",
              "\n",
              "            DEPARTAMEN_1 MUNICIPIO_1                    CEDULA_CAT_1  ...  \\\n",
              "valor_comun                                                           ...   \n",
              "1                     19       19809  197800002000000330078000000000  ...   \n",
              "\n",
              "             PUEBLO DEPARTAMEN_2 MUNICIPIO_2 RESPONSABL_2  AREA_RECON_2  \\\n",
              "valor_comun                                                               \n",
              "1            Embera        CAUCA    TIMBIQUÍ          N/A           0.0   \n",
              "\n",
              "             RANGO_TOLE_2 CODIGO_REC_2 SHAPE_Leng_2  SHAPE_Area_2  conteo  \n",
              "valor_comun                                                                \n",
              "1                     0.0          N/A     0.304416      0.002687       0  \n",
              "\n",
              "[1 rows x 43 columns]"
            ],
            "text/html": [
              "\n",
              "  <div id=\"df-7bcb871b-4d00-4369-809f-5f845e04ee8f\">\n",
              "    <div class=\"colab-df-container\">\n",
              "      <div>\n",
              "<style scoped>\n",
              "    .dataframe tbody tr th:only-of-type {\n",
              "        vertical-align: middle;\n",
              "    }\n",
              "\n",
              "    .dataframe tbody tr th {\n",
              "        vertical-align: top;\n",
              "    }\n",
              "\n",
              "    .dataframe thead th {\n",
              "        text-align: right;\n",
              "    }\n",
              "</style>\n",
              "<table border=\"1\" class=\"dataframe\">\n",
              "  <thead>\n",
              "    <tr style=\"text-align: right;\">\n",
              "      <th></th>\n",
              "      <th>geometry</th>\n",
              "      <th>OBJECTID_1</th>\n",
              "      <th>NOMBRE_COM</th>\n",
              "      <th>RESOLUCION</th>\n",
              "      <th>AREA_TITUL</th>\n",
              "      <th>ANO</th>\n",
              "      <th>NUMERO_PLA_1</th>\n",
              "      <th>DEPARTAMEN_1</th>\n",
              "      <th>MUNICIPIO_1</th>\n",
              "      <th>CEDULA_CAT_1</th>\n",
              "      <th>...</th>\n",
              "      <th>PUEBLO</th>\n",
              "      <th>DEPARTAMEN_2</th>\n",
              "      <th>MUNICIPIO_2</th>\n",
              "      <th>RESPONSABL_2</th>\n",
              "      <th>AREA_RECON_2</th>\n",
              "      <th>RANGO_TOLE_2</th>\n",
              "      <th>CODIGO_REC_2</th>\n",
              "      <th>SHAPE_Leng_2</th>\n",
              "      <th>SHAPE_Area_2</th>\n",
              "      <th>conteo</th>\n",
              "    </tr>\n",
              "    <tr>\n",
              "      <th>valor_comun</th>\n",
              "      <th></th>\n",
              "      <th></th>\n",
              "      <th></th>\n",
              "      <th></th>\n",
              "      <th></th>\n",
              "      <th></th>\n",
              "      <th></th>\n",
              "      <th></th>\n",
              "      <th></th>\n",
              "      <th></th>\n",
              "      <th></th>\n",
              "      <th></th>\n",
              "      <th></th>\n",
              "      <th></th>\n",
              "      <th></th>\n",
              "      <th></th>\n",
              "      <th></th>\n",
              "      <th></th>\n",
              "      <th></th>\n",
              "      <th></th>\n",
              "      <th></th>\n",
              "    </tr>\n",
              "  </thead>\n",
              "  <tbody>\n",
              "    <tr>\n",
              "      <th>1</th>\n",
              "      <td>MULTIPOLYGON Z (((4472883.329 1794644.805 0.00...</td>\n",
              "      <td>16.0</td>\n",
              "      <td>La Cuenca Del Río San Bernardo Patía Norte</td>\n",
              "      <td>Resolución 2064 del 18-nov-2002</td>\n",
              "      <td>25652,3907</td>\n",
              "      <td>2002</td>\n",
              "      <td>013906PS76109</td>\n",
              "      <td>19</td>\n",
              "      <td>19809</td>\n",
              "      <td>197800002000000330078000000000</td>\n",
              "      <td>...</td>\n",
              "      <td>Embera</td>\n",
              "      <td>CAUCA</td>\n",
              "      <td>TIMBIQUÍ</td>\n",
              "      <td>N/A</td>\n",
              "      <td>0.0</td>\n",
              "      <td>0.0</td>\n",
              "      <td>N/A</td>\n",
              "      <td>0.304416</td>\n",
              "      <td>0.002687</td>\n",
              "      <td>0</td>\n",
              "    </tr>\n",
              "  </tbody>\n",
              "</table>\n",
              "<p>1 rows × 43 columns</p>\n",
              "</div>\n",
              "      <button class=\"colab-df-convert\" onclick=\"convertToInteractive('df-7bcb871b-4d00-4369-809f-5f845e04ee8f')\"\n",
              "              title=\"Convert this dataframe to an interactive table.\"\n",
              "              style=\"display:none;\">\n",
              "        \n",
              "  <svg xmlns=\"http://www.w3.org/2000/svg\" height=\"24px\"viewBox=\"0 0 24 24\"\n",
              "       width=\"24px\">\n",
              "    <path d=\"M0 0h24v24H0V0z\" fill=\"none\"/>\n",
              "    <path d=\"M18.56 5.44l.94 2.06.94-2.06 2.06-.94-2.06-.94-.94-2.06-.94 2.06-2.06.94zm-11 1L8.5 8.5l.94-2.06 2.06-.94-2.06-.94L8.5 2.5l-.94 2.06-2.06.94zm10 10l.94 2.06.94-2.06 2.06-.94-2.06-.94-.94-2.06-.94 2.06-2.06.94z\"/><path d=\"M17.41 7.96l-1.37-1.37c-.4-.4-.92-.59-1.43-.59-.52 0-1.04.2-1.43.59L10.3 9.45l-7.72 7.72c-.78.78-.78 2.05 0 2.83L4 21.41c.39.39.9.59 1.41.59.51 0 1.02-.2 1.41-.59l7.78-7.78 2.81-2.81c.8-.78.8-2.07 0-2.86zM5.41 20L4 18.59l7.72-7.72 1.47 1.35L5.41 20z\"/>\n",
              "  </svg>\n",
              "      </button>\n",
              "      \n",
              "  <style>\n",
              "    .colab-df-container {\n",
              "      display:flex;\n",
              "      flex-wrap:wrap;\n",
              "      gap: 12px;\n",
              "    }\n",
              "\n",
              "    .colab-df-convert {\n",
              "      background-color: #E8F0FE;\n",
              "      border: none;\n",
              "      border-radius: 50%;\n",
              "      cursor: pointer;\n",
              "      display: none;\n",
              "      fill: #1967D2;\n",
              "      height: 32px;\n",
              "      padding: 0 0 0 0;\n",
              "      width: 32px;\n",
              "    }\n",
              "\n",
              "    .colab-df-convert:hover {\n",
              "      background-color: #E2EBFA;\n",
              "      box-shadow: 0px 1px 2px rgba(60, 64, 67, 0.3), 0px 1px 3px 1px rgba(60, 64, 67, 0.15);\n",
              "      fill: #174EA6;\n",
              "    }\n",
              "\n",
              "    [theme=dark] .colab-df-convert {\n",
              "      background-color: #3B4455;\n",
              "      fill: #D2E3FC;\n",
              "    }\n",
              "\n",
              "    [theme=dark] .colab-df-convert:hover {\n",
              "      background-color: #434B5C;\n",
              "      box-shadow: 0px 1px 3px 1px rgba(0, 0, 0, 0.15);\n",
              "      filter: drop-shadow(0px 1px 2px rgba(0, 0, 0, 0.3));\n",
              "      fill: #FFFFFF;\n",
              "    }\n",
              "  </style>\n",
              "\n",
              "      <script>\n",
              "        const buttonEl =\n",
              "          document.querySelector('#df-7bcb871b-4d00-4369-809f-5f845e04ee8f button.colab-df-convert');\n",
              "        buttonEl.style.display =\n",
              "          google.colab.kernel.accessAllowed ? 'block' : 'none';\n",
              "\n",
              "        async function convertToInteractive(key) {\n",
              "          const element = document.querySelector('#df-7bcb871b-4d00-4369-809f-5f845e04ee8f');\n",
              "          const dataTable =\n",
              "            await google.colab.kernel.invokeFunction('convertToInteractive',\n",
              "                                                     [key], {});\n",
              "          if (!dataTable) return;\n",
              "\n",
              "          const docLinkHtml = 'Like what you see? Visit the ' +\n",
              "            '<a target=\"_blank\" href=https://colab.research.google.com/notebooks/data_table.ipynb>data table notebook</a>'\n",
              "            + ' to learn more about interactive tables.';\n",
              "          element.innerHTML = '';\n",
              "          dataTable['output_type'] = 'display_data';\n",
              "          await google.colab.output.renderOutput(dataTable, element);\n",
              "          const docLink = document.createElement('div');\n",
              "          docLink.innerHTML = docLinkHtml;\n",
              "          element.appendChild(docLink);\n",
              "        }\n",
              "      </script>\n",
              "    </div>\n",
              "  </div>\n",
              "  "
            ]
          },
          "metadata": {},
          "execution_count": 209
        }
      ]
    },
    {
      "cell_type": "code",
      "execution_count": null,
      "metadata": {
        "id": "6OYLnbRQKS77",
        "colab": {
          "base_uri": "https://localhost:8080/"
        },
        "outputId": "d0ad6fa4-0b23-4899-a223-1dbd31ec40c0"
      },
      "outputs": [
        {
          "output_type": "stream",
          "name": "stdout",
          "text": [
            "min 0 max 16 mean 2.335354802641921\n"
          ]
        }
      ],
      "source": [
        "from osgeo import gdal, ogr,osr\n",
        "\n",
        "# Define pixel_size and NoData value of new raster\n",
        "#pixel_size = 12\n",
        "NoData_value =-9999\n",
        "\n",
        "# Filename of input OGR file\n",
        "train_fn = r'/content/drive/MyDrive/Cauca_all/social_merged.shp'\n",
        "train_ds=ogr.Open(train_fn)\n",
        "\n",
        "# Filename of the raster Tiff that will be created\n",
        "raster_fn = r'/content/drive/MyDrive/Cauca_all/social_merged.tif'\n",
        "\n",
        "# Open the data source and read in the extent\n",
        "naip_fn= r'/content/drive/MyDrive/Cauca_all/cauca_mask.tif'\n",
        "naip_ds=gdal.Open(naip_fn)\n",
        "\n",
        "#tipo formato, proyección y extensión del raster\n",
        "lyr=train_ds.GetLayer()\n",
        "driver=gdal.GetDriverByName('GTiff')\n",
        "target_ds=driver.Create(raster_fn,naip_ds.RasterXSize,naip_ds.RasterYSize,1,gdal.GDT_Byte)\n",
        "target_ds.SetGeoTransform(naip_ds.GetGeoTransform())\n",
        "target_ds.SetProjection(naip_ds.GetProjection())\n",
        "options=['ATTRIBUTE=OBJECTID_1']\n",
        "\n",
        "#Rasterizar y seleccionar numero de bandas\n",
        "gdal.RasterizeLayer(target_ds,[1],lyr,options=options)\n",
        "\n",
        "#Write data to band 1\n",
        "#band = target_ds.GetRasterBand(1)\n",
        "#band.SetNoDataValue(0)\n",
        "#band=None\n",
        "#target_ds=None\n",
        "\n",
        "#para verificar valores antes de exportar archivo\n",
        "social=target_ds.GetRasterBand(1).ReadAsArray()\n",
        "print('min',social.min(),'max',social.max(),'mean',social.mean())"
      ]
    },
    {
      "cell_type": "code",
      "execution_count": null,
      "metadata": {
        "colab": {
          "base_uri": "https://localhost:8080/"
        },
        "id": "uHQlrl_pOmPW",
        "outputId": "4c386b5f-6cb5-45f0-ec25-eb4f4435f4cc"
      },
      "outputs": [
        {
          "output_type": "execute_result",
          "data": {
            "text/plain": [
              "(21871, 20239)"
            ]
          },
          "metadata": {},
          "execution_count": 3
        }
      ],
      "source": [
        "social.shape"
      ]
    },
    {
      "cell_type": "code",
      "execution_count": null,
      "metadata": {
        "id": "OzllTvz5MWkI"
      },
      "outputs": [],
      "source": [
        "plt.figure()\n",
        "plt.imshow(social)"
      ]
    },
    {
      "cell_type": "markdown",
      "source": [
        "CONVERSION DE CAPA SOCIAL BINARIA"
      ],
      "metadata": {
        "id": "U9lsHieJfZf1"
      }
    },
    {
      "cell_type": "code",
      "source": [
        "import numpy as np"
      ],
      "metadata": {
        "id": "bbmGgKiUOCPS"
      },
      "execution_count": null,
      "outputs": []
    },
    {
      "cell_type": "code",
      "source": [
        "bin_social=np.where((social>=np.max(social)),1,0)\n",
        "print('min',bin_social.min(),'max',bin_social.max(),'mean',bin_social.mean())"
      ],
      "metadata": {
        "id": "Kzz_ia9jNhI6",
        "colab": {
          "base_uri": "https://localhost:8080/"
        },
        "outputId": "b9ccc3e3-1a37-4f67-decb-d88865c80730"
      },
      "execution_count": null,
      "outputs": [
        {
          "output_type": "stream",
          "name": "stdout",
          "text": [
            "min 0 max 1 mean 0.14595967516512007\n"
          ]
        }
      ]
    },
    {
      "cell_type": "code",
      "source": [
        "bin_social.shape"
      ],
      "metadata": {
        "colab": {
          "base_uri": "https://localhost:8080/"
        },
        "id": "TXhBmys9daI8",
        "outputId": "2501f67e-3e8f-4f7a-e429-495ee32f5dfe"
      },
      "execution_count": null,
      "outputs": [
        {
          "output_type": "execute_result",
          "data": {
            "text/plain": [
              "(21871, 20239)"
            ]
          },
          "metadata": {},
          "execution_count": 20
        }
      ]
    },
    {
      "cell_type": "code",
      "source": [
        "plt.figure()\n",
        "plt.imshow(bin_social)"
      ],
      "metadata": {
        "id": "6BjbMBY_ZvHE"
      },
      "execution_count": null,
      "outputs": []
    },
    {
      "cell_type": "markdown",
      "source": [
        "Extracción o almacenamiento en ruta ## COMO EXTRAER CON GDAL DIRECTAMENTE A LA MAQUINA"
      ],
      "metadata": {
        "id": "MxKUKvWmh0sp"
      }
    },
    {
      "cell_type": "code",
      "source": [
        "naip_fn= r'/content/drive/MyDrive/Cauca_all/cauca_mask.tif'\n",
        "naip_ds=gdal.Open(naip_fn)\n",
        "gt=naip_ds.GetGeoTransform()\n",
        "proj=naip_ds.GetProjection()\n",
        "\n",
        "driver=gdal.GetDriverByName('GTiff')\n",
        "driver.Register()\n",
        "raster_binSocial = r'/content/drive/MyDrive/Cauca_all/bin_social.tif'\n",
        "\n",
        "outds=driver.Create(raster_binSocial,xsize=bin_social.shape[1],\n",
        "                    ysize=bin_social.shape[0],bands=1,eType=gdal.GDT_Byte)\n",
        "outds.SetGeoTransform(gt)\n",
        "outds.SetProjection(proj)\n",
        "outband=outds.GetRasterBand(1)\n",
        "outband.WriteArray(bin_social)\n",
        "outband.SetNoDataValue(np.nan)\n",
        "\n",
        "outband=None\n",
        "outds=None\n",
        "#outband.FlushCache()"
      ],
      "metadata": {
        "id": "mrom7jN0dd_l"
      },
      "execution_count": null,
      "outputs": []
    },
    {
      "cell_type": "markdown",
      "source": [
        "###Rasterización binaria del resto de capas (vias,drenajes,suelos, centros poblados)###"
      ],
      "metadata": {
        "id": "z4lWlRR8h2yp"
      }
    },
    {
      "cell_type": "markdown",
      "source": [
        "Referencia_ rasterización# (receta)"
      ],
      "metadata": {
        "id": "pzoUlq5vogST"
      }
    },
    {
      "cell_type": "code",
      "execution_count": null,
      "metadata": {
        "id": "8sCPbpeTlBky"
      },
      "outputs": [],
      "source": [
        "# Define pixel_size and NoData value of new raster\n",
        "#pixel_size = 12\n",
        "NoData_value =-9999\n",
        "\n",
        "# Filename of input OGR file\n",
        "train_fn = r'/content/drive/MyDrive/Cauca_all/paramos.shp'\n",
        "train_ds=ogr.Open(train_fn)\n",
        "\n",
        "# Filename of the raster Tiff that will be created\n",
        "raster_fn = r'/content/drive/MyDrive/Cauca_all/paramos.tif'\n",
        "\n",
        "# Open the data source and read in the extent\n",
        "naip_fn= r'/content/drive/MyDrive/Cauca_all/cauca_mask.tif'\n",
        "naip_ds=gdal.Open(naip_fn)\n",
        "\n",
        "#tipo formato, proyección y extensión del raster\n",
        "lyr=train_ds.GetLayer()\n",
        "driver=gdal.GetDriverByName('GTiff')\n",
        "target_ds=driver.Create(raster_fn,naip_ds.RasterXSize,naip_ds.RasterYSize,1,gdal.GDT_UInt16)\n",
        "target_ds.SetGeoTransform(naip_ds.GetGeoTransform())\n",
        "target_ds.SetProjection(naip_ds.GetProjection())\n",
        "options=['ATTRIBUTE=OBJECTID']\n",
        "\n",
        "#Rasterizar y seleccionar numero de bandas\n",
        "gdal.RasterizeLayer(target_ds,[1],lyr,options=options)\n",
        "\n",
        "#Write data to band 1\n",
        "band = target_ds.GetRasterBand(1)\n",
        "band.SetNoDataValue(0)\n",
        "band=None\n",
        "target_ds=None\n",
        "\n",
        "#para verificar valores antes de exportar archivo\n",
        "#data=target_ds.GetRasterBand(1).ReadAsArray()\n",
        "#print('min',data.min(),'max',data.max(),'mean',data.mean())"
      ]
    },
    {
      "cell_type": "code",
      "execution_count": null,
      "metadata": {
        "id": "BmeMCSjl0apm"
      },
      "outputs": [],
      "source": [
        "plt.figure()\n",
        "plt.imshow(data)"
      ]
    },
    {
      "cell_type": "markdown",
      "source": [
        "Rasterización binaria de vias#"
      ],
      "metadata": {
        "id": "ATt3WQFWoAev"
      }
    },
    {
      "cell_type": "code",
      "source": [
        "Via.head()"
      ],
      "metadata": {
        "id": "eWYYpuDnogvk"
      },
      "execution_count": null,
      "outputs": []
    },
    {
      "cell_type": "code",
      "execution_count": null,
      "metadata": {
        "id": "u1wJtP5hYrc1",
        "colab": {
          "base_uri": "https://localhost:8080/"
        },
        "outputId": "ea2e022c-0b72-4d76-8e03-ed1beda8fe73"
      },
      "outputs": [
        {
          "output_type": "stream",
          "name": "stdout",
          "text": [
            "min 0 max 65535 mean 150.79516365324366\n"
          ]
        }
      ],
      "source": [
        "from osgeo import gdal, ogr,osr\n",
        "\n",
        "# Define pixel_size and NoData value of new raster\n",
        "#pixel_size = 12\n",
        "NoData_value =-9999\n",
        "\n",
        "# Filename of input OGR file\n",
        "train_fn = r'/content/drive/MyDrive/Cauca_all/vias.shp'\n",
        "train_ds=ogr.Open(train_fn)\n",
        "\n",
        "# Filename of the raster Tiff that will be created\n",
        "raster_fn = r'/content/drive/MyDrive/Cauca_all/vias.tif'\n",
        "\n",
        "# Open the data source and read in the extent\n",
        "naip_fn= r'/content/drive/MyDrive/Cauca_all/cauca_mask.tif'\n",
        "naip_ds=gdal.Open(naip_fn)\n",
        "gt=naip_ds.GetGeoTransform()\n",
        "proj=naip_ds.GetProjection()\n",
        "\n",
        "#tipo formato, proyección y extensión del raster\n",
        "lyr=train_ds.GetLayer()\n",
        "driver=gdal.GetDriverByName('GTiff')\n",
        "target_ds=driver.Create(raster_fn,naip_ds.RasterXSize,naip_ds.RasterYSize,1,gdal.GDT_UInt16)\n",
        "target_ds.SetGeoTransform(gt)\n",
        "target_ds.SetProjection(proj)\n",
        "options=['ATTRIBUTE=OBJECTID']\n",
        "\n",
        "#Rasterizar y seleccionar numero de bandas\n",
        "gdal.RasterizeLayer(target_ds,[1],lyr,options=options)\n",
        "\n",
        "#Write data to band 1\n",
        "#band = target_ds.GetRasterBand(1)\n",
        "#band.SetNoDataValue(0)\n",
        "#band=None\n",
        "#target_ds=None\n",
        "\n",
        "#para verificar valores antes de exportar archivo\n",
        "vias=target_ds.GetRasterBand(1).ReadAsArray()\n",
        "print('min',vias.min(),'max',vias.max(),'mean',vias.mean())"
      ]
    },
    {
      "cell_type": "code",
      "source": [
        "import numpy as np"
      ],
      "metadata": {
        "id": "ivXT_bMTrmNU"
      },
      "execution_count": null,
      "outputs": []
    },
    {
      "cell_type": "code",
      "source": [
        "bin_vias=np.where((vias>=np.max(vias)),1,0)\n",
        "print('min',bin_vias.min(),'max',bin_vias.max(),'mean',bin_vias.mean())"
      ],
      "metadata": {
        "colab": {
          "base_uri": "https://localhost:8080/"
        },
        "id": "yfWK05-Vru3B",
        "outputId": "f01b7161-bbbc-4b5c-8516-cad1ecf22c90"
      },
      "execution_count": null,
      "outputs": [
        {
          "output_type": "stream",
          "name": "stdout",
          "text": [
            "min 0 max 1 mean 0.002300654045299\n"
          ]
        }
      ]
    },
    {
      "cell_type": "code",
      "source": [
        "bin_vias.shape"
      ],
      "metadata": {
        "colab": {
          "base_uri": "https://localhost:8080/"
        },
        "outputId": "81e6d681-73fa-41ef-d73c-266c6a5d917d",
        "id": "5ZMgCNCqrmNV"
      },
      "execution_count": null,
      "outputs": [
        {
          "output_type": "execute_result",
          "data": {
            "text/plain": [
              "(21871, 20239)"
            ]
          },
          "metadata": {},
          "execution_count": 4
        }
      ]
    },
    {
      "cell_type": "code",
      "source": [
        "plt.figure()\n",
        "plt.imshow(bin_vias)"
      ],
      "metadata": {
        "id": "692Nbd3prmNV"
      },
      "execution_count": null,
      "outputs": []
    },
    {
      "cell_type": "markdown",
      "source": [
        "Extracción de vias binario a repositorio "
      ],
      "metadata": {
        "id": "K9c5rcPKs6uW"
      }
    },
    {
      "cell_type": "code",
      "source": [
        "naip_fn= r'/content/drive/MyDrive/Cauca_all/cauca_mask.tif'\n",
        "naip_ds=gdal.Open(naip_fn)\n",
        "gt=naip_ds.GetGeoTransform()\n",
        "proj=naip_ds.GetProjection()\n",
        "\n",
        "driver=gdal.GetDriverByName('GTiff')\n",
        "driver.Register()\n",
        "raster_binVias = r'/content/drive/MyDrive/Cauca_all/bin_vias.tif'\n",
        "\n",
        "outds=driver.Create(raster_binVias,xsize=bin_vias.shape[1],\n",
        "                    ysize=bin_vias.shape[0],bands=1,eType=gdal.GDT_Byte)\n",
        "outds.SetGeoTransform(gt)\n",
        "outds.SetProjection(proj)\n",
        "outband=outds.GetRasterBand(1)\n",
        "outband.WriteArray(bin_vias)\n",
        "outband.SetNoDataValue(np.nan)\n",
        "\n",
        "outband=None\n",
        "outds=None"
      ],
      "metadata": {
        "id": "Z0agGlv9s6BN"
      },
      "execution_count": null,
      "outputs": []
    },
    {
      "cell_type": "code",
      "source": [
        "Drenaje_sencillo=gp.read_file(\"/content/Cauca_all/drenaje_sencillo.shp\")\n",
        "Drenaje_doble=gp.read_file(\"/content/Cauca_all/drenaje_doble.shp\")"
      ],
      "metadata": {
        "id": "-MJDG2D2tJm1"
      },
      "execution_count": null,
      "outputs": []
    },
    {
      "cell_type": "markdown",
      "source": [
        "##UNION y Rasterización DE DRENAJES"
      ],
      "metadata": {
        "id": "odzJXppYuvrL"
      }
    },
    {
      "cell_type": "code",
      "source": [
        "drenaje=gp.overlay(Drenaje_sencillo,Drenaje_doble, how='union',keep_geom_type=True)"
      ],
      "metadata": {
        "id": "XGmuggZGuxit"
      },
      "execution_count": null,
      "outputs": []
    },
    {
      "cell_type": "code",
      "source": [
        "drenaje['valor_comun'] = 1"
      ],
      "metadata": {
        "id": "NRZhtgRcuuFd"
      },
      "execution_count": null,
      "outputs": []
    },
    {
      "cell_type": "code",
      "source": [
        "drenaje_final.head()"
      ],
      "metadata": {
        "colab": {
          "base_uri": "https://localhost:8080/",
          "height": 257
        },
        "id": "lXm1sfiuv81S",
        "outputId": "8bd3b9bf-4502-4f07-8f52-804ba372e858"
      },
      "execution_count": null,
      "outputs": [
        {
          "output_type": "execute_result",
          "data": {
            "text/plain": [
              "                                                      geometry  OBJECTID_1  \\\n",
              "valor_comun                                                                  \n",
              "1            MULTILINESTRING ((4536874.654 1908326.610, 453...    286670.0   \n",
              "\n",
              "                NOMBRE_GEO_1  ESTADO_DRE PROYECTO_1 SYMBOL_1     FECHA_1  \\\n",
              "valor_comun                                                                \n",
              "1            Quebrada Patico      5101.0     ARANAJ        2  1899-12-31   \n",
              "\n",
              "            DISPERSION  RULEID_1   PK_CUE_1  ... OBJECTID_2  NOMBRE_GEO_2  \\\n",
              "valor_comun                                  ...                            \n",
              "1                    0       1.0  1811419.0  ...      301.0      Río Naya   \n",
              "\n",
              "             PROYECTO_2 SYMBOL_2     FECHA_2 RULEID_2  PK_CUE_2  \\\n",
              "valor_comun                                                       \n",
              "1                ARANAJ        3  1899-12-30      1.0  621292.0   \n",
              "\n",
              "                                         GLOBALID_2   SHAPE_Leng_2  \\\n",
              "valor_comun                                                          \n",
              "1            {4D61E133-DBCB-4E78-B5A2-72DD83311EA7}  222918.564918   \n",
              "\n",
              "               SHAPE_Area  \n",
              "valor_comun                \n",
              "1            1.280119e+07  \n",
              "\n",
              "[1 rows x 22 columns]"
            ],
            "text/html": [
              "\n",
              "  <div id=\"df-6cd6fc98-60dd-4f92-9cda-f557faea5c96\">\n",
              "    <div class=\"colab-df-container\">\n",
              "      <div>\n",
              "<style scoped>\n",
              "    .dataframe tbody tr th:only-of-type {\n",
              "        vertical-align: middle;\n",
              "    }\n",
              "\n",
              "    .dataframe tbody tr th {\n",
              "        vertical-align: top;\n",
              "    }\n",
              "\n",
              "    .dataframe thead th {\n",
              "        text-align: right;\n",
              "    }\n",
              "</style>\n",
              "<table border=\"1\" class=\"dataframe\">\n",
              "  <thead>\n",
              "    <tr style=\"text-align: right;\">\n",
              "      <th></th>\n",
              "      <th>geometry</th>\n",
              "      <th>OBJECTID_1</th>\n",
              "      <th>NOMBRE_GEO_1</th>\n",
              "      <th>ESTADO_DRE</th>\n",
              "      <th>PROYECTO_1</th>\n",
              "      <th>SYMBOL_1</th>\n",
              "      <th>FECHA_1</th>\n",
              "      <th>DISPERSION</th>\n",
              "      <th>RULEID_1</th>\n",
              "      <th>PK_CUE_1</th>\n",
              "      <th>...</th>\n",
              "      <th>OBJECTID_2</th>\n",
              "      <th>NOMBRE_GEO_2</th>\n",
              "      <th>PROYECTO_2</th>\n",
              "      <th>SYMBOL_2</th>\n",
              "      <th>FECHA_2</th>\n",
              "      <th>RULEID_2</th>\n",
              "      <th>PK_CUE_2</th>\n",
              "      <th>GLOBALID_2</th>\n",
              "      <th>SHAPE_Leng_2</th>\n",
              "      <th>SHAPE_Area</th>\n",
              "    </tr>\n",
              "    <tr>\n",
              "      <th>valor_comun</th>\n",
              "      <th></th>\n",
              "      <th></th>\n",
              "      <th></th>\n",
              "      <th></th>\n",
              "      <th></th>\n",
              "      <th></th>\n",
              "      <th></th>\n",
              "      <th></th>\n",
              "      <th></th>\n",
              "      <th></th>\n",
              "      <th></th>\n",
              "      <th></th>\n",
              "      <th></th>\n",
              "      <th></th>\n",
              "      <th></th>\n",
              "      <th></th>\n",
              "      <th></th>\n",
              "      <th></th>\n",
              "      <th></th>\n",
              "      <th></th>\n",
              "      <th></th>\n",
              "    </tr>\n",
              "  </thead>\n",
              "  <tbody>\n",
              "    <tr>\n",
              "      <th>1</th>\n",
              "      <td>MULTILINESTRING ((4536874.654 1908326.610, 453...</td>\n",
              "      <td>286670.0</td>\n",
              "      <td>Quebrada Patico</td>\n",
              "      <td>5101.0</td>\n",
              "      <td>ARANAJ</td>\n",
              "      <td>2</td>\n",
              "      <td>1899-12-31</td>\n",
              "      <td>0</td>\n",
              "      <td>1.0</td>\n",
              "      <td>1811419.0</td>\n",
              "      <td>...</td>\n",
              "      <td>301.0</td>\n",
              "      <td>Río Naya</td>\n",
              "      <td>ARANAJ</td>\n",
              "      <td>3</td>\n",
              "      <td>1899-12-30</td>\n",
              "      <td>1.0</td>\n",
              "      <td>621292.0</td>\n",
              "      <td>{4D61E133-DBCB-4E78-B5A2-72DD83311EA7}</td>\n",
              "      <td>222918.564918</td>\n",
              "      <td>1.280119e+07</td>\n",
              "    </tr>\n",
              "  </tbody>\n",
              "</table>\n",
              "<p>1 rows × 22 columns</p>\n",
              "</div>\n",
              "      <button class=\"colab-df-convert\" onclick=\"convertToInteractive('df-6cd6fc98-60dd-4f92-9cda-f557faea5c96')\"\n",
              "              title=\"Convert this dataframe to an interactive table.\"\n",
              "              style=\"display:none;\">\n",
              "        \n",
              "  <svg xmlns=\"http://www.w3.org/2000/svg\" height=\"24px\"viewBox=\"0 0 24 24\"\n",
              "       width=\"24px\">\n",
              "    <path d=\"M0 0h24v24H0V0z\" fill=\"none\"/>\n",
              "    <path d=\"M18.56 5.44l.94 2.06.94-2.06 2.06-.94-2.06-.94-.94-2.06-.94 2.06-2.06.94zm-11 1L8.5 8.5l.94-2.06 2.06-.94-2.06-.94L8.5 2.5l-.94 2.06-2.06.94zm10 10l.94 2.06.94-2.06 2.06-.94-2.06-.94-.94-2.06-.94 2.06-2.06.94z\"/><path d=\"M17.41 7.96l-1.37-1.37c-.4-.4-.92-.59-1.43-.59-.52 0-1.04.2-1.43.59L10.3 9.45l-7.72 7.72c-.78.78-.78 2.05 0 2.83L4 21.41c.39.39.9.59 1.41.59.51 0 1.02-.2 1.41-.59l7.78-7.78 2.81-2.81c.8-.78.8-2.07 0-2.86zM5.41 20L4 18.59l7.72-7.72 1.47 1.35L5.41 20z\"/>\n",
              "  </svg>\n",
              "      </button>\n",
              "      \n",
              "  <style>\n",
              "    .colab-df-container {\n",
              "      display:flex;\n",
              "      flex-wrap:wrap;\n",
              "      gap: 12px;\n",
              "    }\n",
              "\n",
              "    .colab-df-convert {\n",
              "      background-color: #E8F0FE;\n",
              "      border: none;\n",
              "      border-radius: 50%;\n",
              "      cursor: pointer;\n",
              "      display: none;\n",
              "      fill: #1967D2;\n",
              "      height: 32px;\n",
              "      padding: 0 0 0 0;\n",
              "      width: 32px;\n",
              "    }\n",
              "\n",
              "    .colab-df-convert:hover {\n",
              "      background-color: #E2EBFA;\n",
              "      box-shadow: 0px 1px 2px rgba(60, 64, 67, 0.3), 0px 1px 3px 1px rgba(60, 64, 67, 0.15);\n",
              "      fill: #174EA6;\n",
              "    }\n",
              "\n",
              "    [theme=dark] .colab-df-convert {\n",
              "      background-color: #3B4455;\n",
              "      fill: #D2E3FC;\n",
              "    }\n",
              "\n",
              "    [theme=dark] .colab-df-convert:hover {\n",
              "      background-color: #434B5C;\n",
              "      box-shadow: 0px 1px 3px 1px rgba(0, 0, 0, 0.15);\n",
              "      filter: drop-shadow(0px 1px 2px rgba(0, 0, 0, 0.3));\n",
              "      fill: #FFFFFF;\n",
              "    }\n",
              "  </style>\n",
              "\n",
              "      <script>\n",
              "        const buttonEl =\n",
              "          document.querySelector('#df-6cd6fc98-60dd-4f92-9cda-f557faea5c96 button.colab-df-convert');\n",
              "        buttonEl.style.display =\n",
              "          google.colab.kernel.accessAllowed ? 'block' : 'none';\n",
              "\n",
              "        async function convertToInteractive(key) {\n",
              "          const element = document.querySelector('#df-6cd6fc98-60dd-4f92-9cda-f557faea5c96');\n",
              "          const dataTable =\n",
              "            await google.colab.kernel.invokeFunction('convertToInteractive',\n",
              "                                                     [key], {});\n",
              "          if (!dataTable) return;\n",
              "\n",
              "          const docLinkHtml = 'Like what you see? Visit the ' +\n",
              "            '<a target=\"_blank\" href=https://colab.research.google.com/notebooks/data_table.ipynb>data table notebook</a>'\n",
              "            + ' to learn more about interactive tables.';\n",
              "          element.innerHTML = '';\n",
              "          dataTable['output_type'] = 'display_data';\n",
              "          await google.colab.output.renderOutput(dataTable, element);\n",
              "          const docLink = document.createElement('div');\n",
              "          docLink.innerHTML = docLinkHtml;\n",
              "          element.appendChild(docLink);\n",
              "        }\n",
              "      </script>\n",
              "    </div>\n",
              "  </div>\n",
              "  "
            ]
          },
          "metadata": {},
          "execution_count": 31
        }
      ]
    },
    {
      "cell_type": "code",
      "execution_count": null,
      "metadata": {
        "id": "E6vRmHfPv81S"
      },
      "outputs": [],
      "source": [
        "drenaje_final=drenaje.dissolve(by='valor_comun')"
      ]
    },
    {
      "cell_type": "code",
      "execution_count": null,
      "metadata": {
        "colab": {
          "base_uri": "https://localhost:8080/"
        },
        "outputId": "c7504d42-4b17-4142-c2b3-cdb0ec3260f9",
        "id": "h4I76Qgov81S"
      },
      "outputs": [
        {
          "output_type": "stream",
          "name": "stderr",
          "text": [
            "<ipython-input-32-c2e490c86f13>:1: UserWarning: Column names longer than 10 characters will be truncated when saved to ESRI Shapefile.\n",
            "  drenaje_final.to_file(\"/content/drive/MyDrive/Cauca_all/drenaje_merged.shp\", index=False)\n",
            "WARNING:fiona._env:Normalized/laundered field name: 'NOMBRE_GEO_1' to 'NOMBRE_GEO'\n",
            "WARNING:fiona._env:Normalized/laundered field name: 'SHAPE_Leng_1' to 'SHAPE_Leng'\n",
            "WARNING:fiona._env:Normalized/laundered field name: 'NOMBRE_GEO_2' to 'NOMBRE_G_1'\n",
            "WARNING:fiona._env:Normalized/laundered field name: 'SHAPE_Leng_2' to 'SHAPE_Le_1'\n"
          ]
        }
      ],
      "source": [
        "drenaje_final.to_file(\"/content/drive/MyDrive/Cauca_all/drenaje_merged.shp\", index=False)"
      ]
    },
    {
      "cell_type": "code",
      "source": [
        "drenaje_final.head()"
      ],
      "metadata": {
        "colab": {
          "base_uri": "https://localhost:8080/",
          "height": 257
        },
        "id": "-WXt5tLaxA3c",
        "outputId": "b7e209f9-81f7-4cae-afc2-968bd39caf26"
      },
      "execution_count": null,
      "outputs": [
        {
          "output_type": "execute_result",
          "data": {
            "text/plain": [
              "                                                      geometry  OBJECTID_1  \\\n",
              "valor_comun                                                                  \n",
              "1            MULTILINESTRING ((4536874.654 1908326.610, 453...    286670.0   \n",
              "\n",
              "                NOMBRE_GEO_1  ESTADO_DRE PROYECTO_1 SYMBOL_1     FECHA_1  \\\n",
              "valor_comun                                                                \n",
              "1            Quebrada Patico      5101.0     ARANAJ        2  1899-12-31   \n",
              "\n",
              "            DISPERSION  RULEID_1   PK_CUE_1  ... OBJECTID_2  NOMBRE_GEO_2  \\\n",
              "valor_comun                                  ...                            \n",
              "1                    0       1.0  1811419.0  ...      301.0      Río Naya   \n",
              "\n",
              "             PROYECTO_2 SYMBOL_2     FECHA_2 RULEID_2  PK_CUE_2  \\\n",
              "valor_comun                                                       \n",
              "1                ARANAJ        3  1899-12-30      1.0  621292.0   \n",
              "\n",
              "                                         GLOBALID_2   SHAPE_Leng_2  \\\n",
              "valor_comun                                                          \n",
              "1            {4D61E133-DBCB-4E78-B5A2-72DD83311EA7}  222918.564918   \n",
              "\n",
              "               SHAPE_Area  \n",
              "valor_comun                \n",
              "1            1.280119e+07  \n",
              "\n",
              "[1 rows x 22 columns]"
            ],
            "text/html": [
              "\n",
              "  <div id=\"df-2ca81116-844e-4ce6-a6f5-f29bbcf7853f\">\n",
              "    <div class=\"colab-df-container\">\n",
              "      <div>\n",
              "<style scoped>\n",
              "    .dataframe tbody tr th:only-of-type {\n",
              "        vertical-align: middle;\n",
              "    }\n",
              "\n",
              "    .dataframe tbody tr th {\n",
              "        vertical-align: top;\n",
              "    }\n",
              "\n",
              "    .dataframe thead th {\n",
              "        text-align: right;\n",
              "    }\n",
              "</style>\n",
              "<table border=\"1\" class=\"dataframe\">\n",
              "  <thead>\n",
              "    <tr style=\"text-align: right;\">\n",
              "      <th></th>\n",
              "      <th>geometry</th>\n",
              "      <th>OBJECTID_1</th>\n",
              "      <th>NOMBRE_GEO_1</th>\n",
              "      <th>ESTADO_DRE</th>\n",
              "      <th>PROYECTO_1</th>\n",
              "      <th>SYMBOL_1</th>\n",
              "      <th>FECHA_1</th>\n",
              "      <th>DISPERSION</th>\n",
              "      <th>RULEID_1</th>\n",
              "      <th>PK_CUE_1</th>\n",
              "      <th>...</th>\n",
              "      <th>OBJECTID_2</th>\n",
              "      <th>NOMBRE_GEO_2</th>\n",
              "      <th>PROYECTO_2</th>\n",
              "      <th>SYMBOL_2</th>\n",
              "      <th>FECHA_2</th>\n",
              "      <th>RULEID_2</th>\n",
              "      <th>PK_CUE_2</th>\n",
              "      <th>GLOBALID_2</th>\n",
              "      <th>SHAPE_Leng_2</th>\n",
              "      <th>SHAPE_Area</th>\n",
              "    </tr>\n",
              "    <tr>\n",
              "      <th>valor_comun</th>\n",
              "      <th></th>\n",
              "      <th></th>\n",
              "      <th></th>\n",
              "      <th></th>\n",
              "      <th></th>\n",
              "      <th></th>\n",
              "      <th></th>\n",
              "      <th></th>\n",
              "      <th></th>\n",
              "      <th></th>\n",
              "      <th></th>\n",
              "      <th></th>\n",
              "      <th></th>\n",
              "      <th></th>\n",
              "      <th></th>\n",
              "      <th></th>\n",
              "      <th></th>\n",
              "      <th></th>\n",
              "      <th></th>\n",
              "      <th></th>\n",
              "      <th></th>\n",
              "    </tr>\n",
              "  </thead>\n",
              "  <tbody>\n",
              "    <tr>\n",
              "      <th>1</th>\n",
              "      <td>MULTILINESTRING ((4536874.654 1908326.610, 453...</td>\n",
              "      <td>286670.0</td>\n",
              "      <td>Quebrada Patico</td>\n",
              "      <td>5101.0</td>\n",
              "      <td>ARANAJ</td>\n",
              "      <td>2</td>\n",
              "      <td>1899-12-31</td>\n",
              "      <td>0</td>\n",
              "      <td>1.0</td>\n",
              "      <td>1811419.0</td>\n",
              "      <td>...</td>\n",
              "      <td>301.0</td>\n",
              "      <td>Río Naya</td>\n",
              "      <td>ARANAJ</td>\n",
              "      <td>3</td>\n",
              "      <td>1899-12-30</td>\n",
              "      <td>1.0</td>\n",
              "      <td>621292.0</td>\n",
              "      <td>{4D61E133-DBCB-4E78-B5A2-72DD83311EA7}</td>\n",
              "      <td>222918.564918</td>\n",
              "      <td>1.280119e+07</td>\n",
              "    </tr>\n",
              "  </tbody>\n",
              "</table>\n",
              "<p>1 rows × 22 columns</p>\n",
              "</div>\n",
              "      <button class=\"colab-df-convert\" onclick=\"convertToInteractive('df-2ca81116-844e-4ce6-a6f5-f29bbcf7853f')\"\n",
              "              title=\"Convert this dataframe to an interactive table.\"\n",
              "              style=\"display:none;\">\n",
              "        \n",
              "  <svg xmlns=\"http://www.w3.org/2000/svg\" height=\"24px\"viewBox=\"0 0 24 24\"\n",
              "       width=\"24px\">\n",
              "    <path d=\"M0 0h24v24H0V0z\" fill=\"none\"/>\n",
              "    <path d=\"M18.56 5.44l.94 2.06.94-2.06 2.06-.94-2.06-.94-.94-2.06-.94 2.06-2.06.94zm-11 1L8.5 8.5l.94-2.06 2.06-.94-2.06-.94L8.5 2.5l-.94 2.06-2.06.94zm10 10l.94 2.06.94-2.06 2.06-.94-2.06-.94-.94-2.06-.94 2.06-2.06.94z\"/><path d=\"M17.41 7.96l-1.37-1.37c-.4-.4-.92-.59-1.43-.59-.52 0-1.04.2-1.43.59L10.3 9.45l-7.72 7.72c-.78.78-.78 2.05 0 2.83L4 21.41c.39.39.9.59 1.41.59.51 0 1.02-.2 1.41-.59l7.78-7.78 2.81-2.81c.8-.78.8-2.07 0-2.86zM5.41 20L4 18.59l7.72-7.72 1.47 1.35L5.41 20z\"/>\n",
              "  </svg>\n",
              "      </button>\n",
              "      \n",
              "  <style>\n",
              "    .colab-df-container {\n",
              "      display:flex;\n",
              "      flex-wrap:wrap;\n",
              "      gap: 12px;\n",
              "    }\n",
              "\n",
              "    .colab-df-convert {\n",
              "      background-color: #E8F0FE;\n",
              "      border: none;\n",
              "      border-radius: 50%;\n",
              "      cursor: pointer;\n",
              "      display: none;\n",
              "      fill: #1967D2;\n",
              "      height: 32px;\n",
              "      padding: 0 0 0 0;\n",
              "      width: 32px;\n",
              "    }\n",
              "\n",
              "    .colab-df-convert:hover {\n",
              "      background-color: #E2EBFA;\n",
              "      box-shadow: 0px 1px 2px rgba(60, 64, 67, 0.3), 0px 1px 3px 1px rgba(60, 64, 67, 0.15);\n",
              "      fill: #174EA6;\n",
              "    }\n",
              "\n",
              "    [theme=dark] .colab-df-convert {\n",
              "      background-color: #3B4455;\n",
              "      fill: #D2E3FC;\n",
              "    }\n",
              "\n",
              "    [theme=dark] .colab-df-convert:hover {\n",
              "      background-color: #434B5C;\n",
              "      box-shadow: 0px 1px 3px 1px rgba(0, 0, 0, 0.15);\n",
              "      filter: drop-shadow(0px 1px 2px rgba(0, 0, 0, 0.3));\n",
              "      fill: #FFFFFF;\n",
              "    }\n",
              "  </style>\n",
              "\n",
              "      <script>\n",
              "        const buttonEl =\n",
              "          document.querySelector('#df-2ca81116-844e-4ce6-a6f5-f29bbcf7853f button.colab-df-convert');\n",
              "        buttonEl.style.display =\n",
              "          google.colab.kernel.accessAllowed ? 'block' : 'none';\n",
              "\n",
              "        async function convertToInteractive(key) {\n",
              "          const element = document.querySelector('#df-2ca81116-844e-4ce6-a6f5-f29bbcf7853f');\n",
              "          const dataTable =\n",
              "            await google.colab.kernel.invokeFunction('convertToInteractive',\n",
              "                                                     [key], {});\n",
              "          if (!dataTable) return;\n",
              "\n",
              "          const docLinkHtml = 'Like what you see? Visit the ' +\n",
              "            '<a target=\"_blank\" href=https://colab.research.google.com/notebooks/data_table.ipynb>data table notebook</a>'\n",
              "            + ' to learn more about interactive tables.';\n",
              "          element.innerHTML = '';\n",
              "          dataTable['output_type'] = 'display_data';\n",
              "          await google.colab.output.renderOutput(dataTable, element);\n",
              "          const docLink = document.createElement('div');\n",
              "          docLink.innerHTML = docLinkHtml;\n",
              "          element.appendChild(docLink);\n",
              "        }\n",
              "      </script>\n",
              "    </div>\n",
              "  </div>\n",
              "  "
            ]
          },
          "metadata": {},
          "execution_count": 34
        }
      ]
    },
    {
      "cell_type": "code",
      "source": [
        "from osgeo import gdal, ogr,osr\n",
        "\n",
        "# Define pixel_size and NoData value of new raster\n",
        "#pixel_size = 12\n",
        "NoData_value =-9999\n",
        "\n",
        "# Filename of input OGR file\n",
        "train_fn = r'/content/drive/MyDrive/Cauca_all/drenaje_merged.shp'\n",
        "train_ds=ogr.Open(train_fn)\n",
        "\n",
        "# Filename of the raster Tiff that will be created\n",
        "raster_fn = r'/content/drive/MyDrive/Cauca_all/drenaje.tif'\n",
        "\n",
        "# Open the data source and read in the extent\n",
        "naip_fn= r'/content/drive/MyDrive/Cauca_all/cauca_mask.tif'\n",
        "naip_ds=gdal.Open(naip_fn)\n",
        "gt=naip_ds.GetGeoTransform()\n",
        "proj=naip_ds.GetProjection()\n",
        "\n",
        "#tipo formato, proyección y extensión del raster\n",
        "lyr=train_ds.GetLayer()\n",
        "driver=gdal.GetDriverByName('GTiff')\n",
        "target_ds=driver.Create(raster_fn,naip_ds.RasterXSize,naip_ds.RasterYSize,1,gdal.GDT_UInt16)\n",
        "target_ds.SetGeoTransform(gt)\n",
        "target_ds.SetProjection(proj)\n",
        "options=['ATTRIBUTE=OBJECTID_1']\n",
        "\n",
        "#Rasterizar y seleccionar numero de bandas\n",
        "gdal.RasterizeLayer(target_ds,[1],lyr,options=options)\n",
        "\n",
        "#Write data to band 1\n",
        "#band = target_ds.GetRasterBand(1)\n",
        "#band.SetNoDataValue(0)\n",
        "#band=None\n",
        "#target_ds=None\n",
        "\n",
        "#para verificar valores antes de exportar archivo\n",
        "drenaje=target_ds.GetRasterBand(1).ReadAsArray()\n",
        "print('min',drenaje.min(),'max',drenaje.max(),'mean',drenaje.mean())"
      ],
      "metadata": {
        "colab": {
          "base_uri": "https://localhost:8080/"
        },
        "id": "M7tQBCePwlWP",
        "outputId": "3a27fcb3-bf54-464a-eb4d-2699a1202e33"
      },
      "execution_count": null,
      "outputs": [
        {
          "output_type": "stream",
          "name": "stdout",
          "text": [
            "min 0 max 65535 mean 444.1003643355505\n"
          ]
        }
      ]
    },
    {
      "cell_type": "code",
      "source": [
        "bin_drenaje=np.where((drenaje>=np.max(drenaje)),1,0)\n",
        "print('min',bin_drenaje.min(),'max',bin_drenaje.max(),'mean',bin_drenaje.mean())"
      ],
      "metadata": {
        "colab": {
          "base_uri": "https://localhost:8080/"
        },
        "id": "6I2M5_rcxcBh",
        "outputId": "daa534cc-9ca6-435e-930d-3c30bbac7d3a"
      },
      "execution_count": null,
      "outputs": [
        {
          "output_type": "stream",
          "name": "stdout",
          "text": [
            "min 0 max 1 mean 0.006776537183727024\n"
          ]
        }
      ]
    },
    {
      "cell_type": "code",
      "source": [
        "bin_drenaje.shape"
      ],
      "metadata": {
        "colab": {
          "base_uri": "https://localhost:8080/"
        },
        "id": "uSl-Y_7Zx1ea",
        "outputId": "20387ac5-e338-4fc0-ac5d-0d3523bd51b1"
      },
      "execution_count": null,
      "outputs": [
        {
          "output_type": "execute_result",
          "data": {
            "text/plain": [
              "(21871, 20239)"
            ]
          },
          "metadata": {},
          "execution_count": 11
        }
      ]
    },
    {
      "cell_type": "code",
      "source": [
        "naip_fn= r'/content/drive/MyDrive/Cauca_all/cauca_mask.tif'\n",
        "naip_ds=gdal.Open(naip_fn)\n",
        "gt=naip_ds.GetGeoTransform()\n",
        "proj=naip_ds.GetProjection()\n",
        "\n",
        "driver=gdal.GetDriverByName('GTiff')\n",
        "driver.Register()\n",
        "raster_bindrenaje = r'/content/drive/MyDrive/Cauca_all/bin_drenaje.tif'\n",
        "\n",
        "outds=driver.Create(raster_bindrenaje,xsize=bin_drenaje.shape[1],\n",
        "                    ysize=bin_drenaje.shape[0],bands=1,eType=gdal.GDT_Byte)\n",
        "outds.SetGeoTransform(gt)\n",
        "outds.SetProjection(proj)\n",
        "outband=outds.GetRasterBand(1)\n",
        "outband.WriteArray(bin_drenaje)\n",
        "outband.SetNoDataValue(np.nan)\n",
        "\n",
        "outband=None\n",
        "outds=None\n",
        "#outband.FlushCache()"
      ],
      "metadata": {
        "id": "RhKQ8VbLyMT8"
      },
      "execution_count": null,
      "outputs": []
    },
    {
      "cell_type": "markdown",
      "source": [
        "##Rasterización y binario de centros poblados"
      ],
      "metadata": {
        "id": "Hx_L47odzBCy"
      }
    },
    {
      "cell_type": "code",
      "source": [
        "centro_poblado_mascabeceras=gp.read_file(\"/content/Cauca_all/cent_pob_cabeceras.shp\")"
      ],
      "metadata": {
        "id": "arzgTwrJzAoC"
      },
      "execution_count": null,
      "outputs": []
    },
    {
      "cell_type": "code",
      "source": [
        "centro_poblado_mascabeceras.head()"
      ],
      "metadata": {
        "colab": {
          "base_uri": "https://localhost:8080/",
          "height": 530
        },
        "id": "BTUB6-iNEA_7",
        "outputId": "78b2c36f-c5c3-40b5-cfb0-14c0d37639e1"
      },
      "execution_count": null,
      "outputs": [
        {
          "output_type": "execute_result",
          "data": {
            "text/plain": [
              "   OBJECTID DPTO_CCDGO MPIO_CCDGO MPIO_CDPMP CLAS_CCDGO CLAS_CCNCT  \\\n",
              "0         1         18        205      18205          2     182052   \n",
              "1         2         19        001      19001          1     190011   \n",
              "2         3         19        001      19001          2     190012   \n",
              "3         4         19        022      19022          1     190221   \n",
              "4         5         19        022      19022          2     190222   \n",
              "\n",
              "   CLAS_NAREA  CLAS_VGNC  Shape_Leng     Shape_Le_1    Shape_Area  \\\n",
              "0    0.147158       2021    0.030568     539.210057  3.080069e+03   \n",
              "1   32.335163       2021    0.702000   77943.060406  3.234875e+07   \n",
              "2    5.510520       2021    0.939847  104358.220133  5.512810e+06   \n",
              "3    0.358362       2021    0.031673    3520.839898  3.585745e+05   \n",
              "4    0.163814       2021    0.049097    5455.363670  1.639104e+05   \n",
              "\n",
              "                                            geometry  \n",
              "0  POLYGON ((4656242.791 1676310.930, 4656238.055...  \n",
              "1  MULTIPOLYGON (((4595226.476 1829473.614, 45952...  \n",
              "2  MULTIPOLYGON (((4605351.829 1823624.644, 46053...  \n",
              "3  POLYGON ((4571369.000 1770274.230, 4571424.387...  \n",
              "4  MULTIPOLYGON (((4572690.282 1764912.866, 45726...  "
            ],
            "text/html": [
              "\n",
              "  <div id=\"df-cce33d90-1f6c-497d-bbb5-b0757510564c\">\n",
              "    <div class=\"colab-df-container\">\n",
              "      <div>\n",
              "<style scoped>\n",
              "    .dataframe tbody tr th:only-of-type {\n",
              "        vertical-align: middle;\n",
              "    }\n",
              "\n",
              "    .dataframe tbody tr th {\n",
              "        vertical-align: top;\n",
              "    }\n",
              "\n",
              "    .dataframe thead th {\n",
              "        text-align: right;\n",
              "    }\n",
              "</style>\n",
              "<table border=\"1\" class=\"dataframe\">\n",
              "  <thead>\n",
              "    <tr style=\"text-align: right;\">\n",
              "      <th></th>\n",
              "      <th>OBJECTID</th>\n",
              "      <th>DPTO_CCDGO</th>\n",
              "      <th>MPIO_CCDGO</th>\n",
              "      <th>MPIO_CDPMP</th>\n",
              "      <th>CLAS_CCDGO</th>\n",
              "      <th>CLAS_CCNCT</th>\n",
              "      <th>CLAS_NAREA</th>\n",
              "      <th>CLAS_VGNC</th>\n",
              "      <th>Shape_Leng</th>\n",
              "      <th>Shape_Le_1</th>\n",
              "      <th>Shape_Area</th>\n",
              "      <th>geometry</th>\n",
              "    </tr>\n",
              "  </thead>\n",
              "  <tbody>\n",
              "    <tr>\n",
              "      <th>0</th>\n",
              "      <td>1</td>\n",
              "      <td>18</td>\n",
              "      <td>205</td>\n",
              "      <td>18205</td>\n",
              "      <td>2</td>\n",
              "      <td>182052</td>\n",
              "      <td>0.147158</td>\n",
              "      <td>2021</td>\n",
              "      <td>0.030568</td>\n",
              "      <td>539.210057</td>\n",
              "      <td>3.080069e+03</td>\n",
              "      <td>POLYGON ((4656242.791 1676310.930, 4656238.055...</td>\n",
              "    </tr>\n",
              "    <tr>\n",
              "      <th>1</th>\n",
              "      <td>2</td>\n",
              "      <td>19</td>\n",
              "      <td>001</td>\n",
              "      <td>19001</td>\n",
              "      <td>1</td>\n",
              "      <td>190011</td>\n",
              "      <td>32.335163</td>\n",
              "      <td>2021</td>\n",
              "      <td>0.702000</td>\n",
              "      <td>77943.060406</td>\n",
              "      <td>3.234875e+07</td>\n",
              "      <td>MULTIPOLYGON (((4595226.476 1829473.614, 45952...</td>\n",
              "    </tr>\n",
              "    <tr>\n",
              "      <th>2</th>\n",
              "      <td>3</td>\n",
              "      <td>19</td>\n",
              "      <td>001</td>\n",
              "      <td>19001</td>\n",
              "      <td>2</td>\n",
              "      <td>190012</td>\n",
              "      <td>5.510520</td>\n",
              "      <td>2021</td>\n",
              "      <td>0.939847</td>\n",
              "      <td>104358.220133</td>\n",
              "      <td>5.512810e+06</td>\n",
              "      <td>MULTIPOLYGON (((4605351.829 1823624.644, 46053...</td>\n",
              "    </tr>\n",
              "    <tr>\n",
              "      <th>3</th>\n",
              "      <td>4</td>\n",
              "      <td>19</td>\n",
              "      <td>022</td>\n",
              "      <td>19022</td>\n",
              "      <td>1</td>\n",
              "      <td>190221</td>\n",
              "      <td>0.358362</td>\n",
              "      <td>2021</td>\n",
              "      <td>0.031673</td>\n",
              "      <td>3520.839898</td>\n",
              "      <td>3.585745e+05</td>\n",
              "      <td>POLYGON ((4571369.000 1770274.230, 4571424.387...</td>\n",
              "    </tr>\n",
              "    <tr>\n",
              "      <th>4</th>\n",
              "      <td>5</td>\n",
              "      <td>19</td>\n",
              "      <td>022</td>\n",
              "      <td>19022</td>\n",
              "      <td>2</td>\n",
              "      <td>190222</td>\n",
              "      <td>0.163814</td>\n",
              "      <td>2021</td>\n",
              "      <td>0.049097</td>\n",
              "      <td>5455.363670</td>\n",
              "      <td>1.639104e+05</td>\n",
              "      <td>MULTIPOLYGON (((4572690.282 1764912.866, 45726...</td>\n",
              "    </tr>\n",
              "  </tbody>\n",
              "</table>\n",
              "</div>\n",
              "      <button class=\"colab-df-convert\" onclick=\"convertToInteractive('df-cce33d90-1f6c-497d-bbb5-b0757510564c')\"\n",
              "              title=\"Convert this dataframe to an interactive table.\"\n",
              "              style=\"display:none;\">\n",
              "        \n",
              "  <svg xmlns=\"http://www.w3.org/2000/svg\" height=\"24px\"viewBox=\"0 0 24 24\"\n",
              "       width=\"24px\">\n",
              "    <path d=\"M0 0h24v24H0V0z\" fill=\"none\"/>\n",
              "    <path d=\"M18.56 5.44l.94 2.06.94-2.06 2.06-.94-2.06-.94-.94-2.06-.94 2.06-2.06.94zm-11 1L8.5 8.5l.94-2.06 2.06-.94-2.06-.94L8.5 2.5l-.94 2.06-2.06.94zm10 10l.94 2.06.94-2.06 2.06-.94-2.06-.94-.94-2.06-.94 2.06-2.06.94z\"/><path d=\"M17.41 7.96l-1.37-1.37c-.4-.4-.92-.59-1.43-.59-.52 0-1.04.2-1.43.59L10.3 9.45l-7.72 7.72c-.78.78-.78 2.05 0 2.83L4 21.41c.39.39.9.59 1.41.59.51 0 1.02-.2 1.41-.59l7.78-7.78 2.81-2.81c.8-.78.8-2.07 0-2.86zM5.41 20L4 18.59l7.72-7.72 1.47 1.35L5.41 20z\"/>\n",
              "  </svg>\n",
              "      </button>\n",
              "      \n",
              "  <style>\n",
              "    .colab-df-container {\n",
              "      display:flex;\n",
              "      flex-wrap:wrap;\n",
              "      gap: 12px;\n",
              "    }\n",
              "\n",
              "    .colab-df-convert {\n",
              "      background-color: #E8F0FE;\n",
              "      border: none;\n",
              "      border-radius: 50%;\n",
              "      cursor: pointer;\n",
              "      display: none;\n",
              "      fill: #1967D2;\n",
              "      height: 32px;\n",
              "      padding: 0 0 0 0;\n",
              "      width: 32px;\n",
              "    }\n",
              "\n",
              "    .colab-df-convert:hover {\n",
              "      background-color: #E2EBFA;\n",
              "      box-shadow: 0px 1px 2px rgba(60, 64, 67, 0.3), 0px 1px 3px 1px rgba(60, 64, 67, 0.15);\n",
              "      fill: #174EA6;\n",
              "    }\n",
              "\n",
              "    [theme=dark] .colab-df-convert {\n",
              "      background-color: #3B4455;\n",
              "      fill: #D2E3FC;\n",
              "    }\n",
              "\n",
              "    [theme=dark] .colab-df-convert:hover {\n",
              "      background-color: #434B5C;\n",
              "      box-shadow: 0px 1px 3px 1px rgba(0, 0, 0, 0.15);\n",
              "      filter: drop-shadow(0px 1px 2px rgba(0, 0, 0, 0.3));\n",
              "      fill: #FFFFFF;\n",
              "    }\n",
              "  </style>\n",
              "\n",
              "      <script>\n",
              "        const buttonEl =\n",
              "          document.querySelector('#df-cce33d90-1f6c-497d-bbb5-b0757510564c button.colab-df-convert');\n",
              "        buttonEl.style.display =\n",
              "          google.colab.kernel.accessAllowed ? 'block' : 'none';\n",
              "\n",
              "        async function convertToInteractive(key) {\n",
              "          const element = document.querySelector('#df-cce33d90-1f6c-497d-bbb5-b0757510564c');\n",
              "          const dataTable =\n",
              "            await google.colab.kernel.invokeFunction('convertToInteractive',\n",
              "                                                     [key], {});\n",
              "          if (!dataTable) return;\n",
              "\n",
              "          const docLinkHtml = 'Like what you see? Visit the ' +\n",
              "            '<a target=\"_blank\" href=https://colab.research.google.com/notebooks/data_table.ipynb>data table notebook</a>'\n",
              "            + ' to learn more about interactive tables.';\n",
              "          element.innerHTML = '';\n",
              "          dataTable['output_type'] = 'display_data';\n",
              "          await google.colab.output.renderOutput(dataTable, element);\n",
              "          const docLink = document.createElement('div');\n",
              "          docLink.innerHTML = docLinkHtml;\n",
              "          element.appendChild(docLink);\n",
              "        }\n",
              "      </script>\n",
              "    </div>\n",
              "  </div>\n",
              "  "
            ]
          },
          "metadata": {},
          "execution_count": 31
        }
      ]
    },
    {
      "cell_type": "code",
      "source": [
        "from osgeo import gdal, ogr,osr\n",
        "\n",
        "# Define pixel_size and NoData value of new raster\n",
        "#pixel_size = 12\n",
        "NoData_value =-9999\n",
        "\n",
        "# Filename of input OGR file\n",
        "train_fn = r'/content/Cauca_all/cent_pob_cabeceras.shp'\n",
        "train_ds=ogr.Open(train_fn)\n",
        "\n",
        "# Filename of the raster Tiff that will be created\n",
        "raster_fn = r'/content/drive/MyDrive/Cauca_all/centros_poblados.tif'\n",
        "\n",
        "# Open the data source and read in the extent\n",
        "naip_fn= r'/content/drive/MyDrive/Cauca_all/cauca_mask.tif'\n",
        "naip_ds=gdal.Open(naip_fn)\n",
        "\n",
        "gt=naip_ds.GetGeoTransform()\n",
        "proj=naip_ds.GetProjection()\n",
        "\n",
        "#tipo formato, proyección y extensión del raster\n",
        "lyr=train_ds.GetLayer()\n",
        "driver=gdal.GetDriverByName('GTiff')\n",
        "target_ds=driver.Create(raster_fn,naip_ds.RasterXSize,naip_ds.RasterYSize,1,gdal.GDT_Byte)\n",
        "target_ds.SetGeoTransform(gt)\n",
        "target_ds.SetProjection(proj)\n",
        "options=['ATTRIBUTE=OBJECTID']\n",
        "\n",
        "#Rasterizar y seleccionar numero de bandas\n",
        "gdal.RasterizeLayer(target_ds,[1],lyr,options=options)\n",
        "\n",
        "#Write data to band 1\n",
        "#band = target_ds.GetRasterBand(1)\n",
        "#band.SetNoDataValue(0)\n",
        "#band=None\n",
        "#target_ds=None\n",
        "\n",
        "#para verificar valores antes de exportar archivo\n",
        "centros_poblados=target_ds.GetRasterBand(1).ReadAsArray()\n",
        "print('min',centros_poblados.min(),'max',centros_poblados.max(),'mean',centros_poblados.mean())"
      ],
      "metadata": {
        "colab": {
          "base_uri": "https://localhost:8080/"
        },
        "id": "c4OGJrR-Dlkp",
        "outputId": "dfeafdb4-b00b-4d98-83e3-499a0bcdad7c"
      },
      "execution_count": null,
      "outputs": [
        {
          "output_type": "stream",
          "name": "stdout",
          "text": [
            "min 0 max 91 mean 0.0792384916393761\n"
          ]
        }
      ]
    },
    {
      "cell_type": "code",
      "source": [
        "bin_centros_poblados=np.where((centros_poblados>np.min(centros_poblados)),1,0)\n",
        "print('min',bin_centros_poblados.min(),'max',bin_centros_poblados.max(),'mean',bin_centros_poblados.mean())"
      ],
      "metadata": {
        "colab": {
          "base_uri": "https://localhost:8080/"
        },
        "id": "3m66gJkdE03E",
        "outputId": "02a3cf32-7cd3-4b75-a4dc-ac3913d6e073"
      },
      "execution_count": null,
      "outputs": [
        {
          "output_type": "stream",
          "name": "stdout",
          "text": [
            "min 0 max 1 mean 0.0022177211755758457\n"
          ]
        }
      ]
    },
    {
      "cell_type": "code",
      "source": [
        "bin_centros_poblados.shape"
      ],
      "metadata": {
        "colab": {
          "base_uri": "https://localhost:8080/"
        },
        "outputId": "ee4d4682-8f45-40e6-ec6e-032920f9cee5",
        "id": "LqPnACDiFMuS"
      },
      "execution_count": null,
      "outputs": [
        {
          "output_type": "execute_result",
          "data": {
            "text/plain": [
              "(21871, 20239)"
            ]
          },
          "metadata": {},
          "execution_count": 12
        }
      ]
    },
    {
      "cell_type": "code",
      "source": [
        "plt.figure()\n",
        "plt.imshow(bin_centros_poblados)"
      ],
      "metadata": {
        "colab": {
          "base_uri": "https://localhost:8080/",
          "height": 453
        },
        "id": "_BA6AfndFMuT",
        "outputId": "f92f5594-3a2f-407c-bf4e-e5a5bcb3d4bd"
      },
      "execution_count": null,
      "outputs": [
        {
          "output_type": "execute_result",
          "data": {
            "text/plain": [
              "<matplotlib.image.AxesImage at 0x7f94e9024820>"
            ]
          },
          "metadata": {},
          "execution_count": 14
        },
        {
          "output_type": "display_data",
          "data": {
            "text/plain": [
              "<Figure size 640x480 with 1 Axes>"
            ],
            "image/png": "[encoded data removed]"
          },
          "metadata": {}
        }
      ]
    },
    {
      "cell_type": "markdown",
      "source": [
        "Extracción de vias binario a repositorio "
      ],
      "metadata": {
        "id": "v9iWFd0yFMuT"
      }
    },
    {
      "cell_type": "code",
      "source": [
        "naip_fn= r'/content/drive/MyDrive/Cauca_all/cauca_mask.tif'\n",
        "naip_ds=gdal.Open(naip_fn)\n",
        "gt=naip_ds.GetGeoTransform()\n",
        "proj=naip_ds.GetProjection()\n",
        "\n",
        "driver=gdal.GetDriverByName('GTiff')\n",
        "driver.Register()\n",
        "raster_bin= r'/content/drive/MyDrive/Cauca_all/bin_centros_poblados.tif'\n",
        "\n",
        "outds=driver.Create(raster_bin,xsize=bin_centros_poblados.shape[1],\n",
        "                    ysize=bin_centros_poblados.shape[0],bands=1,eType=gdal.GDT_Byte)\n",
        "outds.SetGeoTransform(gt)\n",
        "outds.SetProjection(proj)\n",
        "outband=outds.GetRasterBand(1)\n",
        "outband.WriteArray(bin_centros_poblados)\n",
        "outband.SetNoDataValue(np.nan)\n",
        "\n",
        "outband=None\n",
        "outds=None"
      ],
      "metadata": {
        "id": "6V_0U7zkFMuT"
      },
      "execution_count": null,
      "outputs": []
    },
    {
      "cell_type": "markdown",
      "source": [
        "##Rasterización binaria de la mascara del departamento "
      ],
      "metadata": {
        "id": "EI0Pev1lYqYx"
      }
    },
    {
      "cell_type": "code",
      "source": [
        "dem = gdal.Open(\"/content/drive/MyDrive/Cauca_all/dem_cauca.tif\")\n",
        "band=dem.GetRasterBand(1)\n",
        "array=band.ReadAsArray()"
      ],
      "metadata": {
        "id": "mmag5QZRYwlB"
      },
      "execution_count": null,
      "outputs": []
    },
    {
      "cell_type": "code",
      "source": [
        "print('min',array.min(),'max',array.max(),'mean',array.mean())"
      ],
      "metadata": {
        "colab": {
          "base_uri": "https://localhost:8080/"
        },
        "id": "ZKMmr9iGZwbz",
        "outputId": "a79a67d9-7c04-42c1-ac04-cb8a2604bd22"
      },
      "execution_count": null,
      "outputs": [
        {
          "output_type": "stream",
          "name": "stdout",
          "text": [
            "min -7 max 5415 mean 750.779034766282\n"
          ]
        }
      ]
    },
    {
      "cell_type": "code",
      "source": [
        "#[np.where((my_array >= min_val) & (my_array <= max_val))]\n",
        "bin_mask=np.where((array>=(np.min(array)) & (array<=np.max(array))),1,0)\n",
        "print('min',bin_mask.min(),'max',bin_mask.max(),'mean',bin_mask.mean())"
      ],
      "metadata": {
        "colab": {
          "base_uri": "https://localhost:8080/"
        },
        "id": "txCyVbZkafoF",
        "outputId": "d4954765-4fea-42f6-e6a6-3736fca219e8"
      },
      "execution_count": null,
      "outputs": [
        {
          "output_type": "stream",
          "name": "stdout",
          "text": [
            "min 0 max 1 mean 0.4827360588161314\n"
          ]
        }
      ]
    },
    {
      "cell_type": "markdown",
      "source": [
        "Extracción de mascara binaria a maquina"
      ],
      "metadata": {
        "id": "o7yQAplUbKYd"
      }
    },
    {
      "cell_type": "code",
      "source": [
        "naip_fn= r'/content/drive/MyDrive/Cauca_all/dem_cauca.tif'\n",
        "naip_ds=gdal.Open(naip_fn)\n",
        "gt=naip_ds.GetGeoTransform()\n",
        "proj=naip_ds.GetProjection()\n",
        "\n",
        "driver=gdal.GetDriverByName('GTiff')\n",
        "driver.Register()\n",
        "raster_bin= r'/content/drive/MyDrive/Cauca_all/bin_mask.tif'\n",
        "\n",
        "outds=driver.Create(raster_bin,xsize=bin_mask.shape[1],\n",
        "                    ysize=bin_mask.shape[0],bands=1,eType=gdal.GDT_Byte)\n",
        "outds.SetGeoTransform(gt)\n",
        "outds.SetProjection(proj)\n",
        "outband=outds.GetRasterBand(1)\n",
        "outband.WriteArray(bin_mask)\n",
        "outband.SetNoDataValue(np.nan)\n",
        "\n",
        "outband=None\n",
        "outds=None"
      ],
      "metadata": {
        "id": "cWoD1oYGbNRa"
      },
      "execution_count": null,
      "outputs": []
    },
    {
      "cell_type": "markdown",
      "metadata": {
        "id": "lZ2bmskWS1rt"
      },
      "source": [
        "#Exploración y rasterización capas Coberturas y suelos Cauca#"
      ]
    },
    {
      "cell_type": "code",
      "source": [
        "suelos=gp.read_file(\"/content/Cauca_all/Suelos_Cauca.shp\")\n",
        "Cobertura_2018=gp.read_file(\"/content/drive/MyDrive/Cauca_all/Cobertura_Tierra_2018.shp\")\n",
        "#Cobertura_2010_2012=gp.read_file(\"/content/drive/MyDrive/Cauca_all/cob_2010_2012.shp\")\n",
        "#Cobertura_2005_2009=gp.read_file(\"/content/drive/MyDrive/Cauca_all/cob_2005_2009.shp\")\n",
        "Cobertura_2000_2002=gp.read_file(\"/content/drive/MyDrive/Cauca_all/cob_2000_2002.shp\")"
      ],
      "metadata": {
        "id": "3MGHNp6CeXlH"
      },
      "execution_count": null,
      "outputs": []
    },
    {
      "cell_type": "code",
      "source": [
        "Cobertura_2018.plot(column='nivel_3',legend=True, legend_kwds={'loc': 'center left', 'bbox_to_anchor':(1,0.5)})"
      ],
      "metadata": {
        "colab": {
          "base_uri": "https://localhost:8080/",
          "height": 876
        },
        "id": "Bf2LdZeHgTgW",
        "outputId": "4eb3e7ef-b971-4809-961a-7e743593354c"
      },
      "execution_count": null,
      "outputs": [
        {
          "output_type": "execute_result",
          "data": {
            "text/plain": [
              "<Axes: >"
            ]
          },
          "metadata": {},
          "execution_count": 30
        },
        {
          "output_type": "display_data",
          "data": {
            "text/plain": [
              "<Figure size 640x480 with 1 Axes>"
            ],
            "image/png": "[encoded data removed]"
          },
          "metadata": {}
        }
      ]
    },
    {
      "cell_type": "code",
      "source": [
        "Cobertura_2000_2002.plot(column='NIVEL3',legend=True, legend_kwds={'loc': 'center down', 'bbox_to_anchor':(1,0.5)})"
      ],
      "metadata": {
        "id": "00VwyLs7fYW2"
      },
      "execution_count": null,
      "outputs": []
    },
    {
      "cell_type": "code",
      "execution_count": null,
      "metadata": {
        "colab": {
          "base_uri": "https://localhost:8080/",
          "height": 206
        },
        "id": "HkOOcPvwQyrs",
        "outputId": "955a0996-1e20-4a78-fb7f-3784bb8337c1"
      },
      "outputs": [
        {
          "output_type": "execute_result",
          "data": {
            "text/plain": [
              "   CODIGO                                             NIVEL3  \\\n",
              "0     242                2.4.2. Mosaico de pastos y cultivos   \n",
              "1     243  2.4.3. Mosaico de cultivos, pastos y espacios ...   \n",
              "2     242                2.4.2. Mosaico de pastos y cultivos   \n",
              "3     231                              2.3.1. Pastos limpios   \n",
              "4     233                          2.3.3. Pastos enmalezados   \n",
              "\n",
              "                                             LEYENDA  Shape_Area  RULEID  \\\n",
              "0                2.4.2. Mosaico de pastos y cultivos    0.000020      26   \n",
              "1  2.4.3. Mosaico de cultivos, pastos y espacios ...    0.000103      27   \n",
              "2                2.4.2. Mosaico de pastos y cultivos    0.000750      26   \n",
              "3                              2.3.1. Pastos limpios    0.000745      22   \n",
              "4                          2.3.3. Pastos enmalezados    0.000201      24   \n",
              "\n",
              "                                            geometry  \n",
              "0  POLYGON ((4579063.715 1755508.749, 4579070.827...  \n",
              "1  POLYGON ((4579307.707 1755705.318, 4579292.328...  \n",
              "2  POLYGON ((4581130.612 1755646.597, 4581078.489...  \n",
              "3  POLYGON ((4578131.319 1757506.034, 4578156.873...  \n",
              "4  POLYGON ((4582172.196 1765755.426, 4582151.225...  "
            ],
            "text/html": [
              "\n",
              "  <div id=\"df-52014ae2-2cfe-49e7-882b-02d3966ebf58\">\n",
              "    <div class=\"colab-df-container\">\n",
              "      <div>\n",
              "<style scoped>\n",
              "    .dataframe tbody tr th:only-of-type {\n",
              "        vertical-align: middle;\n",
              "    }\n",
              "\n",
              "    .dataframe tbody tr th {\n",
              "        vertical-align: top;\n",
              "    }\n",
              "\n",
              "    .dataframe thead th {\n",
              "        text-align: right;\n",
              "    }\n",
              "</style>\n",
              "<table border=\"1\" class=\"dataframe\">\n",
              "  <thead>\n",
              "    <tr style=\"text-align: right;\">\n",
              "      <th></th>\n",
              "      <th>CODIGO</th>\n",
              "      <th>NIVEL3</th>\n",
              "      <th>LEYENDA</th>\n",
              "      <th>Shape_Area</th>\n",
              "      <th>RULEID</th>\n",
              "      <th>geometry</th>\n",
              "    </tr>\n",
              "  </thead>\n",
              "  <tbody>\n",
              "    <tr>\n",
              "      <th>0</th>\n",
              "      <td>242</td>\n",
              "      <td>2.4.2. Mosaico de pastos y cultivos</td>\n",
              "      <td>2.4.2. Mosaico de pastos y cultivos</td>\n",
              "      <td>0.000020</td>\n",
              "      <td>26</td>\n",
              "      <td>POLYGON ((4579063.715 1755508.749, 4579070.827...</td>\n",
              "    </tr>\n",
              "    <tr>\n",
              "      <th>1</th>\n",
              "      <td>243</td>\n",
              "      <td>2.4.3. Mosaico de cultivos, pastos y espacios ...</td>\n",
              "      <td>2.4.3. Mosaico de cultivos, pastos y espacios ...</td>\n",
              "      <td>0.000103</td>\n",
              "      <td>27</td>\n",
              "      <td>POLYGON ((4579307.707 1755705.318, 4579292.328...</td>\n",
              "    </tr>\n",
              "    <tr>\n",
              "      <th>2</th>\n",
              "      <td>242</td>\n",
              "      <td>2.4.2. Mosaico de pastos y cultivos</td>\n",
              "      <td>2.4.2. Mosaico de pastos y cultivos</td>\n",
              "      <td>0.000750</td>\n",
              "      <td>26</td>\n",
              "      <td>POLYGON ((4581130.612 1755646.597, 4581078.489...</td>\n",
              "    </tr>\n",
              "    <tr>\n",
              "      <th>3</th>\n",
              "      <td>231</td>\n",
              "      <td>2.3.1. Pastos limpios</td>\n",
              "      <td>2.3.1. Pastos limpios</td>\n",
              "      <td>0.000745</td>\n",
              "      <td>22</td>\n",
              "      <td>POLYGON ((4578131.319 1757506.034, 4578156.873...</td>\n",
              "    </tr>\n",
              "    <tr>\n",
              "      <th>4</th>\n",
              "      <td>233</td>\n",
              "      <td>2.3.3. Pastos enmalezados</td>\n",
              "      <td>2.3.3. Pastos enmalezados</td>\n",
              "      <td>0.000201</td>\n",
              "      <td>24</td>\n",
              "      <td>POLYGON ((4582172.196 1765755.426, 4582151.225...</td>\n",
              "    </tr>\n",
              "  </tbody>\n",
              "</table>\n",
              "</div>\n",
              "      <button class=\"colab-df-convert\" onclick=\"convertToInteractive('df-52014ae2-2cfe-49e7-882b-02d3966ebf58')\"\n",
              "              title=\"Convert this dataframe to an interactive table.\"\n",
              "              style=\"display:none;\">\n",
              "        \n",
              "  <svg xmlns=\"http://www.w3.org/2000/svg\" height=\"24px\"viewBox=\"0 0 24 24\"\n",
              "       width=\"24px\">\n",
              "    <path d=\"M0 0h24v24H0V0z\" fill=\"none\"/>\n",
              "    <path d=\"M18.56 5.44l.94 2.06.94-2.06 2.06-.94-2.06-.94-.94-2.06-.94 2.06-2.06.94zm-11 1L8.5 8.5l.94-2.06 2.06-.94-2.06-.94L8.5 2.5l-.94 2.06-2.06.94zm10 10l.94 2.06.94-2.06 2.06-.94-2.06-.94-.94-2.06-.94 2.06-2.06.94z\"/><path d=\"M17.41 7.96l-1.37-1.37c-.4-.4-.92-.59-1.43-.59-.52 0-1.04.2-1.43.59L10.3 9.45l-7.72 7.72c-.78.78-.78 2.05 0 2.83L4 21.41c.39.39.9.59 1.41.59.51 0 1.02-.2 1.41-.59l7.78-7.78 2.81-2.81c.8-.78.8-2.07 0-2.86zM5.41 20L4 18.59l7.72-7.72 1.47 1.35L5.41 20z\"/>\n",
              "  </svg>\n",
              "      </button>\n",
              "      \n",
              "  <style>\n",
              "    .colab-df-container {\n",
              "      display:flex;\n",
              "      flex-wrap:wrap;\n",
              "      gap: 12px;\n",
              "    }\n",
              "\n",
              "    .colab-df-convert {\n",
              "      background-color: #E8F0FE;\n",
              "      border: none;\n",
              "      border-radius: 50%;\n",
              "      cursor: pointer;\n",
              "      display: none;\n",
              "      fill: #1967D2;\n",
              "      height: 32px;\n",
              "      padding: 0 0 0 0;\n",
              "      width: 32px;\n",
              "    }\n",
              "\n",
              "    .colab-df-convert:hover {\n",
              "      background-color: #E2EBFA;\n",
              "      box-shadow: 0px 1px 2px rgba(60, 64, 67, 0.3), 0px 1px 3px 1px rgba(60, 64, 67, 0.15);\n",
              "      fill: #174EA6;\n",
              "    }\n",
              "\n",
              "    [theme=dark] .colab-df-convert {\n",
              "      background-color: #3B4455;\n",
              "      fill: #D2E3FC;\n",
              "    }\n",
              "\n",
              "    [theme=dark] .colab-df-convert:hover {\n",
              "      background-color: #434B5C;\n",
              "      box-shadow: 0px 1px 3px 1px rgba(0, 0, 0, 0.15);\n",
              "      filter: drop-shadow(0px 1px 2px rgba(0, 0, 0, 0.3));\n",
              "      fill: #FFFFFF;\n",
              "    }\n",
              "  </style>\n",
              "\n",
              "      <script>\n",
              "        const buttonEl =\n",
              "          document.querySelector('#df-52014ae2-2cfe-49e7-882b-02d3966ebf58 button.colab-df-convert');\n",
              "        buttonEl.style.display =\n",
              "          google.colab.kernel.accessAllowed ? 'block' : 'none';\n",
              "\n",
              "        async function convertToInteractive(key) {\n",
              "          const element = document.querySelector('#df-52014ae2-2cfe-49e7-882b-02d3966ebf58');\n",
              "          const dataTable =\n",
              "            await google.colab.kernel.invokeFunction('convertToInteractive',\n",
              "                                                     [key], {});\n",
              "          if (!dataTable) return;\n",
              "\n",
              "          const docLinkHtml = 'Like what you see? Visit the ' +\n",
              "            '<a target=\"_blank\" href=https://colab.research.google.com/notebooks/data_table.ipynb>data table notebook</a>'\n",
              "            + ' to learn more about interactive tables.';\n",
              "          element.innerHTML = '';\n",
              "          dataTable['output_type'] = 'display_data';\n",
              "          await google.colab.output.renderOutput(dataTable, element);\n",
              "          const docLink = document.createElement('div');\n",
              "          docLink.innerHTML = docLinkHtml;\n",
              "          element.appendChild(docLink);\n",
              "        }\n",
              "      </script>\n",
              "    </div>\n",
              "  </div>\n",
              "  "
            ]
          },
          "metadata": {},
          "execution_count": 20
        }
      ],
      "source": [
        "Cobertura_2000_2002.head()"
      ]
    },
    {
      "cell_type": "code",
      "execution_count": null,
      "metadata": {
        "colab": {
          "base_uri": "https://localhost:8080/"
        },
        "id": "KDrnHOIV_lZD",
        "outputId": "83a306e9-5788-4e7d-d90c-2bd16662b7ec"
      },
      "outputs": [
        {
          "data": {
            "text/plain": [
              "(11155, 16)"
            ]
          },
          "execution_count": 37,
          "metadata": {},
          "output_type": "execute_result"
        }
      ],
      "source": [
        "Cobertura_2018.shape"
      ]
    },
    {
      "cell_type": "code",
      "execution_count": null,
      "metadata": {
        "colab": {
          "base_uri": "https://localhost:8080/",
          "height": 300
        },
        "id": "fvIOpT49Qt4H",
        "outputId": "4d69b730-bde7-41d9-915f-d4f5ab37cebc"
      },
      "outputs": [
        {
          "data": {
            "text/html": [
              "\n",
              "  <div id=\"df-1307a20f-33aa-4bb5-bf60-227aa7d125cc\">\n",
              "    <div class=\"colab-df-container\">\n",
              "      <div>\n",
              "<style scoped>\n",
              "    .dataframe tbody tr th:only-of-type {\n",
              "        vertical-align: middle;\n",
              "    }\n",
              "\n",
              "    .dataframe tbody tr th {\n",
              "        vertical-align: top;\n",
              "    }\n",
              "\n",
              "    .dataframe thead th {\n",
              "        text-align: right;\n",
              "    }\n",
              "</style>\n",
              "<table border=\"1\" class=\"dataframe\">\n",
              "  <thead>\n",
              "    <tr style=\"text-align: right;\">\n",
              "      <th></th>\n",
              "      <th>codigo</th>\n",
              "      <th>Shape_Leng</th>\n",
              "      <th>Shape_Area</th>\n",
              "      <th>ruleid</th>\n",
              "    </tr>\n",
              "  </thead>\n",
              "  <tbody>\n",
              "    <tr>\n",
              "      <th>count</th>\n",
              "      <td>11155.000000</td>\n",
              "      <td>11155.000000</td>\n",
              "      <td>11155.000000</td>\n",
              "      <td>11155.000000</td>\n",
              "    </tr>\n",
              "    <tr>\n",
              "      <th>mean</th>\n",
              "      <td>15469.859794</td>\n",
              "      <td>0.167995</td>\n",
              "      <td>0.000426</td>\n",
              "      <td>28.590856</td>\n",
              "    </tr>\n",
              "    <tr>\n",
              "      <th>std</th>\n",
              "      <td>64098.170651</td>\n",
              "      <td>2.120138</td>\n",
              "      <td>0.011907</td>\n",
              "      <td>7.249063</td>\n",
              "    </tr>\n",
              "    <tr>\n",
              "      <th>min</th>\n",
              "      <td>111.000000</td>\n",
              "      <td>0.008249</td>\n",
              "      <td>0.000004</td>\n",
              "      <td>1.000000</td>\n",
              "    </tr>\n",
              "    <tr>\n",
              "      <th>25%</th>\n",
              "      <td>242.000000</td>\n",
              "      <td>0.043954</td>\n",
              "      <td>0.000036</td>\n",
              "      <td>26.000000</td>\n",
              "    </tr>\n",
              "    <tr>\n",
              "      <th>50%</th>\n",
              "      <td>244.000000</td>\n",
              "      <td>0.066887</td>\n",
              "      <td>0.000064</td>\n",
              "      <td>28.000000</td>\n",
              "    </tr>\n",
              "    <tr>\n",
              "      <th>75%</th>\n",
              "      <td>3222.000000</td>\n",
              "      <td>0.116724</td>\n",
              "      <td>0.000132</td>\n",
              "      <td>35.000000</td>\n",
              "    </tr>\n",
              "    <tr>\n",
              "      <th>max</th>\n",
              "      <td>321122.000000</td>\n",
              "      <td>152.607401</td>\n",
              "      <td>0.735840</td>\n",
              "      <td>52.000000</td>\n",
              "    </tr>\n",
              "  </tbody>\n",
              "</table>\n",
              "</div>\n",
              "      <button class=\"colab-df-convert\" onclick=\"convertToInteractive('df-1307a20f-33aa-4bb5-bf60-227aa7d125cc')\"\n",
              "              title=\"Convert this dataframe to an interactive table.\"\n",
              "              style=\"display:none;\">\n",
              "        \n",
              "  <svg xmlns=\"http://www.w3.org/2000/svg\" height=\"24px\"viewBox=\"0 0 24 24\"\n",
              "       width=\"24px\">\n",
              "    <path d=\"M0 0h24v24H0V0z\" fill=\"none\"/>\n",
              "    <path d=\"M18.56 5.44l.94 2.06.94-2.06 2.06-.94-2.06-.94-.94-2.06-.94 2.06-2.06.94zm-11 1L8.5 8.5l.94-2.06 2.06-.94-2.06-.94L8.5 2.5l-.94 2.06-2.06.94zm10 10l.94 2.06.94-2.06 2.06-.94-2.06-.94-.94-2.06-.94 2.06-2.06.94z\"/><path d=\"M17.41 7.96l-1.37-1.37c-.4-.4-.92-.59-1.43-.59-.52 0-1.04.2-1.43.59L10.3 9.45l-7.72 7.72c-.78.78-.78 2.05 0 2.83L4 21.41c.39.39.9.59 1.41.59.51 0 1.02-.2 1.41-.59l7.78-7.78 2.81-2.81c.8-.78.8-2.07 0-2.86zM5.41 20L4 18.59l7.72-7.72 1.47 1.35L5.41 20z\"/>\n",
              "  </svg>\n",
              "      </button>\n",
              "      \n",
              "  <style>\n",
              "    .colab-df-container {\n",
              "      display:flex;\n",
              "      flex-wrap:wrap;\n",
              "      gap: 12px;\n",
              "    }\n",
              "\n",
              "    .colab-df-convert {\n",
              "      background-color: #E8F0FE;\n",
              "      border: none;\n",
              "      border-radius: 50%;\n",
              "      cursor: pointer;\n",
              "      display: none;\n",
              "      fill: #1967D2;\n",
              "      height: 32px;\n",
              "      padding: 0 0 0 0;\n",
              "      width: 32px;\n",
              "    }\n",
              "\n",
              "    .colab-df-convert:hover {\n",
              "      background-color: #E2EBFA;\n",
              "      box-shadow: 0px 1px 2px rgba(60, 64, 67, 0.3), 0px 1px 3px 1px rgba(60, 64, 67, 0.15);\n",
              "      fill: #174EA6;\n",
              "    }\n",
              "\n",
              "    [theme=dark] .colab-df-convert {\n",
              "      background-color: #3B4455;\n",
              "      fill: #D2E3FC;\n",
              "    }\n",
              "\n",
              "    [theme=dark] .colab-df-convert:hover {\n",
              "      background-color: #434B5C;\n",
              "      box-shadow: 0px 1px 3px 1px rgba(0, 0, 0, 0.15);\n",
              "      filter: drop-shadow(0px 1px 2px rgba(0, 0, 0, 0.3));\n",
              "      fill: #FFFFFF;\n",
              "    }\n",
              "  </style>\n",
              "\n",
              "      <script>\n",
              "        const buttonEl =\n",
              "          document.querySelector('#df-1307a20f-33aa-4bb5-bf60-227aa7d125cc button.colab-df-convert');\n",
              "        buttonEl.style.display =\n",
              "          google.colab.kernel.accessAllowed ? 'block' : 'none';\n",
              "\n",
              "        async function convertToInteractive(key) {\n",
              "          const element = document.querySelector('#df-1307a20f-33aa-4bb5-bf60-227aa7d125cc');\n",
              "          const dataTable =\n",
              "            await google.colab.kernel.invokeFunction('convertToInteractive',\n",
              "                                                     [key], {});\n",
              "          if (!dataTable) return;\n",
              "\n",
              "          const docLinkHtml = 'Like what you see? Visit the ' +\n",
              "            '<a target=\"_blank\" href=https://colab.research.google.com/notebooks/data_table.ipynb>data table notebook</a>'\n",
              "            + ' to learn more about interactive tables.';\n",
              "          element.innerHTML = '';\n",
              "          dataTable['output_type'] = 'display_data';\n",
              "          await google.colab.output.renderOutput(dataTable, element);\n",
              "          const docLink = document.createElement('div');\n",
              "          docLink.innerHTML = docLinkHtml;\n",
              "          element.appendChild(docLink);\n",
              "        }\n",
              "      </script>\n",
              "    </div>\n",
              "  </div>\n",
              "  "
            ],
            "text/plain": [
              "              codigo    Shape_Leng    Shape_Area        ruleid\n",
              "count   11155.000000  11155.000000  11155.000000  11155.000000\n",
              "mean    15469.859794      0.167995      0.000426     28.590856\n",
              "std     64098.170651      2.120138      0.011907      7.249063\n",
              "min       111.000000      0.008249      0.000004      1.000000\n",
              "25%       242.000000      0.043954      0.000036     26.000000\n",
              "50%       244.000000      0.066887      0.000064     28.000000\n",
              "75%      3222.000000      0.116724      0.000132     35.000000\n",
              "max    321122.000000    152.607401      0.735840     52.000000"
            ]
          },
          "execution_count": 36,
          "metadata": {},
          "output_type": "execute_result"
        }
      ],
      "source": [
        "Cobertura_2018.describe()"
      ]
    },
    {
      "cell_type": "code",
      "execution_count": null,
      "metadata": {
        "colab": {
          "base_uri": "https://localhost:8080/"
        },
        "id": "qaRRPhAJQ3wW",
        "outputId": "bae429e5-fc0e-4386-8fa9-e67009b65b32"
      },
      "outputs": [
        {
          "name": "stdout",
          "output_type": "stream",
          "text": [
            "<class 'geopandas.geodataframe.GeoDataFrame'>\n",
            "RangeIndex: 11155 entries, 0 to 11154\n",
            "Data columns (total 16 columns):\n",
            " #   Column      Non-Null Count  Dtype   \n",
            "---  ------      --------------  -----   \n",
            " 0   codigo      11155 non-null  int64   \n",
            " 1   leyenda     11155 non-null  object  \n",
            " 2   insumo      11155 non-null  object  \n",
            " 3   apoyo       1465 non-null   object  \n",
            " 4   confiabili  11155 non-null  object  \n",
            " 5   cambio      11155 non-null  object  \n",
            " 6   nivel_1     11155 non-null  object  \n",
            " 7   nivel_2     11155 non-null  object  \n",
            " 8   nivel_3     11155 non-null  object  \n",
            " 9   nivel_4     4092 non-null   object  \n",
            " 10  nivel_5     818 non-null    object  \n",
            " 11  nivel_6     467 non-null    object  \n",
            " 12  Shape_Leng  11155 non-null  float64 \n",
            " 13  Shape_Area  11155 non-null  float64 \n",
            " 14  ruleid      11155 non-null  int64   \n",
            " 15  geometry    11155 non-null  geometry\n",
            "dtypes: float64(2), geometry(1), int64(2), object(11)\n",
            "memory usage: 1.4+ MB\n"
          ]
        }
      ],
      "source": [
        "Cobertura_2018.info()"
      ]
    },
    {
      "cell_type": "markdown",
      "source": [
        "##Rasterización y binario de **Suelos** (como coberturas_ shape escalar)"
      ],
      "metadata": {
        "id": "PtqFc5bky7db"
      }
    },
    {
      "cell_type": "code",
      "source": [
        "suelos=gp.read_file(\"/content/Cauca_all/Suelos_Cauca.shp\")"
      ],
      "metadata": {
        "id": "EPoDtt9VCxI7"
      },
      "execution_count": null,
      "outputs": []
    },
    {
      "cell_type": "code",
      "source": [
        "suelos.head()"
      ],
      "metadata": {
        "colab": {
          "base_uri": "https://localhost:8080/"
        },
        "id": "k3uuqN5LC8ya",
        "outputId": "a6bdc0d4-c38d-46fe-cd38-cfc2e5813aff"
      },
      "execution_count": null,
      "outputs": [
        {
          "output_type": "execute_result",
          "data": {
            "text/plain": [
              "   OBJECTID  UCS UCS_F                        PAISAJE              CLIMA  \\\n",
              "0       3.0  LUC  LUCe  Lomerío erosional estructural  Cálido muy húmedo   \n",
              "1       4.0  LUC  LUCd  Lomerío erosional estructural  Cálido muy húmedo   \n",
              "2       5.0  VUB  VUBa                  Valle aluvial  Cálido muy húmedo   \n",
              "3       7.0  VUB  VUBa                  Valle aluvial  Cálido muy húmedo   \n",
              "4       8.0  VUB  VUBa                  Valle aluvial  Cálido muy húmedo   \n",
              "\n",
              "            TIPO_RELIE                                       LITOLOGÍA  \\\n",
              "0      Lomas y colinas  Rocas sedimentaria (limolitas y conglomerados)   \n",
              "1      Lomas y colinas  Rocas sedimentaria (limolitas y conglomerados)   \n",
              "2  Plano de inundación              Depósitos aluviales heterométricos   \n",
              "3  Plano de inundación              Depósitos aluviales heterométricos   \n",
              "4  Plano de inundación              Depósitos aluviales heterométricos   \n",
              "\n",
              "  CARACTERÍ                                         CARACTER_1  \\\n",
              "0       N/A  Moderadamente profundos, bien drenados, textur...   \n",
              "1       N/A  Moderadamente profundos, bien drenados, textur...   \n",
              "2       N/A  Moderadamente profundos a muy superficiales, p...   \n",
              "3       N/A  Moderadamente profundos a muy superficiales, p...   \n",
              "4       N/A  Moderadamente profundos a muy superficiales, p...   \n",
              "\n",
              "                                          COMPONENTE          PERFIL  \\\n",
              "0   Asociación: Humic Dystrudepts; Typic Dystrudepts     P-441; N-59   \n",
              "1   Asociación: Humic Dystrudepts; Typic Dystrudepts     P-441; N-59   \n",
              "2  Asociación: Fluventic Eutrudepts; Typic Fluvaq...  PN-14; CH-11\\n   \n",
              "3  Asociación: Fluventic Eutrudepts; Typic Fluvaq...  PN-14; CH-11\\n   \n",
              "4  Asociación: Fluventic Eutrudepts; Typic Fluvaq...  PN-14; CH-11\\n   \n",
              "\n",
              "  PORCENTAJE      Área_ha    Shape_Leng    Shape_Area  \\\n",
              "0     50, 50  1868.544173  53304.719360  1.868544e+07   \n",
              "1     50, 50     9.403526   1954.660777  9.403526e+04   \n",
              "2     50, 50    66.247025   4488.510962  6.624702e+05   \n",
              "3     50, 50  5415.883525  51850.193028  5.415884e+07   \n",
              "4     50, 50     0.830261    439.791387  8.302610e+03   \n",
              "\n",
              "                                            geometry  \n",
              "0  MULTIPOLYGON (((4532594.700 1901627.448, 45326...  \n",
              "1  POLYGON ((4535262.636 1907256.445, 4535230.607...  \n",
              "2  POLYGON ((4540310.581 1908974.893, 4540352.551...  \n",
              "3  POLYGON ((4523635.196 1905571.474, 4523655.303...  \n",
              "4  POLYGON ((4526726.514 1904658.815, 4526692.572...  "
            ],
            "text/html": [
              "\n",
              "  <div id=\"df-78d34249-2c5a-442c-a479-15c68bbbeffe\">\n",
              "    <div class=\"colab-df-container\">\n",
              "      <div>\n",
              "<style scoped>\n",
              "    .dataframe tbody tr th:only-of-type {\n",
              "        vertical-align: middle;\n",
              "    }\n",
              "\n",
              "    .dataframe tbody tr th {\n",
              "        vertical-align: top;\n",
              "    }\n",
              "\n",
              "    .dataframe thead th {\n",
              "        text-align: right;\n",
              "    }\n",
              "</style>\n",
              "<table border=\"1\" class=\"dataframe\">\n",
              "  <thead>\n",
              "    <tr style=\"text-align: right;\">\n",
              "      <th></th>\n",
              "      <th>OBJECTID</th>\n",
              "      <th>UCS</th>\n",
              "      <th>UCS_F</th>\n",
              "      <th>PAISAJE</th>\n",
              "      <th>CLIMA</th>\n",
              "      <th>TIPO_RELIE</th>\n",
              "      <th>LITOLOGÍA</th>\n",
              "      <th>CARACTERÍ</th>\n",
              "      <th>CARACTER_1</th>\n",
              "      <th>COMPONENTE</th>\n",
              "      <th>PERFIL</th>\n",
              "      <th>PORCENTAJE</th>\n",
              "      <th>Área_ha</th>\n",
              "      <th>Shape_Leng</th>\n",
              "      <th>Shape_Area</th>\n",
              "      <th>geometry</th>\n",
              "    </tr>\n",
              "  </thead>\n",
              "  <tbody>\n",
              "    <tr>\n",
              "      <th>0</th>\n",
              "      <td>3.0</td>\n",
              "      <td>LUC</td>\n",
              "      <td>LUCe</td>\n",
              "      <td>Lomerío erosional estructural</td>\n",
              "      <td>Cálido muy húmedo</td>\n",
              "      <td>Lomas y colinas</td>\n",
              "      <td>Rocas sedimentaria (limolitas y conglomerados)</td>\n",
              "      <td>N/A</td>\n",
              "      <td>Moderadamente profundos, bien drenados, textur...</td>\n",
              "      <td>Asociación: Humic Dystrudepts; Typic Dystrudepts</td>\n",
              "      <td>P-441; N-59</td>\n",
              "      <td>50, 50</td>\n",
              "      <td>1868.544173</td>\n",
              "      <td>53304.719360</td>\n",
              "      <td>1.868544e+07</td>\n",
              "      <td>MULTIPOLYGON (((4532594.700 1901627.448, 45326...</td>\n",
              "    </tr>\n",
              "    <tr>\n",
              "      <th>1</th>\n",
              "      <td>4.0</td>\n",
              "      <td>LUC</td>\n",
              "      <td>LUCd</td>\n",
              "      <td>Lomerío erosional estructural</td>\n",
              "      <td>Cálido muy húmedo</td>\n",
              "      <td>Lomas y colinas</td>\n",
              "      <td>Rocas sedimentaria (limolitas y conglomerados)</td>\n",
              "      <td>N/A</td>\n",
              "      <td>Moderadamente profundos, bien drenados, textur...</td>\n",
              "      <td>Asociación: Humic Dystrudepts; Typic Dystrudepts</td>\n",
              "      <td>P-441; N-59</td>\n",
              "      <td>50, 50</td>\n",
              "      <td>9.403526</td>\n",
              "      <td>1954.660777</td>\n",
              "      <td>9.403526e+04</td>\n",
              "      <td>POLYGON ((4535262.636 1907256.445, 4535230.607...</td>\n",
              "    </tr>\n",
              "    <tr>\n",
              "      <th>2</th>\n",
              "      <td>5.0</td>\n",
              "      <td>VUB</td>\n",
              "      <td>VUBa</td>\n",
              "      <td>Valle aluvial</td>\n",
              "      <td>Cálido muy húmedo</td>\n",
              "      <td>Plano de inundación</td>\n",
              "      <td>Depósitos aluviales heterométricos</td>\n",
              "      <td>N/A</td>\n",
              "      <td>Moderadamente profundos a muy superficiales, p...</td>\n",
              "      <td>Asociación: Fluventic Eutrudepts; Typic Fluvaq...</td>\n",
              "      <td>PN-14; CH-11\\n</td>\n",
              "      <td>50, 50</td>\n",
              "      <td>66.247025</td>\n",
              "      <td>4488.510962</td>\n",
              "      <td>6.624702e+05</td>\n",
              "      <td>POLYGON ((4540310.581 1908974.893, 4540352.551...</td>\n",
              "    </tr>\n",
              "    <tr>\n",
              "      <th>3</th>\n",
              "      <td>7.0</td>\n",
              "      <td>VUB</td>\n",
              "      <td>VUBa</td>\n",
              "      <td>Valle aluvial</td>\n",
              "      <td>Cálido muy húmedo</td>\n",
              "      <td>Plano de inundación</td>\n",
              "      <td>Depósitos aluviales heterométricos</td>\n",
              "      <td>N/A</td>\n",
              "      <td>Moderadamente profundos a muy superficiales, p...</td>\n",
              "      <td>Asociación: Fluventic Eutrudepts; Typic Fluvaq...</td>\n",
              "      <td>PN-14; CH-11\\n</td>\n",
              "      <td>50, 50</td>\n",
              "      <td>5415.883525</td>\n",
              "      <td>51850.193028</td>\n",
              "      <td>5.415884e+07</td>\n",
              "      <td>POLYGON ((4523635.196 1905571.474, 4523655.303...</td>\n",
              "    </tr>\n",
              "    <tr>\n",
              "      <th>4</th>\n",
              "      <td>8.0</td>\n",
              "      <td>VUB</td>\n",
              "      <td>VUBa</td>\n",
              "      <td>Valle aluvial</td>\n",
              "      <td>Cálido muy húmedo</td>\n",
              "      <td>Plano de inundación</td>\n",
              "      <td>Depósitos aluviales heterométricos</td>\n",
              "      <td>N/A</td>\n",
              "      <td>Moderadamente profundos a muy superficiales, p...</td>\n",
              "      <td>Asociación: Fluventic Eutrudepts; Typic Fluvaq...</td>\n",
              "      <td>PN-14; CH-11\\n</td>\n",
              "      <td>50, 50</td>\n",
              "      <td>0.830261</td>\n",
              "      <td>439.791387</td>\n",
              "      <td>8.302610e+03</td>\n",
              "      <td>POLYGON ((4526726.514 1904658.815, 4526692.572...</td>\n",
              "    </tr>\n",
              "  </tbody>\n",
              "</table>\n",
              "</div>\n",
              "      <button class=\"colab-df-convert\" onclick=\"convertToInteractive('df-78d34249-2c5a-442c-a479-15c68bbbeffe')\"\n",
              "              title=\"Convert this dataframe to an interactive table.\"\n",
              "              style=\"display:none;\">\n",
              "        \n",
              "  <svg xmlns=\"http://www.w3.org/2000/svg\" height=\"24px\"viewBox=\"0 0 24 24\"\n",
              "       width=\"24px\">\n",
              "    <path d=\"M0 0h24v24H0V0z\" fill=\"none\"/>\n",
              "    <path d=\"M18.56 5.44l.94 2.06.94-2.06 2.06-.94-2.06-.94-.94-2.06-.94 2.06-2.06.94zm-11 1L8.5 8.5l.94-2.06 2.06-.94-2.06-.94L8.5 2.5l-.94 2.06-2.06.94zm10 10l.94 2.06.94-2.06 2.06-.94-2.06-.94-.94-2.06-.94 2.06-2.06.94z\"/><path d=\"M17.41 7.96l-1.37-1.37c-.4-.4-.92-.59-1.43-.59-.52 0-1.04.2-1.43.59L10.3 9.45l-7.72 7.72c-.78.78-.78 2.05 0 2.83L4 21.41c.39.39.9.59 1.41.59.51 0 1.02-.2 1.41-.59l7.78-7.78 2.81-2.81c.8-.78.8-2.07 0-2.86zM5.41 20L4 18.59l7.72-7.72 1.47 1.35L5.41 20z\"/>\n",
              "  </svg>\n",
              "      </button>\n",
              "      \n",
              "  <style>\n",
              "    .colab-df-container {\n",
              "      display:flex;\n",
              "      flex-wrap:wrap;\n",
              "      gap: 12px;\n",
              "    }\n",
              "\n",
              "    .colab-df-convert {\n",
              "      background-color: #E8F0FE;\n",
              "      border: none;\n",
              "      border-radius: 50%;\n",
              "      cursor: pointer;\n",
              "      display: none;\n",
              "      fill: #1967D2;\n",
              "      height: 32px;\n",
              "      padding: 0 0 0 0;\n",
              "      width: 32px;\n",
              "    }\n",
              "\n",
              "    .colab-df-convert:hover {\n",
              "      background-color: #E2EBFA;\n",
              "      box-shadow: 0px 1px 2px rgba(60, 64, 67, 0.3), 0px 1px 3px 1px rgba(60, 64, 67, 0.15);\n",
              "      fill: #174EA6;\n",
              "    }\n",
              "\n",
              "    [theme=dark] .colab-df-convert {\n",
              "      background-color: #3B4455;\n",
              "      fill: #D2E3FC;\n",
              "    }\n",
              "\n",
              "    [theme=dark] .colab-df-convert:hover {\n",
              "      background-color: #434B5C;\n",
              "      box-shadow: 0px 1px 3px 1px rgba(0, 0, 0, 0.15);\n",
              "      filter: drop-shadow(0px 1px 2px rgba(0, 0, 0, 0.3));\n",
              "      fill: #FFFFFF;\n",
              "    }\n",
              "  </style>\n",
              "\n",
              "      <script>\n",
              "        const buttonEl =\n",
              "          document.querySelector('#df-78d34249-2c5a-442c-a479-15c68bbbeffe button.colab-df-convert');\n",
              "        buttonEl.style.display =\n",
              "          google.colab.kernel.accessAllowed ? 'block' : 'none';\n",
              "\n",
              "        async function convertToInteractive(key) {\n",
              "          const element = document.querySelector('#df-78d34249-2c5a-442c-a479-15c68bbbeffe');\n",
              "          const dataTable =\n",
              "            await google.colab.kernel.invokeFunction('convertToInteractive',\n",
              "                                                     [key], {});\n",
              "          if (!dataTable) return;\n",
              "\n",
              "          const docLinkHtml = 'Like what you see? Visit the ' +\n",
              "            '<a target=\"_blank\" href=https://colab.research.google.com/notebooks/data_table.ipynb>data table notebook</a>'\n",
              "            + ' to learn more about interactive tables.';\n",
              "          element.innerHTML = '';\n",
              "          dataTable['output_type'] = 'display_data';\n",
              "          await google.colab.output.renderOutput(dataTable, element);\n",
              "          const docLink = document.createElement('div');\n",
              "          docLink.innerHTML = docLinkHtml;\n",
              "          element.appendChild(docLink);\n",
              "        }\n",
              "      </script>\n",
              "    </div>\n",
              "  </div>\n",
              "  "
            ]
          },
          "metadata": {},
          "execution_count": 10
        }
      ]
    },
    {
      "cell_type": "code",
      "source": [
        "\n",
        "from osgeo import gdal, ogr,osr\n",
        "\n",
        "# Define pixel_size and NoData value of new raster\n",
        "#pixel_size = 12\n",
        "NoData_value =-9999\n",
        "\n",
        "# Filename of input OGR file\n",
        "train_fn = r'/content/Cauca_all/Suelos_Cauca.shp'\n",
        "train_ds=ogr.Open(train_fn)\n",
        "\n",
        "# Filename of the raster Tiff that will be created\n",
        "raster_fn = r'/content/drive/MyDrive/Cauca_all/Suelos.tif'\n",
        "\n",
        "# Open the data source and read in the extent\n",
        "naip_fn= r'/content/drive/MyDrive/Cauca_all/cauca_mask.tif'\n",
        "naip_ds=gdal.Open(naip_fn)\n",
        "\n",
        "#tipo formato, proyección y extensión del raster\n",
        "lyr=train_ds.GetLayer()\n",
        "driver=gdal.GetDriverByName('GTiff')\n",
        "target_ds=driver.Create(raster_fn,naip_ds.RasterXSize,naip_ds.RasterYSize,1,gdal.GDT_Byte)\n",
        "target_ds.SetGeoTransform(naip_ds.GetGeoTransform())\n",
        "target_ds.SetProjection(naip_ds.GetProjection())\n",
        "options=['ATTRIBUTE=OBJECTID_1']\n",
        "\n",
        "#Rasterizar y seleccionar numero de bandas\n",
        "gdal.RasterizeLayer(target_ds,[1],lyr,options=options)\n",
        "\n",
        "#Write data to band 1\n",
        "#band = target_ds.GetRasterBand(1)\n",
        "#band.SetNoDataValue(0)\n",
        "#band=None\n",
        "#target_ds=None\n",
        "\n",
        "#para verificar valores antes de exportar archivo\n",
        "social=target_ds.GetRasterBand(1).ReadAsArray()\n",
        "print('min',social.min(),'max',social.max(),'mean',social.mean())"
      ],
      "metadata": {
        "id": "8jUY9L2Py--W"
      },
      "execution_count": null,
      "outputs": []
    },
    {
      "cell_type": "markdown",
      "source": [],
      "metadata": {
        "id": "-t_Hf93LKOjz"
      }
    },
    {
      "cell_type": "markdown",
      "metadata": {
        "id": "wSU95rf1PznR"
      },
      "source": [
        "#Calculo de distancias (función Proximity)"
      ]
    },
    {
      "cell_type": "markdown",
      "metadata": {
        "id": "DraRvrbxghAn"
      },
      "source": [
        "Hacer binarias las capas para los calculos de proximidad "
      ]
    },
    {
      "cell_type": "markdown",
      "metadata": {
        "id": "vqQPtlNEkYwy"
      },
      "source": [
        "transformación binaria del array con la mascara de Cauca"
      ]
    },
    {
      "cell_type": "code",
      "execution_count": null,
      "metadata": {
        "id": "xGLaWEWrg-G_"
      },
      "outputs": [],
      "source": [
        "#input\n",
        "vias= gdal.Open('/content/drive/MyDrive/Cauca_all/vias.tif')\n",
        "\n",
        "# Open the data source and read in the extent\n",
        "naip_fn= r'/content/drive/MyDrive/Cauca_all/cauca_mask.tif'\n",
        "naip_ds=gdal.Open(naip_fn)\n",
        "\n",
        "mask_band=naip_ds.GetRasterBand(1)\n",
        "cols = naip_ds.RasterXSize\n",
        "rows = naip_ds.RasterYSize\n",
        "\n",
        "vias_binario=r'/content/drive/MyDrive/Cauca_all/vias_binario.tif'\n",
        "\n",
        "calc_expression='vias>1'\n",
        "nodata_value=0\n",
        "\n",
        "# Create output raster\n",
        "output_driver = gdal.GetDriverByName('GTiff')\n",
        "output_raster = output_driver.Create(vias_binario, cols, rows, 1, gdal.GDT_Byte)\n",
        "output_raster.SetProjection(naip_ds.GetProjection())\n",
        "output_raster.SetGeoTransform(naip_ds.GetGeoTransform())\n",
        "\n",
        "# Set the mask for the output raster\n",
        "output_raster.GetRasterBand(1)\n",
        "\n",
        "# Perform binary transformation\n",
        "os.system('gdal_calc.py -A {0} --outfile={1} --calc=\"{2}\" --NoDataValue={3}'.format(vias.GetDescription(), output_raster.GetDescription(), calc_expression, nodata_value))\n",
        "\n",
        "# Save and close output raster\n",
        "#output_raster.FlushCache()\n",
        "output_raster = None\n"
      ]
    },
    {
      "cell_type": "markdown",
      "metadata": {
        "id": "uCqZxlm2kWdx"
      },
      "source": [
        "##Cálculo de proximidad#"
      ]
    },
    {
      "cell_type": "markdown",
      "source": [
        "APLICACIÓN DE FUNCIÓN \"gdal.proximity.py\". Los raster deben estar binarios para la instrucción del calculo de distancia a los pixeles con valor=1"
      ],
      "metadata": {
        "id": "bDGaXV7F0jX3"
      }
    },
    {
      "cell_type": "markdown",
      "source": [
        "Distancia a Vias"
      ],
      "metadata": {
        "id": "OuOKGGn51CmM"
      }
    },
    {
      "cell_type": "code",
      "source": [
        "import os\n",
        "from osgeo import gdal"
      ],
      "metadata": {
        "id": "SpMUSlCT1d5s"
      },
      "execution_count": null,
      "outputs": []
    },
    {
      "cell_type": "code",
      "source": [
        "# input raster file\n",
        "in_file = \"/content/drive/MyDrive/Cauca_all/bin_vias.tif\"\n",
        "\n",
        "# output raster file (proximity distances)\n",
        "out_file = \"/content/drive/MyDrive/Cauca_all/vias_distance.tif\"\n",
        "\n",
        "# distance unit (in pixels)\n",
        "unit = \"PIXEL\" #could be in \"METERS\"\n",
        "\n",
        "# run gdal_proximity.py as a subprocess\n",
        "cmd = f\"gdal_proximity.py {in_file} {out_file} -values 1 -distunits {unit}\"\n",
        "os.system(cmd)\n",
        "\n",
        "# read the output raster file into a numpy array\n",
        "proximity_ds = gdal.Open(out_file)\n",
        "proximity_arr = proximity_ds.ReadAsArray()\n",
        "proximity_ds = None  # close the dataset\n",
        "print('min',proximity_arr.min(),'max',proximity_arr.max(),'mean',proximity_arr.mean())"
      ],
      "metadata": {
        "id": "JeOhU3hPyXLm"
      },
      "execution_count": null,
      "outputs": []
    },
    {
      "cell_type": "markdown",
      "source": [
        "Distancia a Drenajes (doble y sencillo)"
      ],
      "metadata": {
        "id": "ASbTsAaJ1JiF"
      }
    },
    {
      "cell_type": "code",
      "execution_count": null,
      "metadata": {
        "colab": {
          "base_uri": "https://localhost:8080/"
        },
        "id": "2RIndENYaDTD",
        "outputId": "9c27dc56-0bf5-4139-f62f-ec208a0675d3"
      },
      "outputs": [
        {
          "output_type": "stream",
          "name": "stdout",
          "text": [
            "min 0.0 max 8759.872 mean 1046.5925\n"
          ]
        }
      ],
      "source": [
        "# input raster file\n",
        "in_file = \"/content/drive/MyDrive/Cauca_all/bin_drenaje.tif\"\n",
        "\n",
        "# output raster file (proximity distances)\n",
        "out_file = \"/content/drive/MyDrive/Cauca_all/drenaje_distance.tif\"\n",
        "\n",
        "# distance unit (in pixels)\n",
        "unit = \"PIXEL\" #could be in \"METERS\"\n",
        "\n",
        "# run gdal_proximity.py as a subprocess\n",
        "cmd = f\"gdal_proximity.py {in_file} {out_file} -values 1 -distunits {unit}\"\n",
        "os.system(cmd)\n",
        "\n",
        "# read the output raster file into a numpy array\n",
        "proximity_ds = gdal.Open(out_file)\n",
        "proximity_arr = proximity_ds.ReadAsArray()\n",
        "proximity_ds = None  # close the dataset\n",
        "print('min',proximity_arr.min(),'max',proximity_arr.max(),'mean',proximity_arr.mean())"
      ]
    },
    {
      "cell_type": "markdown",
      "source": [
        "Distancia a Centros Poblados "
      ],
      "metadata": {
        "id": "OYEKbnAC1Slu"
      }
    },
    {
      "cell_type": "code",
      "source": [
        "# input raster file\n",
        "in_file = \"/content/drive/MyDrive/Cauca_all/bin_centros_poblados.tif\"\n",
        "\n",
        "# output raster file (proximity distances)\n",
        "out_file = \"/content/drive/MyDrive/Cauca_all/centros_poblados_distance.tif\"\n",
        "\n",
        "# distance unit (in pixels)\n",
        "unit = \"PIXEL\" #could be in \"METERS\"\n",
        "\n",
        "# run gdal_proximity.py as a subprocess\n",
        "cmd = f\"gdal_proximity.py {in_file} {out_file} -values 1 -distunits {unit}\"\n",
        "os.system(cmd)\n",
        "\n",
        "# read the output raster file into a numpy array\n",
        "proximity_ds = gdal.Open(out_file)\n",
        "proximity_arr = proximity_ds.ReadAsArray()\n",
        "proximity_ds = None  # close the dataset\n",
        "print('min',proximity_arr.min(),'max',proximity_arr.max(),'mean',proximity_arr.mean())"
      ],
      "metadata": {
        "colab": {
          "base_uri": "https://localhost:8080/"
        },
        "id": "aer6nX_H1V1E",
        "outputId": "89e33ce1-edab-45f6-db3f-286cecdeb88b"
      },
      "execution_count": null,
      "outputs": [
        {
          "output_type": "stream",
          "name": "stdout",
          "text": [
            "min 0.0 max 8813.904 mean 1748.7643\n"
          ]
        }
      ]
    },
    {
      "cell_type": "markdown",
      "metadata": {
        "id": "7mHY7sja0U7W"
      },
      "source": [
        "#Visualización del DEM##"
      ]
    },
    {
      "cell_type": "code",
      "execution_count": null,
      "metadata": {
        "id": "kO0iVmMclsNr"
      },
      "outputs": [],
      "source": [
        "dem = gdal.Open(\"/content/drive/MyDrive/Cauca_all/dem_cauca.tif\")"
      ]
    },
    {
      "cell_type": "code",
      "execution_count": null,
      "metadata": {
        "colab": {
          "base_uri": "https://localhost:8080/"
        },
        "id": "UXaYvJF8mOKW",
        "outputId": "61a328f6-f932-43a8-db67-0f775ea63341"
      },
      "outputs": [
        {
          "output_type": "stream",
          "name": "stdout",
          "text": [
            "PROJCS[\"MAGNA-SIRGAS_Origen-Nacional\",GEOGCS[\"GCS_MAGNA\",DATUM[\"MAGNA\",SPHEROID[\"GRS_1980\",6378137,298.257222101]],PRIMEM[\"Greenwich\",0],UNIT[\"degree\",0.0174532925199433,AUTHORITY[\"EPSG\",\"9122\"]]],PROJECTION[\"Transverse_Mercator\"],PARAMETER[\"latitude_of_origin\",4],PARAMETER[\"central_meridian\",-73],PARAMETER[\"scale_factor\",0.9992],PARAMETER[\"false_easting\",5000000],PARAMETER[\"false_northing\",2000000],UNIT[\"metre\",1,AUTHORITY[\"EPSG\",\"9001\"]],AXIS[\"Easting\",EAST],AXIS[\"Northing\",NORTH]]\n"
          ]
        }
      ],
      "source": [
        "proj=dem.GetProjection()\n",
        "print(proj)"
      ]
    },
    {
      "cell_type": "code",
      "execution_count": null,
      "metadata": {
        "id": "2P4QCkx0m03Q"
      },
      "outputs": [],
      "source": [
        "band=dem.GetRasterBand(1)\n",
        "array=band.ReadAsArray()"
      ]
    },
    {
      "cell_type": "code",
      "source": [
        "array.shape"
      ],
      "metadata": {
        "id": "BdFClYz39WiS"
      },
      "execution_count": null,
      "outputs": []
    },
    {
      "cell_type": "code",
      "execution_count": null,
      "metadata": {
        "colab": {
          "base_uri": "https://localhost:8080/",
          "height": 435
        },
        "id": "3LrDDCmXnPEZ",
        "outputId": "7d281a7b-8c63-4b1e-e7fb-de8be8de439a"
      },
      "outputs": [
        {
          "output_type": "display_data",
          "data": {
            "text/plain": [
              "<Figure size 640x480 with 1 Axes>"
            ],
            "image/png": "[encoded data removed]"
          },
          "metadata": {}
        }
      ],
      "source": [
        "plt.figure()\n",
        "plt.imshow(array)\n",
        "plt.show()"
      ]
    },
    {
      "cell_type": "markdown",
      "metadata": {
        "id": "u5-J6_ah85gd"
      },
      "source": [
        "#Calculo Slope with DEM#"
      ]
    },
    {
      "cell_type": "markdown",
      "source": [
        "Con Gdal "
      ],
      "metadata": {
        "id": "aCp5o8eG6U0g"
      }
    },
    {
      "cell_type": "code",
      "source": [
        "import osgeo.gdal as gdal\n",
        "import subprocess\n",
        "import os"
      ],
      "metadata": {
        "id": "cFTy89FypU7A"
      },
      "execution_count": null,
      "outputs": []
    },
    {
      "cell_type": "code",
      "source": [
        "print(gdal.__version__) #Se requiere almenos la version 3 de gdal"
      ],
      "metadata": {
        "colab": {
          "base_uri": "https://localhost:8080/"
        },
        "id": "3xKZpWWLuEPS",
        "outputId": "15da3910-c5e2-43dc-db60-f1ecd166ea97"
      },
      "execution_count": null,
      "outputs": [
        {
          "output_type": "stream",
          "name": "stdout",
          "text": [
            "3.3.2\n"
          ]
        }
      ]
    },
    {
      "cell_type": "code",
      "source": [
        "dem='/content/drive/MyDrive/Cauca_all/dem_cauca.tif'\n",
        "slope='/content/drive/MyDrive/Cauca_all/slope_cauca.tif'"
      ],
      "metadata": {
        "id": "R3He6tu55Crt"
      },
      "execution_count": null,
      "outputs": []
    },
    {
      "cell_type": "code",
      "source": [
        "options=gdal.DEMProcessingOptions(slopeFormat='GTiff')\n"
      ],
      "metadata": {
        "id": "a8VfQ_u2reUT"
      },
      "execution_count": null,
      "outputs": []
    },
    {
      "cell_type": "code",
      "source": [
        "gdal.DEMProcessing(slope,dem,'slope', options=options)"
      ],
      "metadata": {
        "colab": {
          "base_uri": "https://localhost:8080/"
        },
        "id": "SHTlgncHuoHp",
        "outputId": "346e29aa-6b96-4cca-a445-60a62c83c167"
      },
      "execution_count": null,
      "outputs": [
        {
          "output_type": "execute_result",
          "data": {
            "text/plain": [
              "<osgeo.gdal.Dataset; proxy of <Swig Object of type 'GDALDatasetShadow *' at 0x7fcfec357990> >"
            ]
          },
          "metadata": {},
          "execution_count": 30
        }
      ]
    },
    {
      "cell_type": "code",
      "source": [
        "slope_array=gdal.Open(slope)\n",
        "slope_data=slope_array.ReadAsArray()"
      ],
      "metadata": {
        "id": "iQ4xPp4UuzJI"
      },
      "execution_count": null,
      "outputs": []
    },
    {
      "cell_type": "code",
      "source": [
        "slope_data.shape"
      ],
      "metadata": {
        "colab": {
          "base_uri": "https://localhost:8080/"
        },
        "id": "phVIl5OaviCf",
        "outputId": "3acf52b2-7f47-41a7-8755-291894c0a5b1"
      },
      "execution_count": null,
      "outputs": [
        {
          "output_type": "execute_result",
          "data": {
            "text/plain": [
              "(21938, 20299)"
            ]
          },
          "metadata": {},
          "execution_count": 32
        }
      ]
    },
    {
      "cell_type": "markdown",
      "source": [
        "con Rasterio (Este funciono mejor)"
      ],
      "metadata": {
        "id": "3_zegIQ56XCf"
      }
    },
    {
      "cell_type": "code",
      "execution_count": null,
      "metadata": {
        "id": "exqFmTYE7ug-"
      },
      "outputs": [],
      "source": [
        "import rasterio\n",
        "from rasterio.plot import show\n",
        "import matplotlib.pyplot as plt\n",
        "import numpy as np"
      ]
    },
    {
      "cell_type": "code",
      "source": [
        "import rasterio\n",
        "from rasterio.enums import Resampling\n",
        "\n",
        "# Set the paths to the input and output files\n",
        "dem='/content/drive/MyDrive/Cauca_all/dem_cauca.tif'\n",
        "slope_cauca='/content/drive/MyDrive/Cauca_all/slope_cauca.tif'\n",
        "\n",
        "# Open the input raster using rasterio\n",
        "with rasterio.open(dem) as src:\n",
        "    # Calculate the slope\n",
        "    slope = src.read(1, masked=True)\n",
        "    transform = src.transform\n",
        "    slope_degrees = np.arctan(slope / np.sqrt(transform.a ** 2 + transform.c ** 2)) * (180 / np.pi)\n",
        "\n",
        "    # Write the output raster using rasterio\n",
        "    kwargs = src.meta\n",
        "    kwargs.update(dtype=rasterio.float32, count=1, compress='lzw')\n",
        "    with rasterio.open(slope_cauca, 'w', **kwargs) as dst:\n",
        "        dst.write(slope_degrees.astype(rasterio.float32), 1)\n",
        "\n",
        "# Load the output raster using rasterio\n",
        "with rasterio.open(slope_cauca) as src:\n",
        "    slope_data = src.read(1, masked=True)\n",
        "\n",
        "# Do something with the slope data.."
      ],
      "metadata": {
        "id": "T2PxUJvK6Yxw"
      },
      "execution_count": null,
      "outputs": []
    }
  ],
  "metadata": {
    "colab": {
      "collapsed_sections": [
        "c2IbGZ5b46w4",
        "Gpm1WaBqQW6Q",
        "AMhUDcOp_HiC",
        "-VT_DcBSCkxG",
        "J7C0gluQn8Ed",
        "odzJXppYuvrL",
        "lZ2bmskWS1rt",
        "u5-J6_ah85gd"
      ],
      "provenance": [],
      "authorship_tag": "ABX9TyPMhGlbmK6myhwimN3GvYwO",
      "include_colab_link": true
    },
    "kernelspec": {
      "display_name": "Python 3",
      "name": "python3"
    },
    "language_info": {
      "name": "python"
    }
  },
  "nbformat": 4,
  "nbformat_minor": 0
}